{
 "cells": [
  {
   "cell_type": "markdown",
   "id": "358ccb3e-abc7-4fa7-85f3-115d3724d9b5",
   "metadata": {},
   "source": [
    "#### This program estimates alpha according to author(first/total authors) frequency\n",
    "We bin the articles for each quarter into two bins: \n",
    "    1. Written by authors with fewer than three publications in that month \n",
    "    2. Written by authors with two or more publications in that month "
   ]
  },
  {
   "cell_type": "code",
   "execution_count": 5,
   "id": "e24343dd-f8c4-4979-ba8e-b8b26c7aef79",
   "metadata": {},
   "outputs": [],
   "source": [
    "from base import * \n",
    "import pandas as pd \n",
    "import os \n",
    "import pickle \n",
    "from pathlib import Path \n",
    "from src.estimation import estimate_text_distribution\n",
    "from src.MLE import MLE\n",
    "import warnings\n",
    "import numpy as np \n",
    "import matplotlib.pyplot as plt \n",
    "from copy import deepcopy \n",
    "warnings.filterwarnings(\"ignore\")"
   ]
  },
  {
   "cell_type": "code",
   "execution_count": 3,
   "id": "208a2f98-bbdb-4462-9532-5d07a5a08dbf",
   "metadata": {},
   "outputs": [],
   "source": [
    "subject = \"education\"\n",
    "base_loc = f\"inference_data/{subject}\"\n",
    "years = [2024, 2023, 2022, 2021]"
   ]
  },
  {
   "cell_type": "code",
   "execution_count": 46,
   "id": "dafffc4b-3d42-4285-a407-96890841e710",
   "metadata": {},
   "outputs": [],
   "source": [
    "def categorize_by_authors(collection):\n",
    "    \"\"\"\n",
    "    maps authors to their corresponding articles  \n",
    "    Args:\n",
    "        collection: (base.ArticleCollection)\n",
    "    Returns:\n",
    "        (dict) (str) author name -> (List[int]) List of article ids\n",
    "    \"\"\"\n",
    "    \n",
    "    author_dict = {}\n",
    "    count = 0 \n",
    "    for ar_id in collection.all_articles:\n",
    "        count += 1\n",
    "        ar = collection.all_articles[ar_id]\n",
    "        if ar.authors is not None and len(ar.authors) > 0:\n",
    "            # all author data \n",
    "            #for author in ar.authors:\n",
    "            #    if author not in author_dict:\n",
    "            #        author_dict[author] = []\n",
    "            #    author_dict[author].append(ar_id)\n",
    "            \n",
    "            ## first author data \n",
    "            author = ar.authors[0]\n",
    "            if author not in author_dict:\n",
    "                author_dict[author] = []\n",
    "            author_dict[author].append(ar_id)\n",
    "\n",
    "    return author_dict\n",
    "\n",
    "def bin_by_freq(data_dict, cutoff=2):\n",
    "    \"\"\"\n",
    "    bins the data into two groups according to the cutoff\n",
    "    Args:\n",
    "        cutoff: (int) \n",
    "        data_dict: (dict) (object) -> List[object]\n",
    "    \"\"\"\n",
    "    \n",
    "    cutoff_left = []\n",
    "    cutoff_right = []\n",
    "    for key in data_dict:\n",
    "        if len(data_dict[key]) <= cutoff:\n",
    "            cutoff_left += data_dict[key]\n",
    "        else:\n",
    "            cutoff_right += data_dict[key]\n",
    "            \n",
    "    return set(cutoff_left), set(cutoff_right)\n",
    "\n",
    "def add_to_sub_collection(sub_collection, main_collection, ids=None):\n",
    "    \"\"\"\n",
    "    add selected articles from the main collection to sub-collection\n",
    "    Args:\n",
    "        sub_collection: (ArticleCollection)\n",
    "        main_collection: (ArticleCollection) \n",
    "        ids: (List[object]) list of ids of articles of interest \n",
    "    \"\"\"\n",
    "    if ids is None:\n",
    "        ids = list(main_collection.all_articles.keys())\n",
    "    for id_ in ids:\n",
    "        sub_collection.add_article(main_collection.get_article(id_), id_)\n",
    "\n",
    "def combine_collections(coll_list):\n",
    "    \"\"\"\n",
    "    combine the a group of collections into a single collection\n",
    "    \"\"\"\n",
    "    if coll_list is None:\n",
    "        raise ValueError(\"the parameter is None\")\n",
    "    if len(coll_list) == 0:\n",
    "        raise ValueError(\"empty collection list\")\n",
    "        \n",
    "    sample = coll_list[0]\n",
    "    collection = ArticleCollection(subject=sample.subject)\n",
    "    for coll in coll_list:\n",
    "        add_to_sub_collection(collection, coll)\n",
    "        \n",
    "    return collection \n",
    "    "
   ]
  },
  {
   "cell_type": "code",
   "execution_count": null,
   "id": "3c3b7aca-9290-47df-b93f-6b7c2a9f3c5d",
   "metadata": {},
   "outputs": [],
   "source": []
  },
  {
   "cell_type": "code",
   "execution_count": 47,
   "id": "bf0e1637-df47-4c71-9f27-974282476af9",
   "metadata": {},
   "outputs": [
    {
     "name": "stdout",
     "output_type": "stream",
     "text": [
      "Year: 2024, Month:1, Size:2836\n",
      "Year: 2024, Month:2, Size:2353\n",
      "Year: 2024, Month:3, Size:2893\n",
      "combined_size: 8082\n",
      "Year: 2024, Months: 1-3, total: 8082, less than 2: 7663, more than 2:377\n",
      "Exporting parquet\n"
     ]
    },
    {
     "name": "stderr",
     "output_type": "stream",
     "text": [
      "100%|███████████████████████████████████████| 7663/7663 [03:23<00:00, 37.70it/s]\n"
     ]
    },
    {
     "name": "stdout",
     "output_type": "stream",
     "text": [
      "File Exported as: inference_data/parquet_files/first_author_quarterly/education/2024/education_2024_1_less.parquet\n",
      "Exporting parquet\n"
     ]
    },
    {
     "name": "stderr",
     "output_type": "stream",
     "text": [
      "100%|█████████████████████████████████████████| 377/377 [00:06<00:00, 54.11it/s]\n"
     ]
    },
    {
     "name": "stdout",
     "output_type": "stream",
     "text": [
      "File Exported as: inference_data/parquet_files/first_author_quarterly/education/2024/education_2024_1_more.parquet\n",
      "Year: 2024, Month:4, Size:1166\n",
      "Year: 2024, Month:5, Size:6\n",
      "Year: 2024, Month:6, Size:25\n",
      "combined_size: 1197\n",
      "Year: 2024, Months: 4-6, total: 1197, less than 2: 1177, more than 2:20\n",
      "Exporting parquet\n"
     ]
    },
    {
     "name": "stderr",
     "output_type": "stream",
     "text": [
      "100%|███████████████████████████████████████| 1177/1177 [00:33<00:00, 35.41it/s]\n"
     ]
    },
    {
     "name": "stdout",
     "output_type": "stream",
     "text": [
      "File Exported as: inference_data/parquet_files/first_author_quarterly/education/2024/education_2024_2_less.parquet\n",
      "Exporting parquet\n"
     ]
    },
    {
     "name": "stderr",
     "output_type": "stream",
     "text": [
      "100%|███████████████████████████████████████████| 20/20 [00:00<00:00, 21.72it/s]\n"
     ]
    },
    {
     "name": "stdout",
     "output_type": "stream",
     "text": [
      "File Exported as: inference_data/parquet_files/first_author_quarterly/education/2024/education_2024_2_more.parquet\n",
      "Year: 2024, Month:7, Size:0\n",
      "Year: 2024, Month:8, Size:4\n",
      "Year: 2024, Month:9, Size:1\n",
      "combined_size: 5\n",
      "Year: 2024, Months: 7-9, total: 5, less than 2: 5, more than 2:0\n",
      "Exporting parquet\n"
     ]
    },
    {
     "name": "stderr",
     "output_type": "stream",
     "text": [
      "100%|█████████████████████████████████████████████| 5/5 [00:00<00:00, 26.15it/s]\n"
     ]
    },
    {
     "name": "stdout",
     "output_type": "stream",
     "text": [
      "File Exported as: inference_data/parquet_files/first_author_quarterly/education/2024/education_2024_3_less.parquet\n",
      "Exporting parquet\n"
     ]
    },
    {
     "name": "stderr",
     "output_type": "stream",
     "text": [
      "0it [00:00, ?it/s]\n"
     ]
    },
    {
     "name": "stdout",
     "output_type": "stream",
     "text": [
      "File Exported as: inference_data/parquet_files/first_author_quarterly/education/2024/education_2024_3_more.parquet\n",
      "Year: 2024, Month:10, Size:0\n",
      "Year: 2024, Month:11, Size:0\n",
      "Year: 2024, Month:12, Size:2\n",
      "combined_size: 2\n",
      "Year: 2024, Months: 10-12, total: 2, less than 2: 2, more than 2:0\n",
      "Exporting parquet\n"
     ]
    },
    {
     "name": "stderr",
     "output_type": "stream",
     "text": [
      "100%|█████████████████████████████████████████████| 2/2 [00:00<00:00, 30.52it/s]\n"
     ]
    },
    {
     "name": "stdout",
     "output_type": "stream",
     "text": [
      "File Exported as: inference_data/parquet_files/first_author_quarterly/education/2024/education_2024_4_less.parquet\n",
      "Exporting parquet\n"
     ]
    },
    {
     "name": "stderr",
     "output_type": "stream",
     "text": [
      "0it [00:00, ?it/s]\n"
     ]
    },
    {
     "name": "stdout",
     "output_type": "stream",
     "text": [
      "File Exported as: inference_data/parquet_files/first_author_quarterly/education/2024/education_2024_4_more.parquet\n",
      "Year: 2023, Month:1, Size:2677\n",
      "Year: 2023, Month:2, Size:2532\n",
      "Year: 2023, Month:3, Size:3504\n",
      "combined_size: 8713\n",
      "Year: 2023, Months: 1-3, total: 8713, less than 2: 7974, more than 2:644\n",
      "Exporting parquet\n"
     ]
    },
    {
     "name": "stderr",
     "output_type": "stream",
     "text": [
      "100%|███████████████████████████████████████| 7974/7974 [03:38<00:00, 36.57it/s]\n"
     ]
    },
    {
     "name": "stdout",
     "output_type": "stream",
     "text": [
      "File Exported as: inference_data/parquet_files/first_author_quarterly/education/2023/education_2023_1_less.parquet\n",
      "Exporting parquet\n"
     ]
    },
    {
     "name": "stderr",
     "output_type": "stream",
     "text": [
      "100%|█████████████████████████████████████████| 644/644 [00:14<00:00, 45.78it/s]\n"
     ]
    },
    {
     "name": "stdout",
     "output_type": "stream",
     "text": [
      "File Exported as: inference_data/parquet_files/first_author_quarterly/education/2023/education_2023_1_more.parquet\n",
      "Year: 2023, Month:4, Size:3573\n",
      "Year: 2023, Month:5, Size:3737\n",
      "Year: 2023, Month:6, Size:4869\n",
      "combined_size: 12179\n",
      "Year: 2023, Months: 4-6, total: 12179, less than 2: 11005, more than 2:1109\n",
      "Exporting parquet\n"
     ]
    },
    {
     "name": "stderr",
     "output_type": "stream",
     "text": [
      "100%|█████████████████████████████████████| 11005/11005 [05:02<00:00, 36.39it/s]\n"
     ]
    },
    {
     "name": "stdout",
     "output_type": "stream",
     "text": [
      "File Exported as: inference_data/parquet_files/first_author_quarterly/education/2023/education_2023_2_less.parquet\n",
      "Exporting parquet\n"
     ]
    },
    {
     "name": "stderr",
     "output_type": "stream",
     "text": [
      "100%|███████████████████████████████████████| 1109/1109 [00:23<00:00, 47.13it/s]\n"
     ]
    },
    {
     "name": "stdout",
     "output_type": "stream",
     "text": [
      "File Exported as: inference_data/parquet_files/first_author_quarterly/education/2023/education_2023_2_more.parquet\n",
      "Year: 2023, Month:7, Size:3365\n",
      "Year: 2023, Month:8, Size:2926\n",
      "Year: 2023, Month:9, Size:2752\n",
      "combined_size: 9043\n",
      "Year: 2023, Months: 7-9, total: 9043, less than 2: 8550, more than 2:455\n",
      "Exporting parquet\n"
     ]
    },
    {
     "name": "stderr",
     "output_type": "stream",
     "text": [
      "100%|███████████████████████████████████████| 8550/8550 [04:14<00:00, 33.62it/s]\n"
     ]
    },
    {
     "name": "stdout",
     "output_type": "stream",
     "text": [
      "File Exported as: inference_data/parquet_files/first_author_quarterly/education/2023/education_2023_3_less.parquet\n",
      "Exporting parquet\n"
     ]
    },
    {
     "name": "stderr",
     "output_type": "stream",
     "text": [
      "100%|█████████████████████████████████████████| 455/455 [00:11<00:00, 38.25it/s]\n"
     ]
    },
    {
     "name": "stdout",
     "output_type": "stream",
     "text": [
      "File Exported as: inference_data/parquet_files/first_author_quarterly/education/2023/education_2023_3_more.parquet\n",
      "Year: 2023, Month:10, Size:2878\n",
      "Year: 2023, Month:11, Size:3090\n",
      "Year: 2023, Month:12, Size:4704\n",
      "combined_size: 10672\n",
      "Year: 2023, Months: 10-12, total: 10672, less than 2: 10209, more than 2:405\n",
      "Exporting parquet\n"
     ]
    },
    {
     "name": "stderr",
     "output_type": "stream",
     "text": [
      "100%|█████████████████████████████████████| 10209/10209 [04:39<00:00, 36.51it/s]\n"
     ]
    },
    {
     "name": "stdout",
     "output_type": "stream",
     "text": [
      "File Exported as: inference_data/parquet_files/first_author_quarterly/education/2023/education_2023_4_less.parquet\n",
      "Exporting parquet\n"
     ]
    },
    {
     "name": "stderr",
     "output_type": "stream",
     "text": [
      "100%|█████████████████████████████████████████| 405/405 [00:08<00:00, 47.07it/s]\n"
     ]
    },
    {
     "name": "stdout",
     "output_type": "stream",
     "text": [
      "File Exported as: inference_data/parquet_files/first_author_quarterly/education/2023/education_2023_4_more.parquet\n",
      "Year: 2022, Month:1, Size:2098\n",
      "Year: 2022, Month:2, Size:2198\n",
      "Year: 2022, Month:3, Size:2403\n",
      "combined_size: 6699\n",
      "Year: 2022, Months: 1-3, total: 6699, less than 2: 6165, more than 2:509\n",
      "Exporting parquet\n"
     ]
    },
    {
     "name": "stderr",
     "output_type": "stream",
     "text": [
      "100%|███████████████████████████████████████| 6165/6165 [02:55<00:00, 35.10it/s]\n"
     ]
    },
    {
     "name": "stdout",
     "output_type": "stream",
     "text": [
      "File Exported as: inference_data/parquet_files/first_author_quarterly/education/2022/education_2022_1_less.parquet\n",
      "Exporting parquet\n"
     ]
    },
    {
     "name": "stderr",
     "output_type": "stream",
     "text": [
      "100%|█████████████████████████████████████████| 509/509 [00:12<00:00, 40.69it/s]\n"
     ]
    },
    {
     "name": "stdout",
     "output_type": "stream",
     "text": [
      "File Exported as: inference_data/parquet_files/first_author_quarterly/education/2022/education_2022_1_more.parquet\n",
      "Year: 2022, Month:4, Size:2489\n",
      "Year: 2022, Month:5, Size:2292\n",
      "Year: 2022, Month:6, Size:3870\n",
      "combined_size: 8651\n",
      "Year: 2022, Months: 4-6, total: 8651, less than 2: 7994, more than 2:630\n",
      "Exporting parquet\n"
     ]
    },
    {
     "name": "stderr",
     "output_type": "stream",
     "text": [
      "100%|███████████████████████████████████████| 7994/7994 [03:36<00:00, 36.94it/s]\n"
     ]
    },
    {
     "name": "stdout",
     "output_type": "stream",
     "text": [
      "File Exported as: inference_data/parquet_files/first_author_quarterly/education/2022/education_2022_2_less.parquet\n",
      "Exporting parquet\n"
     ]
    },
    {
     "name": "stderr",
     "output_type": "stream",
     "text": [
      "100%|█████████████████████████████████████████| 630/630 [00:14<00:00, 44.45it/s]\n"
     ]
    },
    {
     "name": "stdout",
     "output_type": "stream",
     "text": [
      "File Exported as: inference_data/parquet_files/first_author_quarterly/education/2022/education_2022_2_more.parquet\n",
      "Year: 2022, Month:7, Size:2181\n",
      "Year: 2022, Month:8, Size:2130\n",
      "Year: 2022, Month:9, Size:2348\n",
      "combined_size: 6659\n",
      "Year: 2022, Months: 7-9, total: 6659, less than 2: 6183, more than 2:455\n",
      "Exporting parquet\n"
     ]
    },
    {
     "name": "stderr",
     "output_type": "stream",
     "text": [
      "100%|███████████████████████████████████████| 6183/6183 [02:53<00:00, 35.62it/s]\n"
     ]
    },
    {
     "name": "stdout",
     "output_type": "stream",
     "text": [
      "File Exported as: inference_data/parquet_files/first_author_quarterly/education/2022/education_2022_3_less.parquet\n",
      "Exporting parquet\n"
     ]
    },
    {
     "name": "stderr",
     "output_type": "stream",
     "text": [
      "100%|█████████████████████████████████████████| 455/455 [00:11<00:00, 40.21it/s]\n"
     ]
    },
    {
     "name": "stdout",
     "output_type": "stream",
     "text": [
      "File Exported as: inference_data/parquet_files/first_author_quarterly/education/2022/education_2022_3_more.parquet\n",
      "Year: 2022, Month:10, Size:2481\n",
      "Year: 2022, Month:11, Size:3044\n",
      "Year: 2022, Month:12, Size:4669\n",
      "combined_size: 10194\n",
      "Year: 2022, Months: 10-12, total: 10194, less than 2: 9388, more than 2:762\n",
      "Exporting parquet\n"
     ]
    },
    {
     "name": "stderr",
     "output_type": "stream",
     "text": [
      "100%|███████████████████████████████████████| 9388/9388 [04:08<00:00, 37.72it/s]\n"
     ]
    },
    {
     "name": "stdout",
     "output_type": "stream",
     "text": [
      "File Exported as: inference_data/parquet_files/first_author_quarterly/education/2022/education_2022_4_less.parquet\n",
      "Exporting parquet\n"
     ]
    },
    {
     "name": "stderr",
     "output_type": "stream",
     "text": [
      "100%|█████████████████████████████████████████| 762/762 [00:19<00:00, 39.48it/s]\n"
     ]
    },
    {
     "name": "stdout",
     "output_type": "stream",
     "text": [
      "File Exported as: inference_data/parquet_files/first_author_quarterly/education/2022/education_2022_4_more.parquet\n",
      "Year: 2021, Month:1, Size:1778\n",
      "Year: 2021, Month:2, Size:1641\n",
      "Year: 2021, Month:3, Size:2152\n",
      "combined_size: 5571\n",
      "Year: 2021, Months: 1-3, total: 5571, less than 2: 4940, more than 2:588\n",
      "Exporting parquet\n"
     ]
    },
    {
     "name": "stderr",
     "output_type": "stream",
     "text": [
      "100%|███████████████████████████████████████| 4940/4940 [02:16<00:00, 36.28it/s]\n"
     ]
    },
    {
     "name": "stdout",
     "output_type": "stream",
     "text": [
      "File Exported as: inference_data/parquet_files/first_author_quarterly/education/2021/education_2021_1_less.parquet\n",
      "Exporting parquet\n"
     ]
    },
    {
     "name": "stderr",
     "output_type": "stream",
     "text": [
      "100%|█████████████████████████████████████████| 588/588 [00:17<00:00, 34.34it/s]\n"
     ]
    },
    {
     "name": "stdout",
     "output_type": "stream",
     "text": [
      "File Exported as: inference_data/parquet_files/first_author_quarterly/education/2021/education_2021_1_more.parquet\n",
      "Year: 2021, Month:4, Size:2256\n",
      "Year: 2021, Month:5, Size:2421\n",
      "Year: 2021, Month:6, Size:3045\n",
      "combined_size: 7722\n",
      "Year: 2021, Months: 4-6, total: 7722, less than 2: 6557, more than 2:1114\n",
      "Exporting parquet\n"
     ]
    },
    {
     "name": "stderr",
     "output_type": "stream",
     "text": [
      "100%|███████████████████████████████████████| 6557/6557 [03:00<00:00, 36.30it/s]\n"
     ]
    },
    {
     "name": "stdout",
     "output_type": "stream",
     "text": [
      "File Exported as: inference_data/parquet_files/first_author_quarterly/education/2021/education_2021_2_less.parquet\n",
      "Exporting parquet\n"
     ]
    },
    {
     "name": "stderr",
     "output_type": "stream",
     "text": [
      "100%|███████████████████████████████████████| 1114/1114 [00:32<00:00, 34.58it/s]\n"
     ]
    },
    {
     "name": "stdout",
     "output_type": "stream",
     "text": [
      "File Exported as: inference_data/parquet_files/first_author_quarterly/education/2021/education_2021_2_more.parquet\n",
      "Year: 2021, Month:7, Size:2162\n",
      "Year: 2021, Month:8, Size:2074\n",
      "Year: 2021, Month:9, Size:2182\n",
      "combined_size: 6418\n",
      "Year: 2021, Months: 7-9, total: 6418, less than 2: 5844, more than 2:542\n",
      "Exporting parquet\n"
     ]
    },
    {
     "name": "stderr",
     "output_type": "stream",
     "text": [
      "100%|███████████████████████████████████████| 5844/5844 [52:16<00:00,  1.86it/s]\n"
     ]
    },
    {
     "name": "stdout",
     "output_type": "stream",
     "text": [
      "File Exported as: inference_data/parquet_files/first_author_quarterly/education/2021/education_2021_3_less.parquet\n",
      "Exporting parquet\n"
     ]
    },
    {
     "name": "stderr",
     "output_type": "stream",
     "text": [
      "100%|█████████████████████████████████████████| 542/542 [00:16<00:00, 33.57it/s]\n"
     ]
    },
    {
     "name": "stdout",
     "output_type": "stream",
     "text": [
      "File Exported as: inference_data/parquet_files/first_author_quarterly/education/2021/education_2021_3_more.parquet\n",
      "Year: 2021, Month:10, Size:2019\n",
      "Year: 2021, Month:11, Size:2382\n",
      "Year: 2021, Month:12, Size:3959\n",
      "combined_size: 8360\n",
      "Year: 2021, Months: 10-12, total: 8360, less than 2: 7516, more than 2:782\n",
      "Exporting parquet\n"
     ]
    },
    {
     "name": "stderr",
     "output_type": "stream",
     "text": [
      "100%|███████████████████████████████████████| 7516/7516 [03:47<00:00, 33.10it/s]\n"
     ]
    },
    {
     "name": "stdout",
     "output_type": "stream",
     "text": [
      "File Exported as: inference_data/parquet_files/first_author_quarterly/education/2021/education_2021_4_less.parquet\n",
      "Exporting parquet\n"
     ]
    },
    {
     "name": "stderr",
     "output_type": "stream",
     "text": [
      "100%|█████████████████████████████████████████| 782/782 [00:21<00:00, 36.57it/s]\n"
     ]
    },
    {
     "name": "stdout",
     "output_type": "stream",
     "text": [
      "File Exported as: inference_data/parquet_files/first_author_quarterly/education/2021/education_2021_4_more.parquet\n"
     ]
    }
   ],
   "source": [
    "thresh = 2 # equals the value in Liang et al.\n",
    "dest = Path(\"inference_data/parquet_files/first_author_quarterly/{}\".format(subject))\n",
    "dest.mkdir(parents=True, exist_ok=True)\n",
    "time_window = 3\n",
    "for year in [2024, 2023, 2022, 2021]:\n",
    "    dest_year = dest / str(year)\n",
    "    dest_year.mkdir(parents=True, exist_ok=True)\n",
    "    quarterly_data = []\n",
    "    months = np.arange(1, 13)\n",
    "    q_count = 0\n",
    "    for m in months:\n",
    "        full_path = f\"{base_loc}/{year}/{subject}_{year}_{m}.pkl\"\n",
    "        with open(full_path, \"rb\") as f:\n",
    "            data = pickle.load(f)\n",
    "            print(\"Year: {}, Month:{}, Size:{}\".format(year, m, data.get_size()))\n",
    "            quarterly_data.append(data) \n",
    "            if len(quarterly_data) == time_window:\n",
    "                combined = combine_collections(quarterly_data)\n",
    "                print(\"combined_size:\", combined.get_size())\n",
    "                quarterly_data = []\n",
    "                by_author = categorize_by_authors(combined)\n",
    "                q_count += 1\n",
    "                name = f\"{subject}_{year}_{q_count}\"\n",
    "                if len(by_author) > 0:\n",
    "                    group1, group2 = bin_by_freq(by_author)\n",
    "                    print(\"Year: {}, Months: {}-{}, total: {}, less than {}: {}, more than {}:{}\".format(\n",
    "                            year, m-2, m, combined.get_size(), thresh, len(group1), thresh, len(group2)))\n",
    "                    collection1 = ArticleCollection(subject, year)\n",
    "                    collection2 = ArticleCollection(subject, year)\n",
    "                    add_to_sub_collection(collection1, combined, group1)\n",
    "                    add_to_sub_collection(collection2, combined, group2)\n",
    "                    collection1.export_parquet(dest_year, f\"{name}_less\")\n",
    "                    collection2.export_parquet(dest_year, f\"{name}_more\")"
   ]
  },
  {
   "cell_type": "code",
   "execution_count": 48,
   "id": "9f282c24-eebd-4c63-96f7-37437a7d1166",
   "metadata": {},
   "outputs": [
    {
     "name": "stdout",
     "output_type": "stream",
     "text": [
      "File: education_2024_1_less.parquet\n",
      "     0.268,     0.004\n",
      "File: education_2024_1_more.parquet\n",
      "     0.548,     0.032\n",
      "File: education_2024_2_less.parquet\n",
      "     0.291,     0.011\n",
      "File: education_2024_2_more.parquet\n",
      "     0.410,     0.074\n",
      "File: education_2024_3_less.parquet\n",
      "     0.411,     0.156\n",
      "File: education_2024_3_more.parquet\n",
      "ERROR\n",
      "File: education_2024_4_less.parquet\n",
      "     0.414,     0.318\n",
      "File: education_2024_4_more.parquet\n",
      "ERROR\n",
      "File: education_2023_1_less.parquet\n",
      "     0.075,     0.003\n",
      "File: education_2023_1_more.parquet\n",
      "     0.085,     0.012\n",
      "File: education_2023_2_less.parquet\n",
      "     0.117,     0.003\n",
      "File: education_2023_2_more.parquet\n",
      "     0.208,     0.013\n",
      "File: education_2023_3_less.parquet\n",
      "     0.151,     0.003\n",
      "File: education_2023_3_more.parquet\n",
      "     0.210,     0.017\n",
      "File: education_2023_4_less.parquet\n",
      "     0.206,     0.003\n",
      "File: education_2023_4_more.parquet\n",
      "     0.244,     0.022\n",
      "File: education_2022_1_less.parquet\n",
      "     0.056,     0.003\n",
      "File: education_2022_1_more.parquet\n",
      "     0.069,     0.012\n",
      "File: education_2022_2_less.parquet\n",
      "     0.055,     0.002\n",
      "File: education_2022_2_more.parquet\n",
      "     0.078,     0.012\n",
      "File: education_2022_3_less.parquet\n",
      "     0.054,     0.003\n",
      "File: education_2022_3_more.parquet\n",
      "     0.044,     0.011\n",
      "File: education_2022_4_less.parquet\n",
      "     0.060,     0.002\n",
      "File: education_2022_4_more.parquet\n",
      "     0.076,     0.009\n",
      "File: education_2021_1_less.parquet\n",
      "     0.045,     0.003\n",
      "File: education_2021_1_more.parquet\n",
      "     0.044,     0.009\n",
      "File: education_2021_2_less.parquet\n",
      "     0.048,     0.003\n",
      "File: education_2021_2_more.parquet\n",
      "     0.078,     0.008\n",
      "File: education_2021_3_less.parquet\n",
      "     0.049,     0.003\n",
      "File: education_2021_3_more.parquet\n",
      "     0.053,     0.009\n",
      "File: education_2021_4_less.parquet\n",
      "     0.046,     0.002\n",
      "File: education_2021_4_more.parquet\n",
      "     0.055,     0.008\n"
     ]
    }
   ],
   "source": [
    "parquet_base_loc = \"inference_data/parquet_files/first_author_quarterly/{}\".format(subject)\n",
    "name = \"ojs_ed\"\n",
    "all_results_less = {}\n",
    "all_results_more = {}\n",
    "model= MLE(f\"distribution/{name}.parquet\")\n",
    "for year in [2024, 2023, 2022, 2021]:\n",
    "    if year not in all_results_less:\n",
    "        all_results_less[year] = {}\n",
    "    if year not in all_results_more:\n",
    "        all_results_more[year] = {}\n",
    "    parquet_year_path = \"{}/{}\".format(parquet_base_loc, year) \n",
    "    for f in sorted(os.listdir(parquet_year_path)):\n",
    "        if \".parquet\" in f and \"whole\" not in f:\n",
    "            print(\"File: {}\".format(f))\n",
    "            quarter = int(f.strip(\".parquet\").split(\"_\")[-2])\n",
    "            full_path = \"{}/{}\".format(parquet_year_path, f)\n",
    "            estimated,ci = model.inference(full_path,\n",
    "                                     ground_truth=None, save=False)\n",
    "            if estimated is not None and ci is not None :\n",
    "                print(f\"{estimated:10.3f},{ci:10.3f}\")\n",
    "                if \"less\" in f:\n",
    "                    all_results_less[year][quarter] = (estimated, ci)\n",
    "                elif \"more\" in f:\n",
    "                    all_results_more[year][quarter] = (estimated, ci)"
   ]
  },
  {
   "cell_type": "code",
   "execution_count": 49,
   "id": "bcc54043-fe52-4375-86cb-182be1480204",
   "metadata": {},
   "outputs": [],
   "source": [
    "output_folder = Path(\"output\")\n",
    "output_folder.mkdir(parents=True, exist_ok=True) \n",
    "with open(output_folder / \"first_author_trend_results_less_quarter.pkl\", \"wb\") as f:\n",
    "    pickle.dump(all_results_less, f) \n",
    "with open(output_folder / \"first_author_trend_results_more_quarter.pkl\", \"wb\") as f:\n",
    "    pickle.dump(all_results_more, f)"
   ]
  },
  {
   "cell_type": "code",
   "execution_count": 51,
   "id": "3a293094-9acf-4c70-822c-8d1b9a775986",
   "metadata": {},
   "outputs": [
    {
     "name": "stdout",
     "output_type": "stream",
     "text": [
      "m: [0.044 0.078 0.053 0.055 0.069 0.078 0.044 0.076 0.085 0.208 0.21  0.244\n",
      " 0.548]\n"
     ]
    },
    {
     "data": {
      "text/plain": [
       "<matplotlib.legend.Legend at 0x7fb57ad8db20>"
      ]
     },
     "execution_count": 51,
     "metadata": {},
     "output_type": "execute_result"
    },
    {
     "data": {
      "image/png": "[encoded data removed]",
      "text/plain": [
       "<Figure size 640x480 with 1 Axes>"
      ]
     },
     "metadata": {},
     "output_type": "display_data"
    }
   ],
   "source": [
    "def convert_to_array(all_results):\n",
    "    \"\"\"\n",
    "    extracts the alpha and confidence interval values from a dictionary \n",
    "    and converts them into array\n",
    "    \"\"\"\n",
    "    alpha_li = []\n",
    "    ci_li = []\n",
    "    year_month = []\n",
    "    for key1 in sorted(all_results.keys()):\n",
    "        for key2 in sorted(all_results[key1]):\n",
    "            if key1 != 2024:\n",
    "                alpha_li.append(all_results[key1][key2][0])\n",
    "                ci_li.append(all_results[key1][key2][1])\n",
    "            else:\n",
    "                if key2 < 2:\n",
    "                    alpha_li.append(all_results[key1][key2][0])\n",
    "                    ci_li.append(all_results[key1][key2][1])\n",
    "            year_month.append(\"{}-{}\".format(key1, key2))\n",
    "    return np.asarray(alpha_li), np.asarray(ci_li), year_month\n",
    "\n",
    "\n",
    "#output_folder = Path(\"output\")\n",
    "#output_folder.mkdir(parents=True, exist_ok=True) \n",
    "#with open(output_folder / \"author_trend_results_less.pkl\", \"rb\") as f:\n",
    "#    all_results_less = pickle.load(f)\n",
    "#with open(output_folder / \"author_trend_results_more.pkl\", \"rb\") as f:\n",
    "#    all_results_more = pickle.load(f)\n",
    "    \n",
    "alpha_s, ci_s, x_lab = convert_to_array(all_results_less)\n",
    "alpha_m, ci_m, x_lab = convert_to_array(all_results_more)\n",
    "time = np.arange(1, len(alpha_s) +1)\n",
    "#xticks = np.arange(0, len(ci_s), 3)\n",
    "print(\"m:\", alpha_m)\n",
    "#tick_labs = [x_lab[i] for i in xticks]\n",
    "fig = plt.figure()\n",
    "axes = fig.add_subplot(1, 1, 1) \n",
    "axes.set_xlabel(\"time\")\n",
    "axes.set_ylabel(r\"$\\alpha$\") \n",
    "axes.set_title(\"Analysis by author frequency\")\n",
    "axes.plot(time, alpha_s, \"-o\", label=\"<={}\".format(2), color=\"red\")\n",
    "axes.plot(time, alpha_m, \"-o\", label=\">{}\".format(2), color=\"blue\")\n",
    "axes.fill_between(time, (alpha_s-ci_s), (alpha_s+ci_s), \n",
    "                color='red', alpha=.2)\n",
    "axes.fill_between(time, (alpha_m-ci_m), (alpha_m+ci_m), \n",
    "                color='blue', alpha=.2)\n",
    "axes.legend()\n",
    "#axes.set_xticks(xticks, tick_labs, rotation=90)"
   ]
  },
  {
   "cell_type": "code",
   "execution_count": null,
   "id": "2127d86a-8b08-432a-b8c6-001b0a1db582",
   "metadata": {},
   "outputs": [],
   "source": []
  }
 ],
 "metadata": {
  "kernelspec": {
   "display_name": "Python 3 (ipykernel)",
   "language": "python",
   "name": "python3"
  },
  "language_info": {
   "codemirror_mode": {
    "name": "ipython",
    "version": 3
   },
   "file_extension": ".py",
   "mimetype": "text/x-python",
   "name": "python",
   "nbconvert_exporter": "python",
   "pygments_lexer": "ipython3",
   "version": "3.8.19"
  }
 },
 "nbformat": 4,
 "nbformat_minor": 5
}
