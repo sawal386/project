{
 "cells": [
  {
   "cell_type": "markdown",
   "id": "18eaa8c0-5678-4dd1-b0cb-bcf06ed2a907",
   "metadata": {},
   "source": [
    "#### This program estimates alpha according to the number of authors in the publications"
   ]
  },
  {
   "cell_type": "code",
   "execution_count": 1,
   "id": "1a779bbd-6e9d-4cd7-8814-9769676276c7",
   "metadata": {},
   "outputs": [],
   "source": [
    "from base import * \n",
    "import pandas as pd \n",
    "import os \n",
    "import pickle \n",
    "from pathlib import Path \n",
    "from src.estimation import estimate_text_distribution\n",
    "from src.MLE import MLE\n",
    "import warnings\n",
    "import numpy as np \n",
    "import matplotlib.pyplot as plt \n",
    "from copy import deepcopy \n",
    "import seaborn as sns \n",
    "warnings.filterwarnings(\"ignore\")"
   ]
  },
  {
   "cell_type": "code",
   "execution_count": 3,
   "id": "370344d4-dbc8-4ada-a6f3-88ff04541b1e",
   "metadata": {},
   "outputs": [],
   "source": [
    "subject = \"education\"\n",
    "base_loc = f\"inference_data/{subject}\"\n",
    "years = [2024, 2023, 2022, 2021]"
   ]
  },
  {
   "cell_type": "markdown",
   "id": "767a1720-bd92-4a17-b5ca-d7276cbf5c63",
   "metadata": {},
   "source": [
    "Let's do some Exploratory Analysis First "
   ]
  },
  {
   "cell_type": "code",
   "execution_count": 14,
   "id": "630695ee-fc94-4a4c-bbfb-87236e12f93c",
   "metadata": {},
   "outputs": [
    {
     "name": "stdout",
     "output_type": "stream",
     "text": [
      "Median: 2.0\n"
     ]
    }
   ],
   "source": [
    "def get_num_authors(article_coll):\n",
    "    \"\"\"\n",
    "    returns the number of authors in each article contained in \n",
    "    the input collection \n",
    "    Args:\n",
    "        articl_coll: (ArticleCollection)\n",
    "    \"\"\"\n",
    "\n",
    "    num_authors = []\n",
    "    for ar_id in article_coll.all_articles:\n",
    "        ar = article_coll.all_articles[ar_id]\n",
    "        authors =  ar.authors \n",
    "        if authors is not None:\n",
    "            num_authors.append(len(authors))\n",
    "\n",
    "    return num_authors\n",
    "\n",
    "all_authors = []\n",
    "for y in years:\n",
    "    with open(\"inference_data/education/{}/{}_{}_whole.pkl\".format(y, subject, y), \"rb\") as f:\n",
    "        data = pickle.load(f)\n",
    "    all_authors += get_num_authors(data)\n",
    "all_authors = np.asarray(all_authors)\n",
    "md = np.median(all_authors)\n",
    "print(\"Median: {}\".format(md))"
   ]
  },
  {
   "cell_type": "markdown",
   "id": "e14ab62c-1eba-42c3-9745-dc509e5f3431",
   "metadata": {},
   "source": [
    "As seen from above cell, the median number of authors is 2. So we will have two bins, \n",
    "    1. Articles with number of authors less than 3 \n",
    "    2. Articles with number of authors more than 2"
   ]
  },
  {
   "cell_type": "code",
   "execution_count": 16,
   "id": "057c7511-2656-4363-bf34-1db8b72624bb",
   "metadata": {},
   "outputs": [],
   "source": [
    "def combine_collections(coll_list):\n",
    "    \"\"\"\n",
    "    combine the a group of collections into a single collection\n",
    "    \"\"\"\n",
    "    if coll_list is None:\n",
    "        raise ValueError(\"the parameter is None\")\n",
    "    if len(coll_list) == 0:\n",
    "        raise ValueError(\"empty collection list\")\n",
    "    elif len(coll_list) == 1:\n",
    "        return coll_list[0]\n",
    "        \n",
    "    sample = coll_list[0]\n",
    "    collection = ArticleCollection(subject=sample.subject)\n",
    "    for coll in coll_list:\n",
    "        add_to_sub_collection(collection, coll)\n",
    "        \n",
    "    return collection \n",
    "\n",
    "def group_by_num_authors(collection, thresh=2):\n",
    "    \"\"\"divides the article collection into two groups: \n",
    "       1. articles with authors less than or equal to the thresh\n",
    "       2. articles with authors more than the thresh \n",
    "    \"\"\"\n",
    "    \n",
    "    collection1 = ArticleCollection(collection.subject, collection.year)\n",
    "    collection2 = ArticleCollection(collection.subject, collection.year)\n",
    "\n",
    "    for ar_id in collection.all_articles:\n",
    "        ar = collection.all_articles[ar_id]\n",
    "        authors = ar.authors \n",
    "        n = len(authors)\n",
    "        if authors is not None and n > 0:\n",
    "            if n <= thresh:\n",
    "                collection1.add_article(ar, ar_id) \n",
    "            else:\n",
    "                collection2.add_article(ar, ar_id)\n",
    "    return collection1, collection2\n",
    "    "
   ]
  },
  {
   "cell_type": "code",
   "execution_count": 29,
   "id": "df6e9032-246f-4107-a913-4e3e77f09369",
   "metadata": {},
   "outputs": [
    {
     "name": "stdout",
     "output_type": "stream",
     "text": [
      "Year: 2024, Month: 1, total: 2836, less than 2: 1674, more than 2:1147\n",
      "Exporting parquet\n"
     ]
    },
    {
     "name": "stderr",
     "output_type": "stream",
     "text": [
      "100%|███████████████████████████████████████| 1674/1674 [00:39<00:00, 42.48it/s]\n"
     ]
    },
    {
     "name": "stdout",
     "output_type": "stream",
     "text": [
      "File Exported as: inference_data/parquet_files/num_authors/education/2024/education_2024_1_less.parquet\n",
      "Exporting parquet\n"
     ]
    },
    {
     "name": "stderr",
     "output_type": "stream",
     "text": [
      "100%|███████████████████████████████████████| 1147/1147 [00:34<00:00, 33.53it/s]\n"
     ]
    },
    {
     "name": "stdout",
     "output_type": "stream",
     "text": [
      "File Exported as: inference_data/parquet_files/num_authors/education/2024/education_2024_1_more.parquet\n",
      "Year: 2024, Month: 2, total: 2353, less than 2: 1514, more than 2:826\n",
      "Exporting parquet\n"
     ]
    },
    {
     "name": "stderr",
     "output_type": "stream",
     "text": [
      "100%|███████████████████████████████████████| 1514/1514 [00:34<00:00, 44.03it/s]\n"
     ]
    },
    {
     "name": "stdout",
     "output_type": "stream",
     "text": [
      "File Exported as: inference_data/parquet_files/num_authors/education/2024/education_2024_2_less.parquet\n",
      "Exporting parquet\n"
     ]
    },
    {
     "name": "stderr",
     "output_type": "stream",
     "text": [
      "100%|█████████████████████████████████████████| 826/826 [00:25<00:00, 32.87it/s]\n"
     ]
    },
    {
     "name": "stdout",
     "output_type": "stream",
     "text": [
      "File Exported as: inference_data/parquet_files/num_authors/education/2024/education_2024_2_more.parquet\n",
      "Year: 2024, Month: 3, total: 2893, less than 2: 1811, more than 2:1068\n",
      "Exporting parquet\n"
     ]
    },
    {
     "name": "stderr",
     "output_type": "stream",
     "text": [
      "100%|███████████████████████████████████████| 1811/1811 [00:40<00:00, 44.69it/s]\n"
     ]
    },
    {
     "name": "stdout",
     "output_type": "stream",
     "text": [
      "File Exported as: inference_data/parquet_files/num_authors/education/2024/education_2024_3_less.parquet\n",
      "Exporting parquet\n"
     ]
    },
    {
     "name": "stderr",
     "output_type": "stream",
     "text": [
      "100%|███████████████████████████████████████| 1068/1068 [00:31<00:00, 34.31it/s]\n"
     ]
    },
    {
     "name": "stdout",
     "output_type": "stream",
     "text": [
      "File Exported as: inference_data/parquet_files/num_authors/education/2024/education_2024_3_more.parquet\n",
      "Year: 2024, Month: 4, total: 1166, less than 2: 766, more than 2:400\n",
      "Exporting parquet\n"
     ]
    },
    {
     "name": "stderr",
     "output_type": "stream",
     "text": [
      "100%|█████████████████████████████████████████| 766/766 [00:18<00:00, 41.07it/s]\n"
     ]
    },
    {
     "name": "stdout",
     "output_type": "stream",
     "text": [
      "File Exported as: inference_data/parquet_files/num_authors/education/2024/education_2024_4_less.parquet\n",
      "Exporting parquet\n"
     ]
    },
    {
     "name": "stderr",
     "output_type": "stream",
     "text": [
      "100%|█████████████████████████████████████████| 400/400 [00:14<00:00, 28.56it/s]\n"
     ]
    },
    {
     "name": "stdout",
     "output_type": "stream",
     "text": [
      "File Exported as: inference_data/parquet_files/num_authors/education/2024/education_2024_4_more.parquet\n",
      "Year: 2024, Month: 5, total: 6, less than 2: 5, more than 2:1\n",
      "Exporting parquet\n"
     ]
    },
    {
     "name": "stderr",
     "output_type": "stream",
     "text": [
      "100%|█████████████████████████████████████████████| 5/5 [00:00<00:00, 26.07it/s]\n"
     ]
    },
    {
     "name": "stdout",
     "output_type": "stream",
     "text": [
      "File Exported as: inference_data/parquet_files/num_authors/education/2024/education_2024_5_less.parquet\n",
      "Exporting parquet\n"
     ]
    },
    {
     "name": "stderr",
     "output_type": "stream",
     "text": [
      "100%|█████████████████████████████████████████████| 1/1 [00:00<00:00, 19.09it/s]\n"
     ]
    },
    {
     "name": "stdout",
     "output_type": "stream",
     "text": [
      "File Exported as: inference_data/parquet_files/num_authors/education/2024/education_2024_5_more.parquet\n",
      "Year: 2024, Month: 6, total: 25, less than 2: 6, more than 2:19\n",
      "Exporting parquet\n"
     ]
    },
    {
     "name": "stderr",
     "output_type": "stream",
     "text": [
      "100%|█████████████████████████████████████████████| 6/6 [00:00<00:00, 26.34it/s]\n"
     ]
    },
    {
     "name": "stdout",
     "output_type": "stream",
     "text": [
      "File Exported as: inference_data/parquet_files/num_authors/education/2024/education_2024_6_less.parquet\n",
      "Exporting parquet\n"
     ]
    },
    {
     "name": "stderr",
     "output_type": "stream",
     "text": [
      "100%|███████████████████████████████████████████| 19/19 [00:00<00:00, 29.58it/s]\n"
     ]
    },
    {
     "name": "stdout",
     "output_type": "stream",
     "text": [
      "File Exported as: inference_data/parquet_files/num_authors/education/2024/education_2024_6_more.parquet\n",
      "Year: 2024, Month: 7, total: 0, less than 2: 0, more than 2:0\n",
      "Exporting parquet\n"
     ]
    },
    {
     "name": "stderr",
     "output_type": "stream",
     "text": [
      "0it [00:00, ?it/s]\n"
     ]
    },
    {
     "name": "stdout",
     "output_type": "stream",
     "text": [
      "File Exported as: inference_data/parquet_files/num_authors/education/2024/education_2024_7_less.parquet\n",
      "Exporting parquet\n"
     ]
    },
    {
     "name": "stderr",
     "output_type": "stream",
     "text": [
      "0it [00:00, ?it/s]\n"
     ]
    },
    {
     "name": "stdout",
     "output_type": "stream",
     "text": [
      "File Exported as: inference_data/parquet_files/num_authors/education/2024/education_2024_7_more.parquet\n",
      "Year: 2024, Month: 8, total: 4, less than 2: 3, more than 2:1\n",
      "Exporting parquet\n"
     ]
    },
    {
     "name": "stderr",
     "output_type": "stream",
     "text": [
      "100%|█████████████████████████████████████████████| 3/3 [00:00<00:00, 28.75it/s]\n"
     ]
    },
    {
     "name": "stdout",
     "output_type": "stream",
     "text": [
      "File Exported as: inference_data/parquet_files/num_authors/education/2024/education_2024_8_less.parquet\n",
      "Exporting parquet\n"
     ]
    },
    {
     "name": "stderr",
     "output_type": "stream",
     "text": [
      "100%|█████████████████████████████████████████████| 1/1 [00:00<00:00, 25.33it/s]\n"
     ]
    },
    {
     "name": "stdout",
     "output_type": "stream",
     "text": [
      "File Exported as: inference_data/parquet_files/num_authors/education/2024/education_2024_8_more.parquet\n",
      "Year: 2024, Month: 9, total: 1, less than 2: 0, more than 2:1\n",
      "Exporting parquet\n"
     ]
    },
    {
     "name": "stderr",
     "output_type": "stream",
     "text": [
      "0it [00:00, ?it/s]\n"
     ]
    },
    {
     "name": "stdout",
     "output_type": "stream",
     "text": [
      "File Exported as: inference_data/parquet_files/num_authors/education/2024/education_2024_9_less.parquet\n",
      "Exporting parquet\n"
     ]
    },
    {
     "name": "stderr",
     "output_type": "stream",
     "text": [
      "100%|█████████████████████████████████████████████| 1/1 [00:00<00:00, 22.51it/s]\n"
     ]
    },
    {
     "name": "stdout",
     "output_type": "stream",
     "text": [
      "File Exported as: inference_data/parquet_files/num_authors/education/2024/education_2024_9_more.parquet\n",
      "Year: 2024, Month: 10, total: 0, less than 2: 0, more than 2:0\n",
      "Exporting parquet\n"
     ]
    },
    {
     "name": "stderr",
     "output_type": "stream",
     "text": [
      "0it [00:00, ?it/s]\n"
     ]
    },
    {
     "name": "stdout",
     "output_type": "stream",
     "text": [
      "File Exported as: inference_data/parquet_files/num_authors/education/2024/education_2024_10_less.parquet\n",
      "Exporting parquet\n"
     ]
    },
    {
     "name": "stderr",
     "output_type": "stream",
     "text": [
      "0it [00:00, ?it/s]\n"
     ]
    },
    {
     "name": "stdout",
     "output_type": "stream",
     "text": [
      "File Exported as: inference_data/parquet_files/num_authors/education/2024/education_2024_10_more.parquet\n",
      "Year: 2024, Month: 11, total: 0, less than 2: 0, more than 2:0\n",
      "Exporting parquet\n"
     ]
    },
    {
     "name": "stderr",
     "output_type": "stream",
     "text": [
      "0it [00:00, ?it/s]\n"
     ]
    },
    {
     "name": "stdout",
     "output_type": "stream",
     "text": [
      "File Exported as: inference_data/parquet_files/num_authors/education/2024/education_2024_11_less.parquet\n",
      "Exporting parquet\n"
     ]
    },
    {
     "name": "stderr",
     "output_type": "stream",
     "text": [
      "0it [00:00, ?it/s]\n"
     ]
    },
    {
     "name": "stdout",
     "output_type": "stream",
     "text": [
      "File Exported as: inference_data/parquet_files/num_authors/education/2024/education_2024_11_more.parquet\n",
      "Year: 2024, Month: 12, total: 2, less than 2: 2, more than 2:0\n",
      "Exporting parquet\n"
     ]
    },
    {
     "name": "stderr",
     "output_type": "stream",
     "text": [
      "100%|█████████████████████████████████████████████| 2/2 [00:00<00:00, 32.33it/s]\n"
     ]
    },
    {
     "name": "stdout",
     "output_type": "stream",
     "text": [
      "File Exported as: inference_data/parquet_files/num_authors/education/2024/education_2024_12_less.parquet\n",
      "Exporting parquet\n"
     ]
    },
    {
     "name": "stderr",
     "output_type": "stream",
     "text": [
      "0it [00:00, ?it/s]\n"
     ]
    },
    {
     "name": "stdout",
     "output_type": "stream",
     "text": [
      "File Exported as: inference_data/parquet_files/num_authors/education/2024/education_2024_12_more.parquet\n",
      "Year: 2023, Month: 1, total: 2677, less than 2: 1632, more than 2:1029\n",
      "Exporting parquet\n"
     ]
    },
    {
     "name": "stderr",
     "output_type": "stream",
     "text": [
      "100%|███████████████████████████████████████| 1632/1632 [00:40<00:00, 40.41it/s]\n"
     ]
    },
    {
     "name": "stdout",
     "output_type": "stream",
     "text": [
      "File Exported as: inference_data/parquet_files/num_authors/education/2023/education_2023_1_less.parquet\n",
      "Exporting parquet\n"
     ]
    },
    {
     "name": "stderr",
     "output_type": "stream",
     "text": [
      "100%|███████████████████████████████████████| 1029/1029 [00:31<00:00, 32.71it/s]\n"
     ]
    },
    {
     "name": "stdout",
     "output_type": "stream",
     "text": [
      "File Exported as: inference_data/parquet_files/num_authors/education/2023/education_2023_1_more.parquet\n",
      "Year: 2023, Month: 2, total: 2532, less than 2: 1665, more than 2:802\n",
      "Exporting parquet\n"
     ]
    },
    {
     "name": "stderr",
     "output_type": "stream",
     "text": [
      "100%|███████████████████████████████████████| 1665/1665 [00:39<00:00, 42.47it/s]\n"
     ]
    },
    {
     "name": "stdout",
     "output_type": "stream",
     "text": [
      "File Exported as: inference_data/parquet_files/num_authors/education/2023/education_2023_2_less.parquet\n",
      "Exporting parquet\n"
     ]
    },
    {
     "name": "stderr",
     "output_type": "stream",
     "text": [
      "100%|█████████████████████████████████████████| 802/802 [00:25<00:00, 31.98it/s]\n"
     ]
    },
    {
     "name": "stdout",
     "output_type": "stream",
     "text": [
      "File Exported as: inference_data/parquet_files/num_authors/education/2023/education_2023_2_more.parquet\n",
      "Year: 2023, Month: 3, total: 3504, less than 2: 2362, more than 2:1128\n",
      "Exporting parquet\n"
     ]
    },
    {
     "name": "stderr",
     "output_type": "stream",
     "text": [
      "100%|███████████████████████████████████████| 2362/2362 [00:55<00:00, 42.41it/s]\n"
     ]
    },
    {
     "name": "stdout",
     "output_type": "stream",
     "text": [
      "File Exported as: inference_data/parquet_files/num_authors/education/2023/education_2023_3_less.parquet\n",
      "Exporting parquet\n"
     ]
    },
    {
     "name": "stderr",
     "output_type": "stream",
     "text": [
      "100%|███████████████████████████████████████| 1128/1128 [00:34<00:00, 32.35it/s]\n"
     ]
    },
    {
     "name": "stdout",
     "output_type": "stream",
     "text": [
      "File Exported as: inference_data/parquet_files/num_authors/education/2023/education_2023_3_more.parquet\n",
      "Year: 2023, Month: 4, total: 3573, less than 2: 2336, more than 2:1221\n",
      "Exporting parquet\n"
     ]
    },
    {
     "name": "stderr",
     "output_type": "stream",
     "text": [
      "100%|███████████████████████████████████████| 2336/2336 [00:51<00:00, 45.08it/s]\n"
     ]
    },
    {
     "name": "stdout",
     "output_type": "stream",
     "text": [
      "File Exported as: inference_data/parquet_files/num_authors/education/2023/education_2023_4_less.parquet\n",
      "Exporting parquet\n"
     ]
    },
    {
     "name": "stderr",
     "output_type": "stream",
     "text": [
      "100%|███████████████████████████████████████| 1221/1221 [00:38<00:00, 31.57it/s]\n"
     ]
    },
    {
     "name": "stdout",
     "output_type": "stream",
     "text": [
      "File Exported as: inference_data/parquet_files/num_authors/education/2023/education_2023_4_more.parquet\n",
      "Year: 2023, Month: 5, total: 3737, less than 2: 2521, more than 2:1195\n",
      "Exporting parquet\n"
     ]
    },
    {
     "name": "stderr",
     "output_type": "stream",
     "text": [
      "100%|███████████████████████████████████████| 2521/2521 [00:54<00:00, 46.11it/s]\n"
     ]
    },
    {
     "name": "stdout",
     "output_type": "stream",
     "text": [
      "File Exported as: inference_data/parquet_files/num_authors/education/2023/education_2023_5_less.parquet\n",
      "Exporting parquet\n"
     ]
    },
    {
     "name": "stderr",
     "output_type": "stream",
     "text": [
      "100%|███████████████████████████████████████| 1195/1195 [00:36<00:00, 33.13it/s]\n"
     ]
    },
    {
     "name": "stdout",
     "output_type": "stream",
     "text": [
      "File Exported as: inference_data/parquet_files/num_authors/education/2023/education_2023_5_more.parquet\n",
      "Year: 2023, Month: 6, total: 4869, less than 2: 2957, more than 2:1884\n",
      "Exporting parquet\n"
     ]
    },
    {
     "name": "stderr",
     "output_type": "stream",
     "text": [
      "100%|███████████████████████████████████████| 2957/2957 [01:12<00:00, 40.95it/s]\n"
     ]
    },
    {
     "name": "stdout",
     "output_type": "stream",
     "text": [
      "File Exported as: inference_data/parquet_files/num_authors/education/2023/education_2023_6_less.parquet\n",
      "Exporting parquet\n"
     ]
    },
    {
     "name": "stderr",
     "output_type": "stream",
     "text": [
      "100%|███████████████████████████████████████| 1884/1884 [01:06<00:00, 28.25it/s]\n"
     ]
    },
    {
     "name": "stdout",
     "output_type": "stream",
     "text": [
      "File Exported as: inference_data/parquet_files/num_authors/education/2023/education_2023_6_more.parquet\n",
      "Year: 2023, Month: 7, total: 3365, less than 2: 1917, more than 2:1434\n",
      "Exporting parquet\n"
     ]
    },
    {
     "name": "stderr",
     "output_type": "stream",
     "text": [
      "100%|███████████████████████████████████████| 1917/1917 [00:53<00:00, 35.60it/s]\n"
     ]
    },
    {
     "name": "stdout",
     "output_type": "stream",
     "text": [
      "File Exported as: inference_data/parquet_files/num_authors/education/2023/education_2023_7_less.parquet\n",
      "Exporting parquet\n"
     ]
    },
    {
     "name": "stderr",
     "output_type": "stream",
     "text": [
      "100%|███████████████████████████████████████| 1434/1434 [00:45<00:00, 31.78it/s]\n"
     ]
    },
    {
     "name": "stdout",
     "output_type": "stream",
     "text": [
      "File Exported as: inference_data/parquet_files/num_authors/education/2023/education_2023_7_more.parquet\n",
      "Year: 2023, Month: 8, total: 2926, less than 2: 1738, more than 2:1173\n",
      "Exporting parquet\n"
     ]
    },
    {
     "name": "stderr",
     "output_type": "stream",
     "text": [
      "100%|███████████████████████████████████████| 1738/1738 [00:47<00:00, 36.68it/s]\n"
     ]
    },
    {
     "name": "stdout",
     "output_type": "stream",
     "text": [
      "File Exported as: inference_data/parquet_files/num_authors/education/2023/education_2023_8_less.parquet\n",
      "Exporting parquet\n"
     ]
    },
    {
     "name": "stderr",
     "output_type": "stream",
     "text": [
      "100%|███████████████████████████████████████| 1173/1173 [00:36<00:00, 32.16it/s]\n"
     ]
    },
    {
     "name": "stdout",
     "output_type": "stream",
     "text": [
      "File Exported as: inference_data/parquet_files/num_authors/education/2023/education_2023_8_more.parquet\n",
      "Year: 2023, Month: 9, total: 2752, less than 2: 1598, more than 2:1145\n",
      "Exporting parquet\n"
     ]
    },
    {
     "name": "stderr",
     "output_type": "stream",
     "text": [
      "100%|███████████████████████████████████████| 1598/1598 [00:41<00:00, 38.82it/s]\n"
     ]
    },
    {
     "name": "stdout",
     "output_type": "stream",
     "text": [
      "File Exported as: inference_data/parquet_files/num_authors/education/2023/education_2023_9_less.parquet\n",
      "Exporting parquet\n"
     ]
    },
    {
     "name": "stderr",
     "output_type": "stream",
     "text": [
      "100%|███████████████████████████████████████| 1145/1145 [00:38<00:00, 29.97it/s]\n"
     ]
    },
    {
     "name": "stdout",
     "output_type": "stream",
     "text": [
      "File Exported as: inference_data/parquet_files/num_authors/education/2023/education_2023_9_more.parquet\n",
      "Year: 2023, Month: 10, total: 2878, less than 2: 1752, more than 2:1093\n",
      "Exporting parquet\n"
     ]
    },
    {
     "name": "stderr",
     "output_type": "stream",
     "text": [
      "100%|███████████████████████████████████████| 1752/1752 [00:42<00:00, 40.89it/s]\n"
     ]
    },
    {
     "name": "stdout",
     "output_type": "stream",
     "text": [
      "File Exported as: inference_data/parquet_files/num_authors/education/2023/education_2023_10_less.parquet\n",
      "Exporting parquet\n"
     ]
    },
    {
     "name": "stderr",
     "output_type": "stream",
     "text": [
      "100%|███████████████████████████████████████| 1093/1093 [00:38<00:00, 28.32it/s]\n"
     ]
    },
    {
     "name": "stdout",
     "output_type": "stream",
     "text": [
      "File Exported as: inference_data/parquet_files/num_authors/education/2023/education_2023_10_more.parquet\n",
      "Year: 2023, Month: 11, total: 3090, less than 2: 1915, more than 2:1158\n",
      "Exporting parquet\n"
     ]
    },
    {
     "name": "stderr",
     "output_type": "stream",
     "text": [
      "100%|███████████████████████████████████████| 1915/1915 [00:46<00:00, 41.53it/s]\n"
     ]
    },
    {
     "name": "stdout",
     "output_type": "stream",
     "text": [
      "File Exported as: inference_data/parquet_files/num_authors/education/2023/education_2023_11_less.parquet\n",
      "Exporting parquet\n"
     ]
    },
    {
     "name": "stderr",
     "output_type": "stream",
     "text": [
      "100%|███████████████████████████████████████| 1158/1158 [00:37<00:00, 30.66it/s]\n"
     ]
    },
    {
     "name": "stdout",
     "output_type": "stream",
     "text": [
      "File Exported as: inference_data/parquet_files/num_authors/education/2023/education_2023_11_more.parquet\n",
      "Year: 2023, Month: 12, total: 4704, less than 2: 2794, more than 2:1902\n",
      "Exporting parquet\n"
     ]
    },
    {
     "name": "stderr",
     "output_type": "stream",
     "text": [
      "100%|███████████████████████████████████████| 2794/2794 [01:07<00:00, 41.64it/s]\n"
     ]
    },
    {
     "name": "stdout",
     "output_type": "stream",
     "text": [
      "File Exported as: inference_data/parquet_files/num_authors/education/2023/education_2023_12_less.parquet\n",
      "Exporting parquet\n"
     ]
    },
    {
     "name": "stderr",
     "output_type": "stream",
     "text": [
      "100%|███████████████████████████████████████| 1902/1902 [00:58<00:00, 32.50it/s]\n"
     ]
    },
    {
     "name": "stdout",
     "output_type": "stream",
     "text": [
      "File Exported as: inference_data/parquet_files/num_authors/education/2023/education_2023_12_more.parquet\n",
      "Year: 2022, Month: 1, total: 2098, less than 2: 1402, more than 2:684\n",
      "Exporting parquet\n"
     ]
    },
    {
     "name": "stderr",
     "output_type": "stream",
     "text": [
      "100%|███████████████████████████████████████| 1402/1402 [00:38<00:00, 36.77it/s]\n"
     ]
    },
    {
     "name": "stdout",
     "output_type": "stream",
     "text": [
      "File Exported as: inference_data/parquet_files/num_authors/education/2022/education_2022_1_less.parquet\n",
      "Exporting parquet\n"
     ]
    },
    {
     "name": "stderr",
     "output_type": "stream",
     "text": [
      "100%|█████████████████████████████████████████| 684/684 [00:21<00:00, 31.99it/s]\n"
     ]
    },
    {
     "name": "stdout",
     "output_type": "stream",
     "text": [
      "File Exported as: inference_data/parquet_files/num_authors/education/2022/education_2022_1_more.parquet\n",
      "Year: 2022, Month: 2, total: 2198, less than 2: 1509, more than 2:683\n",
      "Exporting parquet\n"
     ]
    },
    {
     "name": "stderr",
     "output_type": "stream",
     "text": [
      "100%|███████████████████████████████████████| 1509/1509 [00:38<00:00, 39.35it/s]\n"
     ]
    },
    {
     "name": "stdout",
     "output_type": "stream",
     "text": [
      "File Exported as: inference_data/parquet_files/num_authors/education/2022/education_2022_2_less.parquet\n",
      "Exporting parquet\n"
     ]
    },
    {
     "name": "stderr",
     "output_type": "stream",
     "text": [
      "100%|█████████████████████████████████████████| 683/683 [00:21<00:00, 32.00it/s]\n"
     ]
    },
    {
     "name": "stdout",
     "output_type": "stream",
     "text": [
      "File Exported as: inference_data/parquet_files/num_authors/education/2022/education_2022_2_more.parquet\n",
      "Year: 2022, Month: 3, total: 2403, less than 2: 1546, more than 2:850\n",
      "Exporting parquet\n"
     ]
    },
    {
     "name": "stderr",
     "output_type": "stream",
     "text": [
      "100%|███████████████████████████████████████| 1546/1546 [00:40<00:00, 38.43it/s]\n"
     ]
    },
    {
     "name": "stdout",
     "output_type": "stream",
     "text": [
      "File Exported as: inference_data/parquet_files/num_authors/education/2022/education_2022_3_less.parquet\n",
      "Exporting parquet\n"
     ]
    },
    {
     "name": "stderr",
     "output_type": "stream",
     "text": [
      "100%|█████████████████████████████████████████| 850/850 [00:27<00:00, 31.42it/s]\n"
     ]
    },
    {
     "name": "stdout",
     "output_type": "stream",
     "text": [
      "File Exported as: inference_data/parquet_files/num_authors/education/2022/education_2022_3_more.parquet\n",
      "Year: 2022, Month: 4, total: 2489, less than 2: 1679, more than 2:801\n",
      "Exporting parquet\n"
     ]
    },
    {
     "name": "stderr",
     "output_type": "stream",
     "text": [
      "100%|███████████████████████████████████████| 1679/1679 [00:42<00:00, 39.58it/s]\n"
     ]
    },
    {
     "name": "stdout",
     "output_type": "stream",
     "text": [
      "File Exported as: inference_data/parquet_files/num_authors/education/2022/education_2022_4_less.parquet\n",
      "Exporting parquet\n"
     ]
    },
    {
     "name": "stderr",
     "output_type": "stream",
     "text": [
      "100%|█████████████████████████████████████████| 801/801 [00:27<00:00, 28.87it/s]\n"
     ]
    },
    {
     "name": "stdout",
     "output_type": "stream",
     "text": [
      "File Exported as: inference_data/parquet_files/num_authors/education/2022/education_2022_4_more.parquet\n",
      "Year: 2022, Month: 5, total: 2292, less than 2: 1519, more than 2:764\n",
      "Exporting parquet\n"
     ]
    },
    {
     "name": "stderr",
     "output_type": "stream",
     "text": [
      "100%|███████████████████████████████████████| 1519/1519 [00:38<00:00, 39.54it/s]\n"
     ]
    },
    {
     "name": "stdout",
     "output_type": "stream",
     "text": [
      "File Exported as: inference_data/parquet_files/num_authors/education/2022/education_2022_5_less.parquet\n",
      "Exporting parquet\n"
     ]
    },
    {
     "name": "stderr",
     "output_type": "stream",
     "text": [
      "100%|█████████████████████████████████████████| 764/764 [00:23<00:00, 32.12it/s]\n"
     ]
    },
    {
     "name": "stdout",
     "output_type": "stream",
     "text": [
      "File Exported as: inference_data/parquet_files/num_authors/education/2022/education_2022_5_more.parquet\n",
      "Year: 2022, Month: 6, total: 3870, less than 2: 2591, more than 2:1270\n",
      "Exporting parquet\n"
     ]
    },
    {
     "name": "stderr",
     "output_type": "stream",
     "text": [
      "100%|███████████████████████████████████████| 2591/2591 [01:07<00:00, 38.28it/s]\n"
     ]
    },
    {
     "name": "stdout",
     "output_type": "stream",
     "text": [
      "File Exported as: inference_data/parquet_files/num_authors/education/2022/education_2022_6_less.parquet\n",
      "Exporting parquet\n"
     ]
    },
    {
     "name": "stderr",
     "output_type": "stream",
     "text": [
      "100%|███████████████████████████████████████| 1270/1270 [00:39<00:00, 31.75it/s]\n"
     ]
    },
    {
     "name": "stdout",
     "output_type": "stream",
     "text": [
      "File Exported as: inference_data/parquet_files/num_authors/education/2022/education_2022_6_more.parquet\n",
      "Year: 2022, Month: 7, total: 2181, less than 2: 1385, more than 2:789\n",
      "Exporting parquet\n"
     ]
    },
    {
     "name": "stderr",
     "output_type": "stream",
     "text": [
      "100%|███████████████████████████████████████| 1385/1385 [00:37<00:00, 36.80it/s]\n"
     ]
    },
    {
     "name": "stdout",
     "output_type": "stream",
     "text": [
      "File Exported as: inference_data/parquet_files/num_authors/education/2022/education_2022_7_less.parquet\n",
      "Exporting parquet\n"
     ]
    },
    {
     "name": "stderr",
     "output_type": "stream",
     "text": [
      "100%|█████████████████████████████████████████| 789/789 [00:24<00:00, 31.96it/s]\n"
     ]
    },
    {
     "name": "stdout",
     "output_type": "stream",
     "text": [
      "File Exported as: inference_data/parquet_files/num_authors/education/2022/education_2022_7_more.parquet\n",
      "Year: 2022, Month: 8, total: 2130, less than 2: 1316, more than 2:810\n",
      "Exporting parquet\n"
     ]
    },
    {
     "name": "stderr",
     "output_type": "stream",
     "text": [
      "100%|███████████████████████████████████████| 1316/1316 [00:36<00:00, 36.09it/s]\n"
     ]
    },
    {
     "name": "stdout",
     "output_type": "stream",
     "text": [
      "File Exported as: inference_data/parquet_files/num_authors/education/2022/education_2022_8_less.parquet\n",
      "Exporting parquet\n"
     ]
    },
    {
     "name": "stderr",
     "output_type": "stream",
     "text": [
      "100%|█████████████████████████████████████████| 810/810 [00:25<00:00, 31.54it/s]\n"
     ]
    },
    {
     "name": "stdout",
     "output_type": "stream",
     "text": [
      "File Exported as: inference_data/parquet_files/num_authors/education/2022/education_2022_8_more.parquet\n",
      "Year: 2022, Month: 9, total: 2348, less than 2: 1401, more than 2:937\n",
      "Exporting parquet\n"
     ]
    },
    {
     "name": "stderr",
     "output_type": "stream",
     "text": [
      "100%|███████████████████████████████████████| 1401/1401 [00:39<00:00, 35.65it/s]\n"
     ]
    },
    {
     "name": "stdout",
     "output_type": "stream",
     "text": [
      "File Exported as: inference_data/parquet_files/num_authors/education/2022/education_2022_9_less.parquet\n",
      "Exporting parquet\n"
     ]
    },
    {
     "name": "stderr",
     "output_type": "stream",
     "text": [
      "100%|█████████████████████████████████████████| 937/937 [00:29<00:00, 31.31it/s]\n"
     ]
    },
    {
     "name": "stdout",
     "output_type": "stream",
     "text": [
      "File Exported as: inference_data/parquet_files/num_authors/education/2022/education_2022_9_more.parquet\n",
      "Year: 2022, Month: 10, total: 2481, less than 2: 1556, more than 2:916\n",
      "Exporting parquet\n"
     ]
    },
    {
     "name": "stderr",
     "output_type": "stream",
     "text": [
      "100%|███████████████████████████████████████| 1556/1556 [00:40<00:00, 38.68it/s]\n"
     ]
    },
    {
     "name": "stdout",
     "output_type": "stream",
     "text": [
      "File Exported as: inference_data/parquet_files/num_authors/education/2022/education_2022_10_less.parquet\n",
      "Exporting parquet\n"
     ]
    },
    {
     "name": "stderr",
     "output_type": "stream",
     "text": [
      "100%|█████████████████████████████████████████| 916/916 [00:29<00:00, 31.55it/s]\n"
     ]
    },
    {
     "name": "stdout",
     "output_type": "stream",
     "text": [
      "File Exported as: inference_data/parquet_files/num_authors/education/2022/education_2022_10_more.parquet\n",
      "Year: 2022, Month: 11, total: 3044, less than 2: 1964, more than 2:1062\n",
      "Exporting parquet\n"
     ]
    },
    {
     "name": "stderr",
     "output_type": "stream",
     "text": [
      "100%|███████████████████████████████████████| 1964/1964 [00:47<00:00, 41.05it/s]\n"
     ]
    },
    {
     "name": "stdout",
     "output_type": "stream",
     "text": [
      "File Exported as: inference_data/parquet_files/num_authors/education/2022/education_2022_11_less.parquet\n",
      "Exporting parquet\n"
     ]
    },
    {
     "name": "stderr",
     "output_type": "stream",
     "text": [
      "100%|███████████████████████████████████████| 1062/1062 [00:33<00:00, 31.37it/s]\n"
     ]
    },
    {
     "name": "stdout",
     "output_type": "stream",
     "text": [
      "File Exported as: inference_data/parquet_files/num_authors/education/2022/education_2022_11_more.parquet\n",
      "Year: 2022, Month: 12, total: 4669, less than 2: 2942, more than 2:1710\n",
      "Exporting parquet\n"
     ]
    },
    {
     "name": "stderr",
     "output_type": "stream",
     "text": [
      "100%|███████████████████████████████████████| 2942/2942 [01:15<00:00, 38.90it/s]\n"
     ]
    },
    {
     "name": "stdout",
     "output_type": "stream",
     "text": [
      "File Exported as: inference_data/parquet_files/num_authors/education/2022/education_2022_12_less.parquet\n",
      "Exporting parquet\n"
     ]
    },
    {
     "name": "stderr",
     "output_type": "stream",
     "text": [
      "100%|███████████████████████████████████████| 1710/1710 [00:54<00:00, 31.59it/s]\n"
     ]
    },
    {
     "name": "stdout",
     "output_type": "stream",
     "text": [
      "File Exported as: inference_data/parquet_files/num_authors/education/2022/education_2022_12_more.parquet\n",
      "Year: 2021, Month: 1, total: 1778, less than 2: 1196, more than 2:562\n",
      "Exporting parquet\n"
     ]
    },
    {
     "name": "stderr",
     "output_type": "stream",
     "text": [
      "100%|███████████████████████████████████████| 1196/1196 [00:33<00:00, 35.32it/s]\n"
     ]
    },
    {
     "name": "stdout",
     "output_type": "stream",
     "text": [
      "File Exported as: inference_data/parquet_files/num_authors/education/2021/education_2021_1_less.parquet\n",
      "Exporting parquet\n"
     ]
    },
    {
     "name": "stderr",
     "output_type": "stream",
     "text": [
      "100%|█████████████████████████████████████████| 562/562 [00:17<00:00, 32.55it/s]\n"
     ]
    },
    {
     "name": "stdout",
     "output_type": "stream",
     "text": [
      "File Exported as: inference_data/parquet_files/num_authors/education/2021/education_2021_1_more.parquet\n",
      "Year: 2021, Month: 2, total: 1641, less than 2: 1095, more than 2:533\n",
      "Exporting parquet\n"
     ]
    },
    {
     "name": "stderr",
     "output_type": "stream",
     "text": [
      "100%|███████████████████████████████████████| 1095/1095 [00:29<00:00, 36.68it/s]\n"
     ]
    },
    {
     "name": "stdout",
     "output_type": "stream",
     "text": [
      "File Exported as: inference_data/parquet_files/num_authors/education/2021/education_2021_2_less.parquet\n",
      "Exporting parquet\n"
     ]
    },
    {
     "name": "stderr",
     "output_type": "stream",
     "text": [
      "100%|█████████████████████████████████████████| 533/533 [00:17<00:00, 31.04it/s]\n"
     ]
    },
    {
     "name": "stdout",
     "output_type": "stream",
     "text": [
      "File Exported as: inference_data/parquet_files/num_authors/education/2021/education_2021_2_more.parquet\n",
      "Year: 2021, Month: 3, total: 2152, less than 2: 1409, more than 2:733\n",
      "Exporting parquet\n"
     ]
    },
    {
     "name": "stderr",
     "output_type": "stream",
     "text": [
      "100%|███████████████████████████████████████| 1409/1409 [00:40<00:00, 35.00it/s]\n"
     ]
    },
    {
     "name": "stdout",
     "output_type": "stream",
     "text": [
      "File Exported as: inference_data/parquet_files/num_authors/education/2021/education_2021_3_less.parquet\n",
      "Exporting parquet\n"
     ]
    },
    {
     "name": "stderr",
     "output_type": "stream",
     "text": [
      "100%|█████████████████████████████████████████| 733/733 [00:23<00:00, 30.82it/s]\n"
     ]
    },
    {
     "name": "stdout",
     "output_type": "stream",
     "text": [
      "File Exported as: inference_data/parquet_files/num_authors/education/2021/education_2021_3_more.parquet\n",
      "Year: 2021, Month: 4, total: 2256, less than 2: 1634, more than 2:613\n",
      "Exporting parquet\n"
     ]
    },
    {
     "name": "stderr",
     "output_type": "stream",
     "text": [
      "100%|███████████████████████████████████████| 1634/1634 [00:44<00:00, 36.96it/s]\n"
     ]
    },
    {
     "name": "stdout",
     "output_type": "stream",
     "text": [
      "File Exported as: inference_data/parquet_files/num_authors/education/2021/education_2021_4_less.parquet\n",
      "Exporting parquet\n"
     ]
    },
    {
     "name": "stderr",
     "output_type": "stream",
     "text": [
      "100%|█████████████████████████████████████████| 613/613 [00:19<00:00, 31.26it/s]\n"
     ]
    },
    {
     "name": "stdout",
     "output_type": "stream",
     "text": [
      "File Exported as: inference_data/parquet_files/num_authors/education/2021/education_2021_4_more.parquet\n",
      "Year: 2021, Month: 5, total: 2421, less than 2: 1682, more than 2:716\n",
      "Exporting parquet\n"
     ]
    },
    {
     "name": "stderr",
     "output_type": "stream",
     "text": [
      "100%|███████████████████████████████████████| 1682/1682 [00:46<00:00, 36.43it/s]\n"
     ]
    },
    {
     "name": "stdout",
     "output_type": "stream",
     "text": [
      "File Exported as: inference_data/parquet_files/num_authors/education/2021/education_2021_5_less.parquet\n",
      "Exporting parquet\n"
     ]
    },
    {
     "name": "stderr",
     "output_type": "stream",
     "text": [
      "100%|█████████████████████████████████████████| 716/716 [00:22<00:00, 31.57it/s]\n"
     ]
    },
    {
     "name": "stdout",
     "output_type": "stream",
     "text": [
      "File Exported as: inference_data/parquet_files/num_authors/education/2021/education_2021_5_more.parquet\n",
      "Year: 2021, Month: 6, total: 3045, less than 2: 2007, more than 2:1019\n",
      "Exporting parquet\n"
     ]
    },
    {
     "name": "stderr",
     "output_type": "stream",
     "text": [
      "100%|███████████████████████████████████████| 2007/2007 [00:57<00:00, 35.20it/s]\n"
     ]
    },
    {
     "name": "stdout",
     "output_type": "stream",
     "text": [
      "File Exported as: inference_data/parquet_files/num_authors/education/2021/education_2021_6_less.parquet\n",
      "Exporting parquet\n"
     ]
    },
    {
     "name": "stderr",
     "output_type": "stream",
     "text": [
      "100%|███████████████████████████████████████| 1019/1019 [00:33<00:00, 30.80it/s]\n"
     ]
    },
    {
     "name": "stdout",
     "output_type": "stream",
     "text": [
      "File Exported as: inference_data/parquet_files/num_authors/education/2021/education_2021_6_more.parquet\n",
      "Year: 2021, Month: 7, total: 2162, less than 2: 1424, more than 2:734\n",
      "Exporting parquet\n"
     ]
    },
    {
     "name": "stderr",
     "output_type": "stream",
     "text": [
      "100%|███████████████████████████████████████| 1424/1424 [00:42<00:00, 33.53it/s]\n"
     ]
    },
    {
     "name": "stdout",
     "output_type": "stream",
     "text": [
      "File Exported as: inference_data/parquet_files/num_authors/education/2021/education_2021_7_less.parquet\n",
      "Exporting parquet\n"
     ]
    },
    {
     "name": "stderr",
     "output_type": "stream",
     "text": [
      "100%|█████████████████████████████████████████| 734/734 [00:23<00:00, 31.18it/s]\n"
     ]
    },
    {
     "name": "stdout",
     "output_type": "stream",
     "text": [
      "File Exported as: inference_data/parquet_files/num_authors/education/2021/education_2021_7_more.parquet\n",
      "Year: 2021, Month: 8, total: 2074, less than 2: 1220, more than 2:837\n",
      "Exporting parquet\n"
     ]
    },
    {
     "name": "stderr",
     "output_type": "stream",
     "text": [
      "100%|███████████████████████████████████████| 1220/1220 [00:37<00:00, 32.94it/s]\n"
     ]
    },
    {
     "name": "stdout",
     "output_type": "stream",
     "text": [
      "File Exported as: inference_data/parquet_files/num_authors/education/2021/education_2021_8_less.parquet\n",
      "Exporting parquet\n"
     ]
    },
    {
     "name": "stderr",
     "output_type": "stream",
     "text": [
      "100%|█████████████████████████████████████████| 837/837 [00:26<00:00, 31.77it/s]\n"
     ]
    },
    {
     "name": "stdout",
     "output_type": "stream",
     "text": [
      "File Exported as: inference_data/parquet_files/num_authors/education/2021/education_2021_8_more.parquet\n",
      "Year: 2021, Month: 9, total: 2182, less than 2: 1349, more than 2:822\n",
      "Exporting parquet\n"
     ]
    },
    {
     "name": "stderr",
     "output_type": "stream",
     "text": [
      "100%|███████████████████████████████████████| 1349/1349 [00:40<00:00, 32.90it/s]\n"
     ]
    },
    {
     "name": "stdout",
     "output_type": "stream",
     "text": [
      "File Exported as: inference_data/parquet_files/num_authors/education/2021/education_2021_9_less.parquet\n",
      "Exporting parquet\n"
     ]
    },
    {
     "name": "stderr",
     "output_type": "stream",
     "text": [
      "100%|█████████████████████████████████████████| 822/822 [00:26<00:00, 30.57it/s]\n"
     ]
    },
    {
     "name": "stdout",
     "output_type": "stream",
     "text": [
      "File Exported as: inference_data/parquet_files/num_authors/education/2021/education_2021_9_more.parquet\n",
      "Year: 2021, Month: 10, total: 2019, less than 2: 1269, more than 2:719\n",
      "Exporting parquet\n"
     ]
    },
    {
     "name": "stderr",
     "output_type": "stream",
     "text": [
      "100%|███████████████████████████████████████| 1269/1269 [00:36<00:00, 34.90it/s]\n"
     ]
    },
    {
     "name": "stdout",
     "output_type": "stream",
     "text": [
      "File Exported as: inference_data/parquet_files/num_authors/education/2021/education_2021_10_less.parquet\n",
      "Exporting parquet\n"
     ]
    },
    {
     "name": "stderr",
     "output_type": "stream",
     "text": [
      "100%|█████████████████████████████████████████| 719/719 [00:22<00:00, 32.39it/s]\n"
     ]
    },
    {
     "name": "stdout",
     "output_type": "stream",
     "text": [
      "File Exported as: inference_data/parquet_files/num_authors/education/2021/education_2021_10_more.parquet\n",
      "Year: 2021, Month: 11, total: 2382, less than 2: 1518, more than 2:847\n",
      "Exporting parquet\n"
     ]
    },
    {
     "name": "stderr",
     "output_type": "stream",
     "text": [
      "100%|███████████████████████████████████████| 1518/1518 [00:43<00:00, 34.84it/s]\n"
     ]
    },
    {
     "name": "stdout",
     "output_type": "stream",
     "text": [
      "File Exported as: inference_data/parquet_files/num_authors/education/2021/education_2021_11_less.parquet\n",
      "Exporting parquet\n"
     ]
    },
    {
     "name": "stderr",
     "output_type": "stream",
     "text": [
      "100%|█████████████████████████████████████████| 847/847 [00:27<00:00, 30.67it/s]\n"
     ]
    },
    {
     "name": "stdout",
     "output_type": "stream",
     "text": [
      "File Exported as: inference_data/parquet_files/num_authors/education/2021/education_2021_11_more.parquet\n",
      "Year: 2021, Month: 12, total: 3959, less than 2: 2465, more than 2:1480\n",
      "Exporting parquet\n"
     ]
    },
    {
     "name": "stderr",
     "output_type": "stream",
     "text": [
      "100%|███████████████████████████████████████| 2465/2465 [01:13<00:00, 33.75it/s]\n"
     ]
    },
    {
     "name": "stdout",
     "output_type": "stream",
     "text": [
      "File Exported as: inference_data/parquet_files/num_authors/education/2021/education_2021_12_less.parquet\n",
      "Exporting parquet\n"
     ]
    },
    {
     "name": "stderr",
     "output_type": "stream",
     "text": [
      "100%|███████████████████████████████████████| 1480/1480 [00:46<00:00, 31.71it/s]\n"
     ]
    },
    {
     "name": "stdout",
     "output_type": "stream",
     "text": [
      "File Exported as: inference_data/parquet_files/num_authors/education/2021/education_2021_12_more.parquet\n"
     ]
    }
   ],
   "source": [
    "thresh = 2 \n",
    "dest = Path(\"inference_data/parquet_files/num_authors/{}\".format(subject))\n",
    "dest.mkdir(parents=True, exist_ok=True)\n",
    "time_window = 1 # the time frame over which we look \n",
    "for year in [2024, 2023, 2022, 2021]:\n",
    "    dest_year = dest / str(year) \n",
    "    dest_year.mkdir(parents=True, exist_ok=True) \n",
    "    months = np.arange(1, 13) \n",
    "    grouped_data = []\n",
    "    q_count = 0\n",
    "    for m in months:\n",
    "        full_path = f\"{base_loc}/{year}/{subject}_{year}_{m}.pkl\"\n",
    "        with open(full_path, \"rb\") as f:\n",
    "            data = pickle.load(f)\n",
    "        grouped_data.append(data)\n",
    "        if len(grouped_data) == time_window:\n",
    "            combined = combine_collections(grouped_data)\n",
    "            sub_coll1, sub_coll2 = group_by_num_authors(combined)\n",
    "            grouped_data = []\n",
    "            q_count += 1\n",
    "            name = f\"{subject}_{year}_{q_count}\"\n",
    "            print(\"Year: {}, Month: {}, total: {}, less than {}: {}, more than {}:{}\".format(\n",
    "                            year, m, combined.get_size(), thresh, sub_coll1.get_size(), \n",
    "                            thresh, sub_coll2.get_size()))\n",
    "            sub_coll1.export_parquet(dest_year, f\"{name}_less\")\n",
    "            sub_coll2.export_parquet(dest_year, f\"{name}_more\")"
   ]
  },
  {
   "cell_type": "code",
   "execution_count": 30,
   "id": "328f1a4f-a8be-412f-8d70-a79e6ef3dadc",
   "metadata": {},
   "outputs": [
    {
     "name": "stdout",
     "output_type": "stream",
     "text": [
      "File: education_2024_10_less.parquet\n",
      "ERROR\n",
      "File: education_2024_10_more.parquet\n",
      "ERROR\n",
      "File: education_2024_11_less.parquet\n",
      "ERROR\n",
      "File: education_2024_11_more.parquet\n",
      "ERROR\n",
      "File: education_2024_12_less.parquet\n",
      "     0.411,     0.327\n",
      "File: education_2024_12_more.parquet\n",
      "ERROR\n",
      "File: education_2024_1_less.parquet\n",
      "     0.298,     0.011\n",
      "File: education_2024_1_more.parquet\n",
      "     0.214,     0.010\n",
      "File: education_2024_2_less.parquet\n",
      "     0.358,     0.011\n",
      "File: education_2024_2_more.parquet\n",
      "     0.210,     0.011\n",
      "File: education_2024_3_less.parquet\n",
      "     0.328,     0.010\n",
      "File: education_2024_3_more.parquet\n",
      "     0.230,     0.011\n",
      "File: education_2024_4_less.parquet\n",
      "     0.345,     0.016\n",
      "File: education_2024_4_more.parquet\n",
      "     0.233,     0.016\n",
      "File: education_2024_5_less.parquet\n",
      "     0.328,     0.174\n",
      "File: education_2024_5_more.parquet\n",
      "     0.492,     0.378\n",
      "File: education_2024_6_less.parquet\n",
      "     0.160,     0.110\n",
      "File: education_2024_6_more.parquet\n",
      "     0.227,     0.074\n",
      "File: education_2024_7_less.parquet\n",
      "ERROR\n",
      "File: education_2024_7_more.parquet\n",
      "ERROR\n",
      "File: education_2024_8_less.parquet\n",
      "     0.737,     0.202\n",
      "File: education_2024_8_more.parquet\n",
      "     0.000,     0.000\n",
      "File: education_2024_9_less.parquet\n",
      "ERROR\n",
      "File: education_2024_9_more.parquet\n",
      "     0.000,     0.000\n",
      "File: education_2023_10_less.parquet\n",
      "     0.234,     0.009\n",
      "File: education_2023_10_more.parquet\n",
      "     0.128,     0.008\n",
      "File: education_2023_11_less.parquet\n",
      "     0.258,     0.009\n",
      "File: education_2023_11_more.parquet\n",
      "     0.142,     0.008\n",
      "File: education_2023_12_less.parquet\n",
      "     0.275,     0.008\n",
      "File: education_2023_12_more.parquet\n",
      "     0.169,     0.007\n",
      "File: education_2023_1_less.parquet\n",
      "     0.072,     0.007\n",
      "File: education_2023_1_more.parquet\n",
      "     0.033,     0.005\n",
      "File: education_2023_2_less.parquet\n",
      "     0.089,     0.007\n",
      "File: education_2023_2_more.parquet\n",
      "     0.045,     0.007\n",
      "File: education_2023_3_less.parquet\n",
      "     0.113,     0.007\n",
      "File: education_2023_3_more.parquet\n",
      "     0.074,     0.006\n",
      "File: education_2023_4_less.parquet\n",
      "     0.139,     0.007\n",
      "File: education_2023_4_more.parquet\n",
      "     0.071,     0.006\n",
      "File: education_2023_5_less.parquet\n",
      "     0.145,     0.007\n",
      "File: education_2023_5_more.parquet\n",
      "     0.091,     0.007\n",
      "File: education_2023_6_less.parquet\n",
      "     0.172,     0.007\n",
      "File: education_2023_6_more.parquet\n",
      "     0.090,     0.005\n",
      "File: education_2023_7_less.parquet\n",
      "     0.166,     0.007\n",
      "File: education_2023_7_more.parquet\n",
      "     0.107,     0.007\n",
      "File: education_2023_8_less.parquet\n",
      "     0.176,     0.008\n",
      "File: education_2023_8_more.parquet\n",
      "     0.096,     0.007\n",
      "File: education_2023_9_less.parquet\n",
      "     0.250,     0.010\n",
      "File: education_2023_9_more.parquet\n",
      "     0.127,     0.008\n",
      "File: education_2022_10_less.parquet\n",
      "     0.077,     0.007\n",
      "File: education_2022_10_more.parquet\n",
      "     0.048,     0.006\n",
      "File: education_2022_11_less.parquet\n",
      "     0.082,     0.007\n",
      "File: education_2022_11_more.parquet\n",
      "     0.040,     0.006\n",
      "File: education_2022_12_less.parquet\n",
      "     0.079,     0.005\n",
      "File: education_2022_12_more.parquet\n",
      "     0.035,     0.004\n",
      "File: education_2022_1_less.parquet\n",
      "     0.064,     0.006\n",
      "File: education_2022_1_more.parquet\n",
      "     0.030,     0.006\n",
      "File: education_2022_2_less.parquet\n",
      "     0.065,     0.007\n",
      "File: education_2022_2_more.parquet\n",
      "     0.059,     0.008\n",
      "File: education_2022_3_less.parquet\n",
      "     0.076,     0.007\n",
      "File: education_2022_3_more.parquet\n",
      "     0.029,     0.006\n",
      "File: education_2022_4_less.parquet\n",
      "     0.068,     0.006\n",
      "File: education_2022_4_more.parquet\n",
      "     0.028,     0.005\n",
      "File: education_2022_5_less.parquet\n",
      "     0.069,     0.007\n",
      "File: education_2022_5_more.parquet\n",
      "     0.056,     0.008\n",
      "File: education_2022_6_less.parquet\n",
      "     0.061,     0.005\n",
      "File: education_2022_6_more.parquet\n",
      "     0.046,     0.005\n",
      "File: education_2022_7_less.parquet\n",
      "     0.066,     0.006\n",
      "File: education_2022_7_more.parquet\n",
      "     0.038,     0.006\n",
      "File: education_2022_8_less.parquet\n",
      "     0.067,     0.007\n",
      "File: education_2022_8_more.parquet\n",
      "     0.027,     0.005\n",
      "File: education_2022_9_less.parquet\n",
      "     0.063,     0.006\n",
      "File: education_2022_9_more.parquet\n",
      "     0.049,     0.006\n",
      "File: education_2021_10_less.parquet\n",
      "     0.049,     0.006\n",
      "File: education_2021_10_more.parquet\n",
      "     0.047,     0.007\n",
      "File: education_2021_11_less.parquet\n",
      "     0.061,     0.006\n",
      "File: education_2021_11_more.parquet\n",
      "     0.029,     0.006\n",
      "File: education_2021_12_less.parquet\n",
      "     0.057,     0.004\n",
      "File: education_2021_12_more.parquet\n",
      "     0.033,     0.004\n",
      "File: education_2021_1_less.parquet\n",
      "     0.051,     0.006\n",
      "File: education_2021_1_more.parquet\n",
      "     0.037,     0.008\n",
      "File: education_2021_2_less.parquet\n",
      "     0.048,     0.007\n",
      "File: education_2021_2_more.parquet\n",
      "     0.029,     0.007\n",
      "File: education_2021_3_less.parquet\n",
      "     0.046,     0.006\n",
      "File: education_2021_3_more.parquet\n",
      "     0.047,     0.007\n",
      "File: education_2021_4_less.parquet\n",
      "     0.066,     0.006\n",
      "File: education_2021_4_more.parquet\n",
      "     0.028,     0.006\n",
      "File: education_2021_5_less.parquet\n",
      "     0.065,     0.006\n",
      "File: education_2021_5_more.parquet\n",
      "     0.046,     0.008\n",
      "File: education_2021_6_less.parquet\n",
      "     0.052,     0.005\n",
      "File: education_2021_6_more.parquet\n",
      "     0.040,     0.005\n",
      "File: education_2021_7_less.parquet\n",
      "     0.055,     0.005\n",
      "File: education_2021_7_more.parquet\n",
      "     0.033,     0.006\n",
      "File: education_2021_8_less.parquet\n",
      "     0.060,     0.006\n",
      "File: education_2021_8_more.parquet\n",
      "     0.031,     0.006\n",
      "File: education_2021_9_less.parquet\n",
      "     0.055,     0.006\n",
      "File: education_2021_9_more.parquet\n",
      "     0.049,     0.006\n"
     ]
    }
   ],
   "source": [
    "parquet_base_loc = \"inference_data/parquet_files/num_authors/{}\".format(subject)\n",
    "name = \"ojs_ed\"\n",
    "all_results_less = {}\n",
    "all_results_more = {}\n",
    "model= MLE(f\"distribution/{name}.parquet\")\n",
    "for year in [2024, 2023, 2022, 2021]:\n",
    "    if year not in all_results_less:\n",
    "        all_results_less[year] = {}\n",
    "    if year not in all_results_more:\n",
    "        all_results_more[year] = {}\n",
    "    parquet_year_path = \"{}/{}\".format(parquet_base_loc, year) \n",
    "    for f in sorted(os.listdir(parquet_year_path)):\n",
    "        if \".parquet\" in f and \"whole\" not in f:\n",
    "            print(\"File: {}\".format(f))\n",
    "            quarter = int(f.strip(\".parquet\").split(\"_\")[-2])\n",
    "            full_path = \"{}/{}\".format(parquet_year_path, f)\n",
    "            estimated,ci = model.inference(full_path,\n",
    "                                     ground_truth=None, save=False)\n",
    "            if estimated is not None and ci is not None :\n",
    "                print(f\"{estimated:10.3f},{ci:10.3f}\")\n",
    "                if \"less\" in f:\n",
    "                    all_results_less[year][quarter] = (estimated, ci)\n",
    "                elif \"more\" in f:\n",
    "                    all_results_more[year][quarter] = (estimated, ci)"
   ]
  },
  {
   "cell_type": "code",
   "execution_count": 31,
   "id": "5e6d3bea-0acb-4801-96f6-76158546348a",
   "metadata": {},
   "outputs": [],
   "source": [
    "output_folder = Path(\"output\")\n",
    "output_folder.mkdir(parents=True, exist_ok=True) \n",
    "with open(output_folder / \"num_author_trend_results_less_quarter.pkl\", \"wb\") as f:\n",
    "    pickle.dump(all_results_less, f) \n",
    "with open(output_folder / \"num_author_trend_results_more_quarter.pkl\", \"wb\") as f:\n",
    "    pickle.dump(all_results_more, f)"
   ]
  },
  {
   "cell_type": "code",
   "execution_count": 32,
   "id": "eb12da8d-c675-4769-952d-cc8dbd62dde2",
   "metadata": {},
   "outputs": [
    {
     "name": "stdout",
     "output_type": "stream",
     "text": [
      "m: [0.037 0.029 0.047 0.028 0.046 0.04  0.033 0.031 0.049 0.047 0.029 0.033\n",
      " 0.03  0.059 0.029 0.028 0.056 0.046 0.038 0.027 0.049 0.048 0.04  0.035\n",
      " 0.033 0.045 0.074 0.071 0.091 0.09  0.107 0.096 0.127 0.128 0.142 0.169\n",
      " 0.214]\n"
     ]
    },
    {
     "data": {
      "text/plain": [
       "<matplotlib.legend.Legend at 0x7fab22b7b040>"
      ]
     },
     "execution_count": 32,
     "metadata": {},
     "output_type": "execute_result"
    },
    {
     "data": {
      "image/png": "[encoded data removed]",
      "text/plain": [
       "<Figure size 640x480 with 1 Axes>"
      ]
     },
     "metadata": {},
     "output_type": "display_data"
    }
   ],
   "source": [
    "def convert_to_array(all_results):\n",
    "    \"\"\"\n",
    "    extracts the alpha and confidence interval values from a dictionary \n",
    "    and converts them into array\n",
    "    \"\"\"\n",
    "    alpha_li = []\n",
    "    ci_li = []\n",
    "    year_month = []\n",
    "    for key1 in sorted(all_results.keys()):\n",
    "        for key2 in sorted(all_results[key1]):\n",
    "            if key1 != 2024:\n",
    "                alpha_li.append(all_results[key1][key2][0])\n",
    "                ci_li.append(all_results[key1][key2][1])\n",
    "            else:\n",
    "                if key2 < 2:\n",
    "                    alpha_li.append(all_results[key1][key2][0])\n",
    "                    ci_li.append(all_results[key1][key2][1])\n",
    "            year_month.append(\"{}-{}\".format(key1, key2))\n",
    "    return np.asarray(alpha_li), np.asarray(ci_li), year_month\n",
    "\n",
    "\n",
    "#output_folder = Path(\"output\")\n",
    "#output_folder.mkdir(parents=True, exist_ok=True) \n",
    "#with open(output_folder / \"author_trend_results_less.pkl\", \"rb\") as f:\n",
    "#    all_results_less = pickle.load(f)\n",
    "#with open(output_folder / \"author_trend_results_more.pkl\", \"rb\") as f:\n",
    "#    all_results_more = pickle.load(f)\n",
    "    \n",
    "alpha_s, ci_s, x_lab = convert_to_array(all_results_less)\n",
    "alpha_m, ci_m, x_lab = convert_to_array(all_results_more)\n",
    "time = np.arange(1, len(alpha_s) +1)\n",
    "#xticks = np.arange(0, len(ci_s), 3)\n",
    "print(\"m:\", alpha_m)\n",
    "#tick_labs = [x_lab[i] for i in xticks]\n",
    "fig = plt.figure()\n",
    "axes = fig.add_subplot(1, 1, 1) \n",
    "axes.set_xlabel(\"time\")\n",
    "axes.set_ylabel(r\"$\\alpha$\") \n",
    "axes.set_title(\"Analysis by author frequency\")\n",
    "axes.plot(time, alpha_s, \"-o\", label=\"<={}\".format(2), color=\"red\")\n",
    "axes.plot(time, alpha_m, \"-o\", label=\">{}\".format(2), color=\"blue\")\n",
    "axes.fill_between(time, (alpha_s-ci_s), (alpha_s+ci_s), \n",
    "                color='red', alpha=.2)\n",
    "axes.fill_between(time, (alpha_m-ci_m), (alpha_m+ci_m), \n",
    "                color='blue', alpha=.2)\n",
    "axes.legend()\n",
    "#axes.set_xticks(xticks, tick_labs, rotation=90)"
   ]
  },
  {
   "cell_type": "code",
   "execution_count": null,
   "id": "7cab2caa-9d5e-457d-8b1b-8418b40a83f7",
   "metadata": {},
   "outputs": [],
   "source": []
  }
 ],
 "metadata": {
  "kernelspec": {
   "display_name": "Python 3 (ipykernel)",
   "language": "python",
   "name": "python3"
  },
  "language_info": {
   "codemirror_mode": {
    "name": "ipython",
    "version": 3
   },
   "file_extension": ".py",
   "mimetype": "text/x-python",
   "name": "python",
   "nbconvert_exporter": "python",
   "pygments_lexer": "ipython3",
   "version": "3.8.19"
  }
 },
 "nbformat": 4,
 "nbformat_minor": 5
}
