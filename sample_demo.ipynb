{
 "cells": [
  {
   "cell_type": "code",
   "execution_count": 8,
   "id": "dcbf5fbf-9124-4c0a-a56f-a7206a7e9c10",
   "metadata": {},
   "outputs": [],
   "source": [
    "## This notebook provides a simple demonstration on how to use the codebase \n",
    "from helper import convert_raw_json\n",
    "from src.estimation import estimate_text_distribution\n",
    "from src.MLE import MLE\n",
    "import json \n",
    "import pandas as pd "
   ]
  },
  {
   "cell_type": "code",
   "execution_count": 5,
   "id": "b37a8f01-6724-4999-a7f4-b2f8d0981dad",
   "metadata": {},
   "outputs": [],
   "source": [
    "base_json_dir = \"data\" # the path to the raw data \n",
    "subject = \"medicine\"\n",
    "year = 2024\n",
    "month = 4\n",
    "output_folder = \"{}/{}\".format(\"demo_output\", subject)\n",
    "output_name = \"{}_{}\".format(year, month)"
   ]
  },
  {
   "cell_type": "code",
   "execution_count": 6,
   "id": "cf9797ac-87f4-4079-9808-5063a738e0b9",
   "metadata": {},
   "outputs": [],
   "source": [
    "#load the json file\n",
    "with open(\"{}/{}.json\".format(base_json_dir, year), \"r\") as f:\n",
    "    source_json = json.load(f)\n",
    "\n",
    "# the entire collection of data in the source json file \n",
    "all_collection = convert_raw_json(source_json) \n",
    "\n",
    "# articles related to the given subject \n",
    "subj_collection = all_collection.get_articles_subject(subject)\n",
    "\n",
    "# articles related to the given subject published at the given time \n",
    "subj_time_collection = subj_collection.get_articles_time(year, month)\n",
    "subj_time_collection.assign_subject(subject)"
   ]
  },
  {
   "cell_type": "code",
   "execution_count": 7,
   "id": "204c7a76-59c5-4d12-8b67-fdd358fefc8b",
   "metadata": {},
   "outputs": [
    {
     "name": "stdout",
     "output_type": "stream",
     "text": [
      "Exporting parquet\n"
     ]
    },
    {
     "name": "stderr",
     "output_type": "stream",
     "text": [
      "100%|███████████████████████████████████████| 8335/8335 [05:06<00:00, 27.21it/s]\n"
     ]
    },
    {
     "name": "stdout",
     "output_type": "stream",
     "text": [
      "File Exported as: demo_output/medicine/2024_4.parquet\n"
     ]
    }
   ],
   "source": [
    "# export the data as a parquet \n",
    "subj_time_collection.export_parquet(output_folder, output_name)"
   ]
  },
  {
   "cell_type": "code",
   "execution_count": 10,
   "id": "832c4ece-89c8-4b31-bbcc-4f084464c9f4",
   "metadata": {},
   "outputs": [
    {
     "data": {
      "text/html": [
       "<div>\n",
       "<style scoped>\n",
       "    .dataframe tbody tr th:only-of-type {\n",
       "        vertical-align: middle;\n",
       "    }\n",
       "\n",
       "    .dataframe tbody tr th {\n",
       "        vertical-align: top;\n",
       "    }\n",
       "\n",
       "    .dataframe thead th {\n",
       "        text-align: right;\n",
       "    }\n",
       "</style>\n",
       "<table border=\"1\" class=\"dataframe\">\n",
       "  <thead>\n",
       "    <tr style=\"text-align: right;\">\n",
       "      <th></th>\n",
       "      <th>Word</th>\n",
       "      <th>logP</th>\n",
       "      <th>log1-P</th>\n",
       "      <th>logQ</th>\n",
       "      <th>log1-Q</th>\n",
       "    </tr>\n",
       "  </thead>\n",
       "  <tbody>\n",
       "    <tr>\n",
       "      <th>0</th>\n",
       "      <td>delve</td>\n",
       "      <td>-9.843921</td>\n",
       "      <td>-0.000053</td>\n",
       "      <td>-5.937896</td>\n",
       "      <td>-0.002641</td>\n",
       "    </tr>\n",
       "    <tr>\n",
       "      <th>1</th>\n",
       "      <td>delves</td>\n",
       "      <td>-9.150774</td>\n",
       "      <td>-0.000106</td>\n",
       "      <td>-5.473278</td>\n",
       "      <td>-0.004206</td>\n",
       "    </tr>\n",
       "    <tr>\n",
       "      <th>2</th>\n",
       "      <td>encompass</td>\n",
       "      <td>-9.843921</td>\n",
       "      <td>-0.000053</td>\n",
       "      <td>-6.350124</td>\n",
       "      <td>-0.001748</td>\n",
       "    </tr>\n",
       "    <tr>\n",
       "      <th>3</th>\n",
       "      <td>underscore</td>\n",
       "      <td>-10.162375</td>\n",
       "      <td>-0.000039</td>\n",
       "      <td>-6.736685</td>\n",
       "      <td>-0.001187</td>\n",
       "    </tr>\n",
       "    <tr>\n",
       "      <th>4</th>\n",
       "      <td>shedding</td>\n",
       "      <td>-9.939231</td>\n",
       "      <td>-0.000048</td>\n",
       "      <td>-6.552492</td>\n",
       "      <td>-0.001428</td>\n",
       "    </tr>\n",
       "    <tr>\n",
       "      <th>...</th>\n",
       "      <td>...</td>\n",
       "      <td>...</td>\n",
       "      <td>...</td>\n",
       "      <td>...</td>\n",
       "      <td>...</td>\n",
       "    </tr>\n",
       "    <tr>\n",
       "      <th>12265</th>\n",
       "      <td>usually</td>\n",
       "      <td>-7.065666</td>\n",
       "      <td>-0.000854</td>\n",
       "      <td>-11.918468</td>\n",
       "      <td>-0.000007</td>\n",
       "    </tr>\n",
       "    <tr>\n",
       "      <th>12266</th>\n",
       "      <td>devoted</td>\n",
       "      <td>-7.010708</td>\n",
       "      <td>-0.000903</td>\n",
       "      <td>-11.918468</td>\n",
       "      <td>-0.000007</td>\n",
       "    </tr>\n",
       "    <tr>\n",
       "      <th>12267</th>\n",
       "      <td>lot</td>\n",
       "      <td>-6.610604</td>\n",
       "      <td>-0.001347</td>\n",
       "      <td>-11.918468</td>\n",
       "      <td>-0.000007</td>\n",
       "    </tr>\n",
       "    <tr>\n",
       "      <th>12268</th>\n",
       "      <td>meanwhile</td>\n",
       "      <td>-5.772566</td>\n",
       "      <td>-0.003117</td>\n",
       "      <td>-11.407643</td>\n",
       "      <td>-0.000011</td>\n",
       "    </tr>\n",
       "    <tr>\n",
       "      <th>12269</th>\n",
       "      <td>etc</td>\n",
       "      <td>-6.180359</td>\n",
       "      <td>-0.002072</td>\n",
       "      <td>-11.918468</td>\n",
       "      <td>-0.000007</td>\n",
       "    </tr>\n",
       "  </tbody>\n",
       "</table>\n",
       "<p>12270 rows × 5 columns</p>\n",
       "</div>"
      ],
      "text/plain": [
       "             Word       logP    log1-P       logQ    log1-Q\n",
       "0           delve  -9.843921 -0.000053  -5.937896 -0.002641\n",
       "1          delves  -9.150774 -0.000106  -5.473278 -0.004206\n",
       "2       encompass  -9.843921 -0.000053  -6.350124 -0.001748\n",
       "3      underscore -10.162375 -0.000039  -6.736685 -0.001187\n",
       "4        shedding  -9.939231 -0.000048  -6.552492 -0.001428\n",
       "...           ...        ...       ...        ...       ...\n",
       "12265     usually  -7.065666 -0.000854 -11.918468 -0.000007\n",
       "12266     devoted  -7.010708 -0.000903 -11.918468 -0.000007\n",
       "12267         lot  -6.610604 -0.001347 -11.918468 -0.000007\n",
       "12268   meanwhile  -5.772566 -0.003117 -11.407643 -0.000011\n",
       "12269         etc  -6.180359 -0.002072 -11.918468 -0.000007\n",
       "\n",
       "[12270 rows x 5 columns]"
      ]
     },
     "execution_count": 10,
     "metadata": {},
     "output_type": "execute_result"
    }
   ],
   "source": [
    "dist_loc = \"data/distribution/distribution.parquet\" \n",
    "dist_df = pd.read_parquet(dist_loc)\n",
    "dist_df"
   ]
  },
  {
   "cell_type": "code",
   "execution_count": 14,
   "id": "dee9d8c6-5bca-4a83-b139-bd3f4400689e",
   "metadata": {},
   "outputs": [
    {
     "data": {
      "text/html": [
       "<div>\n",
       "<style scoped>\n",
       "    .dataframe tbody tr th:only-of-type {\n",
       "        vertical-align: middle;\n",
       "    }\n",
       "\n",
       "    .dataframe tbody tr th {\n",
       "        vertical-align: top;\n",
       "    }\n",
       "\n",
       "    .dataframe thead th {\n",
       "        text-align: right;\n",
       "    }\n",
       "</style>\n",
       "<table border=\"1\" class=\"dataframe\">\n",
       "  <thead>\n",
       "    <tr style=\"text-align: right;\">\n",
       "      <th></th>\n",
       "      <th>inference_sentence</th>\n",
       "    </tr>\n",
       "  </thead>\n",
       "  <tbody>\n",
       "    <tr>\n",
       "      <th>0</th>\n",
       "      <td>[temporomandibular, disorder, is, a, disorder,...</td>\n",
       "    </tr>\n",
       "    <tr>\n",
       "      <th>1</th>\n",
       "      <td>[the, disorders, can, disturb, daily, activity...</td>\n",
       "    </tr>\n",
       "    <tr>\n",
       "      <th>2</th>\n",
       "      <td>[the, therapy, consuming, time, and, cost]</td>\n",
       "    </tr>\n",
       "    <tr>\n",
       "      <th>3</th>\n",
       "      <td>[early, detection, of, temporomandibular, diso...</td>\n",
       "    </tr>\n",
       "    <tr>\n",
       "      <th>4</th>\n",
       "      <td>[increased, cortisol, can, be, found, in, myof...</td>\n",
       "    </tr>\n",
       "    <tr>\n",
       "      <th>...</th>\n",
       "      <td>...</td>\n",
       "    </tr>\n",
       "    <tr>\n",
       "      <th>107166</th>\n",
       "      <td>[objective, to, analyze, if, the, level, of, a...</td>\n",
       "    </tr>\n",
       "    <tr>\n",
       "      <th>107167</th>\n",
       "      <td>[materials, and, methods, narrative, review, o...</td>\n",
       "    </tr>\n",
       "    <tr>\n",
       "      <th>107168</th>\n",
       "      <td>[the, research, obeyed, the, criterion, of, ye...</td>\n",
       "    </tr>\n",
       "    <tr>\n",
       "      <th>107169</th>\n",
       "      <td>[conclusion, for, a, process, of, gluteus, max...</td>\n",
       "    </tr>\n",
       "    <tr>\n",
       "      <th>107170</th>\n",
       "      <td>[also, to, optimize, the, activation, of, the,...</td>\n",
       "    </tr>\n",
       "  </tbody>\n",
       "</table>\n",
       "<p>107171 rows × 1 columns</p>\n",
       "</div>"
      ],
      "text/plain": [
       "                                       inference_sentence\n",
       "0       [temporomandibular, disorder, is, a, disorder,...\n",
       "1       [the, disorders, can, disturb, daily, activity...\n",
       "2              [the, therapy, consuming, time, and, cost]\n",
       "3       [early, detection, of, temporomandibular, diso...\n",
       "4       [increased, cortisol, can, be, found, in, myof...\n",
       "...                                                   ...\n",
       "107166  [objective, to, analyze, if, the, level, of, a...\n",
       "107167  [materials, and, methods, narrative, review, o...\n",
       "107168  [the, research, obeyed, the, criterion, of, ye...\n",
       "107169  [conclusion, for, a, process, of, gluteus, max...\n",
       "107170  [also, to, optimize, the, activation, of, the,...\n",
       "\n",
       "[107171 rows x 1 columns]"
      ]
     },
     "execution_count": 14,
     "metadata": {},
     "output_type": "execute_result"
    }
   ],
   "source": [
    "output_data = pd.read_parquet(\"{}/{}.parquet\".format(output_folder, output_name))\n",
    "output_data"
   ]
  },
  {
   "cell_type": "code",
   "execution_count": 11,
   "id": "15c3e3b9-d511-40f2-982e-6404ac6f49ab",
   "metadata": {},
   "outputs": [],
   "source": [
    "# estimate the fraction of text written by GPT \n",
    "model= MLE(dist_loc)\n",
    "alpha, ci= model.inference(\"{}/{}.parquet\".format(output_folder, output_name))"
   ]
  },
  {
   "cell_type": "code",
   "execution_count": 12,
   "id": "53d926d2-d010-4c32-a7bd-4f225db04038",
   "metadata": {},
   "outputs": [
    {
     "data": {
      "text/plain": [
       "0.031"
      ]
     },
     "execution_count": 12,
     "metadata": {},
     "output_type": "execute_result"
    }
   ],
   "source": [
    "print(\"alpha:{}, CI: {}\".format(alpha, ci)"
   ]
  },
  {
   "cell_type": "code",
   "execution_count": 13,
   "id": "fd6f6b3c-af86-4b06-bd5f-8b4cc74787ce",
   "metadata": {},
   "outputs": [
    {
     "data": {
      "text/plain": [
       "0.002"
      ]
     },
     "execution_count": 13,
     "metadata": {},
     "output_type": "execute_result"
    }
   ],
   "source": [
    "ci"
   ]
  },
  {
   "cell_type": "code",
   "execution_count": null,
   "id": "53c5dd84-f966-4b6c-8543-586a21896df4",
   "metadata": {},
   "outputs": [],
   "source": []
  }
 ],
 "metadata": {
  "kernelspec": {
   "display_name": "Python 3 (ipykernel)",
   "language": "python",
   "name": "python3"
  },
  "language_info": {
   "codemirror_mode": {
    "name": "ipython",
    "version": 3
   },
   "file_extension": ".py",
   "mimetype": "text/x-python",
   "name": "python",
   "nbconvert_exporter": "python",
   "pygments_lexer": "ipython3",
   "version": "3.8.19"
  }
 },
 "nbformat": 4,
 "nbformat_minor": 5
}
