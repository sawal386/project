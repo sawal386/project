{
 "cells": [
  {
   "cell_type": "code",
   "execution_count": 1,
   "metadata": {},
   "outputs": [],
   "source": [
    "__author__ = \"Jon Ball\"\n",
    "__version__ = \"May 2024\""
   ]
  },
  {
   "cell_type": "code",
   "execution_count": 2,
   "metadata": {},
   "outputs": [],
   "source": [
    "import os\n",
    "import re\n",
    "import json\n",
    "import random\n",
    "import datetime\n",
    "import warnings\n",
    "import numpy as np\n",
    "import pandas as pd\n",
    "import pyarrow.parquet as pq\n",
    "import seaborn as sns\n",
    "import matplotlib.pyplot as plt\n",
    "from tqdm import tqdm\n",
    "from collections import defaultdict\n",
    "from html import unescape\n",
    "import fasttext\n",
    "import spacy"
   ]
  },
  {
   "cell_type": "code",
   "execution_count": 3,
   "metadata": {},
   "outputs": [],
   "source": [
    "# load spacy English tokenizer\n",
    "spacy_model = \"en_core_web_lg\"\n",
    "nlp = spacy.load(\"en_core_web_lg\")\n",
    "# filter fasttext's annoying auto-warning:\n",
    "# Warning : `load_model` does not return WordVectorModel or SupervisedModel any more, but a `FastText` object which is very similar.\n",
    "warnings.filterwarnings(\"ignore\")\n",
    "fasttext.FastText.eprint = lambda *args, **kwargs: None\n",
    "# load fasttext language classifier\n",
    "fasttext_model_path = \"s2_fos/data/lid.176.bin\"\n",
    "fasttext_model = fasttext.load_model(fasttext_model_path)"
   ]
  },
  {
   "cell_type": "code",
   "execution_count": 4,
   "metadata": {},
   "outputs": [],
   "source": [
    "# spacy wrapper\n",
    "def tokenize(text, tokenizer=nlp.tokenizer):\n",
    "    text = text.replace(\"\\n\",\" \")\n",
    "    toks = tokenizer(text)\n",
    "    return [tok.text for tok in toks if not tok.text.isdigit()]\n",
    "# sentence tokenizer wrapping spacy, written by Weixin Liang:\n",
    "# https://github.com/Weixin-Liang/Mapping-the-Increasing-Use-of-LLMs-in-Scientific-Papers/blob/main/tokenize_demo.ipynb\n",
    "\n",
    "def sent_tokenize(text, tokenizer=nlp):\n",
    "    \"\"\"\n",
    "    Processes the input text, splits it into sentences, and further processes each sentence\n",
    "    to extract non-numeric words. It constructs a list of these words for each sentence.\n",
    "\n",
    "    Parameters:\n",
    "    text (str): A string containing multiple sentences.\n",
    "\n",
    "    Returns:\n",
    "    list: A list of lists, where each inner list contains the words from one sentence,\n",
    "          excluding any numeric strings.\n",
    "    \"\"\"\n",
    "    # remove newline characters, this line is not necessary for all cases\n",
    "    # the reason it is included here is because the abstracts in the dataset contain abnormal newline characters\n",
    "    # e.g. Recent works on diffusion models have demonstrated a strong capability for\\nconditioning image generation,\n",
    "    text = text.replace('\\n',' ')\n",
    "    # Initialize an empty list to store the list of words for each sentence\n",
    "    sentence_list=[]\n",
    "    # Process the sentence using the spacy model to extract linguistic features and split into components\n",
    "    doc=tokenizer(text)\n",
    "    # Iterate over each sentence in the processed text\n",
    "    for sent in doc.sents:\n",
    "        # Extract the words from the sentence\n",
    "        words = re.findall(r'\\b\\w+\\b', sent.text.lower())\n",
    "        # Remove any words that are numeric\n",
    "        words_without_digits=[word for word in words if not word.isdigit()]\n",
    "        # If the list is not empty, append the list of words to the sentence_list\n",
    "        if len(words_without_digits)!=0:\n",
    "            sentence_list.append(words_without_digits)\n",
    "    return sentence_list"
   ]
  },
  {
   "cell_type": "code",
   "execution_count": 5,
   "metadata": {},
   "outputs": [],
   "source": [
    "def counts_by_month(month2articles):\n",
    "        # show the number of articles per month\n",
    "        edCounts = {}\n",
    "        for month, articles in month2articles.items():\n",
    "              edCounts[month] = len(articles)\n",
    "        edCounts = pd.DataFrame(edCounts.items(), columns=[\"month\", \"count\"])\n",
    "        edCounts[\"month\"] = edCounts[\"month\"].str.replace(\"_\", \"-\")\n",
    "        edCounts[\"month\"] = pd.to_datetime(edCounts[\"month\"], format=\"%m-%y\")\n",
    "        edCounts = edCounts.sort_values(by=\"month\")\n",
    "        return edCounts"
   ]
  },
  {
   "cell_type": "code",
   "execution_count": 6,
   "metadata": {},
   "outputs": [],
   "source": [
    "def plot_toks(month2articles, tokenize_func=tokenize):\n",
    "    # plot the distribution of article lengths, in spacy tokens\n",
    "    toks = []\n",
    "    for articles in tqdm(month2articles.values()):\n",
    "        toks += [len( \\\n",
    "            tokenize_func(article[\"description\"][0]) \\\n",
    "            ) for article in articles]\n",
    "    sns.histplot(toks, kde=True)"
   ]
  },
  {
   "cell_type": "markdown",
   "metadata": {},
   "source": [
    "# OJS Education"
   ]
  },
  {
   "cell_type": "markdown",
   "metadata": {},
   "source": [
    "## Train\n",
    "2020 + 2021 data"
   ]
  },
  {
   "cell_type": "markdown",
   "metadata": {},
   "source": [
    "### pre-ChatGPT: full sample of articles classified as Education (2020 - Nov 2022)"
   ]
  },
  {
   "cell_type": "code",
   "execution_count": 7,
   "metadata": {},
   "outputs": [],
   "source": [
    "humEd = defaultdict(list)"
   ]
  },
  {
   "cell_type": "markdown",
   "metadata": {},
   "source": [
    "Jan - Nov 2022 (validation)"
   ]
  },
  {
   "cell_type": "code",
   "execution_count": 8,
   "metadata": {},
   "outputs": [],
   "source": [
    "with open(f\"data/json/2022.json\", \"r\") as infile:\n",
    "    y22 = json.load(infile)"
   ]
  },
  {
   "cell_type": "code",
   "execution_count": 9,
   "metadata": {},
   "outputs": [
    {
     "name": "stderr",
     "output_type": "stream",
     "text": [
      "100%|██████████| 109672/109672 [00:17<00:00, 6387.60it/s] \n"
     ]
    }
   ],
   "source": [
    "for articles in tqdm(y22.values()): # number of iters is number of unique OJS installations that published in 2020\n",
    "    for article in articles:\n",
    "        date = article.get(\"date\", [])\n",
    "        if not date:\n",
    "            continue\n",
    "        try:\n",
    "            month = datetime.datetime.strptime(date[0], \"%Y-%m-%d\").month\n",
    "        except ValueError:\n",
    "            continue\n",
    "        predicted_fos = article.get(\"predicted_fos\", [])\n",
    "        if predicted_fos and predicted_fos[0][0] == \"Education\" and month < 12:\n",
    "            humEd[f\"{month}_22\"].append(article)"
   ]
  },
  {
   "cell_type": "code",
   "execution_count": 10,
   "metadata": {},
   "outputs": [],
   "source": [
    "del y22"
   ]
  },
  {
   "cell_type": "markdown",
   "metadata": {},
   "source": [
    "2021 (train)"
   ]
  },
  {
   "cell_type": "code",
   "execution_count": 11,
   "metadata": {},
   "outputs": [],
   "source": [
    "with open(f\"data/json/2021.json\", \"r\") as infile:\n",
    "    y21 = json.load(infile)"
   ]
  },
  {
   "cell_type": "code",
   "execution_count": 12,
   "metadata": {},
   "outputs": [
    {
     "name": "stderr",
     "output_type": "stream",
     "text": [
      "100%|██████████| 108532/108532 [00:22<00:00, 4855.48it/s] \n"
     ]
    }
   ],
   "source": [
    "for articles in tqdm(y21.values()): # number of iters is number of unique OJS installations that published in 2021\n",
    "    for article in articles:\n",
    "        date = article.get(\"date\", [])\n",
    "        if not date:\n",
    "            continue\n",
    "        try:\n",
    "            month = datetime.datetime.strptime(date[0], \"%Y-%m-%d\").month\n",
    "        except ValueError:\n",
    "            continue\n",
    "        predicted_fos = article.get(\"predicted_fos\", [])\n",
    "        if predicted_fos and predicted_fos[0][0] == \"Education\":\n",
    "            humEd[f\"{month}_21\"].append(article)"
   ]
  },
  {
   "cell_type": "code",
   "execution_count": 13,
   "metadata": {},
   "outputs": [],
   "source": [
    "del y21"
   ]
  },
  {
   "cell_type": "markdown",
   "metadata": {},
   "source": [
    "2020 (train)"
   ]
  },
  {
   "cell_type": "code",
   "execution_count": 14,
   "metadata": {},
   "outputs": [],
   "source": [
    "with open(f\"data/json/2020.json\", \"r\") as infile:\n",
    "    y20 = json.load(infile)"
   ]
  },
  {
   "cell_type": "code",
   "execution_count": 15,
   "metadata": {},
   "outputs": [
    {
     "name": "stderr",
     "output_type": "stream",
     "text": [
      "100%|██████████| 97117/97117 [00:21<00:00, 4414.67it/s] \n"
     ]
    }
   ],
   "source": [
    "for articles in tqdm(y20.values()): # number of iters is number of unique OJS installations that published in 2020\n",
    "    for article in articles:\n",
    "        date = article.get(\"date\", [])\n",
    "        if not date:\n",
    "            continue\n",
    "        try:\n",
    "            month = datetime.datetime.strptime(date[0], \"%Y-%m-%d\").month\n",
    "        except ValueError:\n",
    "            continue\n",
    "        predicted_fos = article.get(\"predicted_fos\", [])\n",
    "        if predicted_fos and predicted_fos[0][0] == \"Education\":\n",
    "            humEd[f\"{month}_20\"].append(article)"
   ]
  },
  {
   "cell_type": "code",
   "execution_count": 16,
   "metadata": {},
   "outputs": [
    {
     "data": {
      "text/html": [
       "<div>\n",
       "<style scoped>\n",
       "    .dataframe tbody tr th:only-of-type {\n",
       "        vertical-align: middle;\n",
       "    }\n",
       "\n",
       "    .dataframe tbody tr th {\n",
       "        vertical-align: top;\n",
       "    }\n",
       "\n",
       "    .dataframe thead th {\n",
       "        text-align: right;\n",
       "    }\n",
       "</style>\n",
       "<table border=\"1\" class=\"dataframe\">\n",
       "  <thead>\n",
       "    <tr style=\"text-align: right;\">\n",
       "      <th></th>\n",
       "      <th>month</th>\n",
       "      <th>count</th>\n",
       "    </tr>\n",
       "  </thead>\n",
       "  <tbody>\n",
       "    <tr>\n",
       "      <th>26</th>\n",
       "      <td>2020-01-01</td>\n",
       "      <td>10118</td>\n",
       "    </tr>\n",
       "    <tr>\n",
       "      <th>32</th>\n",
       "      <td>2020-02-01</td>\n",
       "      <td>9078</td>\n",
       "    </tr>\n",
       "    <tr>\n",
       "      <th>30</th>\n",
       "      <td>2020-03-01</td>\n",
       "      <td>10391</td>\n",
       "    </tr>\n",
       "    <tr>\n",
       "      <th>27</th>\n",
       "      <td>2020-04-01</td>\n",
       "      <td>9732</td>\n",
       "    </tr>\n",
       "    <tr>\n",
       "      <th>34</th>\n",
       "      <td>2020-05-01</td>\n",
       "      <td>9794</td>\n",
       "    </tr>\n",
       "    <tr>\n",
       "      <th>24</th>\n",
       "      <td>2020-06-01</td>\n",
       "      <td>16820</td>\n",
       "    </tr>\n",
       "    <tr>\n",
       "      <th>28</th>\n",
       "      <td>2020-07-01</td>\n",
       "      <td>12189</td>\n",
       "    </tr>\n",
       "    <tr>\n",
       "      <th>29</th>\n",
       "      <td>2020-08-01</td>\n",
       "      <td>9838</td>\n",
       "    </tr>\n",
       "    <tr>\n",
       "      <th>25</th>\n",
       "      <td>2020-09-01</td>\n",
       "      <td>11669</td>\n",
       "    </tr>\n",
       "    <tr>\n",
       "      <th>33</th>\n",
       "      <td>2020-10-01</td>\n",
       "      <td>11292</td>\n",
       "    </tr>\n",
       "    <tr>\n",
       "      <th>31</th>\n",
       "      <td>2020-11-01</td>\n",
       "      <td>11611</td>\n",
       "    </tr>\n",
       "    <tr>\n",
       "      <th>23</th>\n",
       "      <td>2020-12-01</td>\n",
       "      <td>27496</td>\n",
       "    </tr>\n",
       "    <tr>\n",
       "      <th>22</th>\n",
       "      <td>2021-01-01</td>\n",
       "      <td>11973</td>\n",
       "    </tr>\n",
       "    <tr>\n",
       "      <th>12</th>\n",
       "      <td>2021-02-01</td>\n",
       "      <td>10073</td>\n",
       "    </tr>\n",
       "    <tr>\n",
       "      <th>20</th>\n",
       "      <td>2021-03-01</td>\n",
       "      <td>13836</td>\n",
       "    </tr>\n",
       "    <tr>\n",
       "      <th>16</th>\n",
       "      <td>2021-04-01</td>\n",
       "      <td>15346</td>\n",
       "    </tr>\n",
       "    <tr>\n",
       "      <th>19</th>\n",
       "      <td>2021-05-01</td>\n",
       "      <td>13767</td>\n",
       "    </tr>\n",
       "    <tr>\n",
       "      <th>17</th>\n",
       "      <td>2021-06-01</td>\n",
       "      <td>21315</td>\n",
       "    </tr>\n",
       "    <tr>\n",
       "      <th>11</th>\n",
       "      <td>2021-07-01</td>\n",
       "      <td>16204</td>\n",
       "    </tr>\n",
       "    <tr>\n",
       "      <th>15</th>\n",
       "      <td>2021-08-01</td>\n",
       "      <td>13933</td>\n",
       "    </tr>\n",
       "    <tr>\n",
       "      <th>14</th>\n",
       "      <td>2021-09-01</td>\n",
       "      <td>14219</td>\n",
       "    </tr>\n",
       "    <tr>\n",
       "      <th>21</th>\n",
       "      <td>2021-10-01</td>\n",
       "      <td>13983</td>\n",
       "    </tr>\n",
       "    <tr>\n",
       "      <th>13</th>\n",
       "      <td>2021-11-01</td>\n",
       "      <td>14528</td>\n",
       "    </tr>\n",
       "    <tr>\n",
       "      <th>18</th>\n",
       "      <td>2021-12-01</td>\n",
       "      <td>31430</td>\n",
       "    </tr>\n",
       "    <tr>\n",
       "      <th>10</th>\n",
       "      <td>2022-01-01</td>\n",
       "      <td>14138</td>\n",
       "    </tr>\n",
       "    <tr>\n",
       "      <th>2</th>\n",
       "      <td>2022-02-01</td>\n",
       "      <td>11537</td>\n",
       "    </tr>\n",
       "    <tr>\n",
       "      <th>8</th>\n",
       "      <td>2022-03-01</td>\n",
       "      <td>14943</td>\n",
       "    </tr>\n",
       "    <tr>\n",
       "      <th>0</th>\n",
       "      <td>2022-04-01</td>\n",
       "      <td>14819</td>\n",
       "    </tr>\n",
       "    <tr>\n",
       "      <th>4</th>\n",
       "      <td>2022-05-01</td>\n",
       "      <td>13185</td>\n",
       "    </tr>\n",
       "    <tr>\n",
       "      <th>7</th>\n",
       "      <td>2022-06-01</td>\n",
       "      <td>24148</td>\n",
       "    </tr>\n",
       "    <tr>\n",
       "      <th>5</th>\n",
       "      <td>2022-07-01</td>\n",
       "      <td>15188</td>\n",
       "    </tr>\n",
       "    <tr>\n",
       "      <th>6</th>\n",
       "      <td>2022-08-01</td>\n",
       "      <td>14161</td>\n",
       "    </tr>\n",
       "    <tr>\n",
       "      <th>1</th>\n",
       "      <td>2022-09-01</td>\n",
       "      <td>15197</td>\n",
       "    </tr>\n",
       "    <tr>\n",
       "      <th>3</th>\n",
       "      <td>2022-10-01</td>\n",
       "      <td>14353</td>\n",
       "    </tr>\n",
       "    <tr>\n",
       "      <th>9</th>\n",
       "      <td>2022-11-01</td>\n",
       "      <td>16775</td>\n",
       "    </tr>\n",
       "  </tbody>\n",
       "</table>\n",
       "</div>"
      ],
      "text/plain": [
       "        month  count\n",
       "26 2020-01-01  10118\n",
       "32 2020-02-01   9078\n",
       "30 2020-03-01  10391\n",
       "27 2020-04-01   9732\n",
       "34 2020-05-01   9794\n",
       "24 2020-06-01  16820\n",
       "28 2020-07-01  12189\n",
       "29 2020-08-01   9838\n",
       "25 2020-09-01  11669\n",
       "33 2020-10-01  11292\n",
       "31 2020-11-01  11611\n",
       "23 2020-12-01  27496\n",
       "22 2021-01-01  11973\n",
       "12 2021-02-01  10073\n",
       "20 2021-03-01  13836\n",
       "16 2021-04-01  15346\n",
       "19 2021-05-01  13767\n",
       "17 2021-06-01  21315\n",
       "11 2021-07-01  16204\n",
       "15 2021-08-01  13933\n",
       "14 2021-09-01  14219\n",
       "21 2021-10-01  13983\n",
       "13 2021-11-01  14528\n",
       "18 2021-12-01  31430\n",
       "10 2022-01-01  14138\n",
       "2  2022-02-01  11537\n",
       "8  2022-03-01  14943\n",
       "0  2022-04-01  14819\n",
       "4  2022-05-01  13185\n",
       "7  2022-06-01  24148\n",
       "5  2022-07-01  15188\n",
       "6  2022-08-01  14161\n",
       "1  2022-09-01  15197\n",
       "3  2022-10-01  14353\n",
       "9  2022-11-01  16775"
      ]
     },
     "execution_count": 16,
     "metadata": {},
     "output_type": "execute_result"
    }
   ],
   "source": [
    "edCounts = counts_by_month(humEd)\n",
    "edCounts"
   ]
  },
  {
   "cell_type": "code",
   "execution_count": 17,
   "metadata": {},
   "outputs": [
    {
     "data": {
      "text/plain": [
       "509079"
      ]
     },
     "execution_count": 17,
     "metadata": {},
     "output_type": "execute_result"
    }
   ],
   "source": [
    "edCounts[\"count\"].sum()"
   ]
  },
  {
   "cell_type": "code",
   "execution_count": 18,
   "metadata": {},
   "outputs": [],
   "source": [
    "del y20"
   ]
  },
  {
   "cell_type": "code",
   "execution_count": 19,
   "metadata": {},
   "outputs": [],
   "source": [
    "with open(f\"data/json/humEd.json\", \"w\") as outfile:\n",
    "    json.dump(humEd, outfile)"
   ]
  },
  {
   "cell_type": "markdown",
   "metadata": {},
   "source": [
    "### pre-ChatGPT: filter out articles where there are two abstracts (?? + en, where the english is possibly translated)"
   ]
  },
  {
   "cell_type": "code",
   "execution_count": 20,
   "metadata": {},
   "outputs": [],
   "source": [
    "with open(f\"data/json/humEd.json\", \"r\") as infile:\n",
    "    humEd = json.load(infile)"
   ]
  },
  {
   "cell_type": "code",
   "execution_count": 21,
   "metadata": {},
   "outputs": [
    {
     "name": "stderr",
     "output_type": "stream",
     "text": [
      "100%|██████████| 35/35 [00:01<00:00, 25.75it/s]\n"
     ]
    }
   ],
   "source": [
    "# remove Ed articles where the description field list contains two items\n",
    "translatEd = defaultdict(list)\n",
    "for month, articles in tqdm(humEd.items()):\n",
    "    filtered = []\n",
    "    for article in articles:\n",
    "        if len(article.get(\"description\", [])) > 1:\n",
    "            translatEd[month].append(article)\n",
    "        elif len(article.get(\"description\", [])) == 1:\n",
    "            filtered.append(article)\n",
    "        else:\n",
    "            continue\n",
    "    humEd[month] = filtered"
   ]
  },
  {
   "cell_type": "code",
   "execution_count": 22,
   "metadata": {},
   "outputs": [],
   "source": [
    "with open(f\"data/json/translatEd.json\", \"w\") as outfile:\n",
    "    json.dump(translatEd, outfile)"
   ]
  },
  {
   "cell_type": "code",
   "execution_count": 23,
   "metadata": {},
   "outputs": [
    {
     "data": {
      "text/html": [
       "<div>\n",
       "<style scoped>\n",
       "    .dataframe tbody tr th:only-of-type {\n",
       "        vertical-align: middle;\n",
       "    }\n",
       "\n",
       "    .dataframe tbody tr th {\n",
       "        vertical-align: top;\n",
       "    }\n",
       "\n",
       "    .dataframe thead th {\n",
       "        text-align: right;\n",
       "    }\n",
       "</style>\n",
       "<table border=\"1\" class=\"dataframe\">\n",
       "  <thead>\n",
       "    <tr style=\"text-align: right;\">\n",
       "      <th></th>\n",
       "      <th>month</th>\n",
       "      <th>count</th>\n",
       "    </tr>\n",
       "  </thead>\n",
       "  <tbody>\n",
       "    <tr>\n",
       "      <th>26</th>\n",
       "      <td>2020-01-01</td>\n",
       "      <td>5478</td>\n",
       "    </tr>\n",
       "    <tr>\n",
       "      <th>32</th>\n",
       "      <td>2020-02-01</td>\n",
       "      <td>5452</td>\n",
       "    </tr>\n",
       "    <tr>\n",
       "      <th>30</th>\n",
       "      <td>2020-03-01</td>\n",
       "      <td>6472</td>\n",
       "    </tr>\n",
       "    <tr>\n",
       "      <th>27</th>\n",
       "      <td>2020-04-01</td>\n",
       "      <td>5915</td>\n",
       "    </tr>\n",
       "    <tr>\n",
       "      <th>34</th>\n",
       "      <td>2020-05-01</td>\n",
       "      <td>5974</td>\n",
       "    </tr>\n",
       "    <tr>\n",
       "      <th>24</th>\n",
       "      <td>2020-06-01</td>\n",
       "      <td>9263</td>\n",
       "    </tr>\n",
       "    <tr>\n",
       "      <th>28</th>\n",
       "      <td>2020-07-01</td>\n",
       "      <td>6636</td>\n",
       "    </tr>\n",
       "    <tr>\n",
       "      <th>29</th>\n",
       "      <td>2020-08-01</td>\n",
       "      <td>5409</td>\n",
       "    </tr>\n",
       "    <tr>\n",
       "      <th>25</th>\n",
       "      <td>2020-09-01</td>\n",
       "      <td>6603</td>\n",
       "    </tr>\n",
       "    <tr>\n",
       "      <th>33</th>\n",
       "      <td>2020-10-01</td>\n",
       "      <td>6567</td>\n",
       "    </tr>\n",
       "    <tr>\n",
       "      <th>31</th>\n",
       "      <td>2020-11-01</td>\n",
       "      <td>7247</td>\n",
       "    </tr>\n",
       "    <tr>\n",
       "      <th>23</th>\n",
       "      <td>2020-12-01</td>\n",
       "      <td>14010</td>\n",
       "    </tr>\n",
       "    <tr>\n",
       "      <th>22</th>\n",
       "      <td>2021-01-01</td>\n",
       "      <td>7228</td>\n",
       "    </tr>\n",
       "    <tr>\n",
       "      <th>12</th>\n",
       "      <td>2021-02-01</td>\n",
       "      <td>6319</td>\n",
       "    </tr>\n",
       "    <tr>\n",
       "      <th>20</th>\n",
       "      <td>2021-03-01</td>\n",
       "      <td>8047</td>\n",
       "    </tr>\n",
       "    <tr>\n",
       "      <th>16</th>\n",
       "      <td>2021-04-01</td>\n",
       "      <td>8804</td>\n",
       "    </tr>\n",
       "    <tr>\n",
       "      <th>19</th>\n",
       "      <td>2021-05-01</td>\n",
       "      <td>8540</td>\n",
       "    </tr>\n",
       "    <tr>\n",
       "      <th>17</th>\n",
       "      <td>2021-06-01</td>\n",
       "      <td>12434</td>\n",
       "    </tr>\n",
       "    <tr>\n",
       "      <th>11</th>\n",
       "      <td>2021-07-01</td>\n",
       "      <td>8844</td>\n",
       "    </tr>\n",
       "    <tr>\n",
       "      <th>15</th>\n",
       "      <td>2021-08-01</td>\n",
       "      <td>7888</td>\n",
       "    </tr>\n",
       "    <tr>\n",
       "      <th>14</th>\n",
       "      <td>2021-09-01</td>\n",
       "      <td>8367</td>\n",
       "    </tr>\n",
       "    <tr>\n",
       "      <th>21</th>\n",
       "      <td>2021-10-01</td>\n",
       "      <td>8172</td>\n",
       "    </tr>\n",
       "    <tr>\n",
       "      <th>13</th>\n",
       "      <td>2021-11-01</td>\n",
       "      <td>8717</td>\n",
       "    </tr>\n",
       "    <tr>\n",
       "      <th>18</th>\n",
       "      <td>2021-12-01</td>\n",
       "      <td>16615</td>\n",
       "    </tr>\n",
       "    <tr>\n",
       "      <th>10</th>\n",
       "      <td>2022-01-01</td>\n",
       "      <td>8105</td>\n",
       "    </tr>\n",
       "    <tr>\n",
       "      <th>2</th>\n",
       "      <td>2022-02-01</td>\n",
       "      <td>7525</td>\n",
       "    </tr>\n",
       "    <tr>\n",
       "      <th>8</th>\n",
       "      <td>2022-03-01</td>\n",
       "      <td>9395</td>\n",
       "    </tr>\n",
       "    <tr>\n",
       "      <th>0</th>\n",
       "      <td>2022-04-01</td>\n",
       "      <td>9139</td>\n",
       "    </tr>\n",
       "    <tr>\n",
       "      <th>4</th>\n",
       "      <td>2022-05-01</td>\n",
       "      <td>8065</td>\n",
       "    </tr>\n",
       "    <tr>\n",
       "      <th>7</th>\n",
       "      <td>2022-06-01</td>\n",
       "      <td>14678</td>\n",
       "    </tr>\n",
       "    <tr>\n",
       "      <th>5</th>\n",
       "      <td>2022-07-01</td>\n",
       "      <td>8887</td>\n",
       "    </tr>\n",
       "    <tr>\n",
       "      <th>6</th>\n",
       "      <td>2022-08-01</td>\n",
       "      <td>8550</td>\n",
       "    </tr>\n",
       "    <tr>\n",
       "      <th>1</th>\n",
       "      <td>2022-09-01</td>\n",
       "      <td>8872</td>\n",
       "    </tr>\n",
       "    <tr>\n",
       "      <th>3</th>\n",
       "      <td>2022-10-01</td>\n",
       "      <td>9173</td>\n",
       "    </tr>\n",
       "    <tr>\n",
       "      <th>9</th>\n",
       "      <td>2022-11-01</td>\n",
       "      <td>11291</td>\n",
       "    </tr>\n",
       "  </tbody>\n",
       "</table>\n",
       "</div>"
      ],
      "text/plain": [
       "        month  count\n",
       "26 2020-01-01   5478\n",
       "32 2020-02-01   5452\n",
       "30 2020-03-01   6472\n",
       "27 2020-04-01   5915\n",
       "34 2020-05-01   5974\n",
       "24 2020-06-01   9263\n",
       "28 2020-07-01   6636\n",
       "29 2020-08-01   5409\n",
       "25 2020-09-01   6603\n",
       "33 2020-10-01   6567\n",
       "31 2020-11-01   7247\n",
       "23 2020-12-01  14010\n",
       "22 2021-01-01   7228\n",
       "12 2021-02-01   6319\n",
       "20 2021-03-01   8047\n",
       "16 2021-04-01   8804\n",
       "19 2021-05-01   8540\n",
       "17 2021-06-01  12434\n",
       "11 2021-07-01   8844\n",
       "15 2021-08-01   7888\n",
       "14 2021-09-01   8367\n",
       "21 2021-10-01   8172\n",
       "13 2021-11-01   8717\n",
       "18 2021-12-01  16615\n",
       "10 2022-01-01   8105\n",
       "2  2022-02-01   7525\n",
       "8  2022-03-01   9395\n",
       "0  2022-04-01   9139\n",
       "4  2022-05-01   8065\n",
       "7  2022-06-01  14678\n",
       "5  2022-07-01   8887\n",
       "6  2022-08-01   8550\n",
       "1  2022-09-01   8872\n",
       "3  2022-10-01   9173\n",
       "9  2022-11-01  11291"
      ]
     },
     "execution_count": 23,
     "metadata": {},
     "output_type": "execute_result"
    }
   ],
   "source": [
    "edCounts = counts_by_month(humEd)\n",
    "edCounts"
   ]
  },
  {
   "cell_type": "code",
   "execution_count": 24,
   "metadata": {},
   "outputs": [
    {
     "data": {
      "text/plain": [
       "298681"
      ]
     },
     "execution_count": 24,
     "metadata": {},
     "output_type": "execute_result"
    }
   ],
   "source": [
    "edCounts[\"count\"].sum()"
   ]
  },
  {
   "cell_type": "markdown",
   "metadata": {},
   "source": [
    "### pre-ChatGPT: filter out extremely long or short abstracts"
   ]
  },
  {
   "cell_type": "code",
   "execution_count": 25,
   "metadata": {},
   "outputs": [
    {
     "name": "stderr",
     "output_type": "stream",
     "text": [
      "100%|██████████| 35/35 [01:50<00:00,  3.17s/it]\n"
     ]
    },
    {
     "data": {
      "image/png": "[encoded data removed]",
      "text/plain": [
       "<Figure size 640x480 with 1 Axes>"
      ]
     },
     "metadata": {},
     "output_type": "display_data"
    }
   ],
   "source": [
    "plot_toks(humEd)"
   ]
  },
  {
   "cell_type": "markdown",
   "metadata": {},
   "source": [
    "Filter out 1% of abstracts that are outliers in terms of length"
   ]
  },
  {
   "cell_type": "code",
   "execution_count": 26,
   "metadata": {},
   "outputs": [
    {
     "name": "stderr",
     "output_type": "stream",
     "text": [
      "100%|██████████| 35/35 [01:15<00:00,  2.17s/it]"
     ]
    },
    {
     "name": "stdout",
     "output_type": "stream",
     "text": [
      "533.0\n",
      "2.0\n"
     ]
    },
    {
     "name": "stderr",
     "output_type": "stream",
     "text": [
      "\n"
     ]
    }
   ],
   "source": [
    "edtoks = [len(tokenize(article[\"description\"][0])) for articles in tqdm(humEd.values()) for article in articles]\n",
    "upper_cutoff = int(np.percentile(edtoks, 99))\n",
    "lower_cutoff = int(np.percentile(edtoks, 1))\n",
    "print(upper_cutoff)\n",
    "print(lower_cutoff)"
   ]
  },
  {
   "cell_type": "markdown",
   "metadata": {},
   "source": [
    "Make that 5%"
   ]
  },
  {
   "cell_type": "code",
   "execution_count": 32,
   "metadata": {},
   "outputs": [
    {
     "name": "stdout",
     "output_type": "stream",
     "text": [
      "533.0\n",
      "31.0\n"
     ]
    }
   ],
   "source": [
    "upper_cutoff = int(np.percentile(edtoks, 99))\n",
    "lower_cutoff = int(np.percentile(edtoks, 4))\n",
    "print(upper_cutoff)\n",
    "print(lower_cutoff)"
   ]
  },
  {
   "cell_type": "code",
   "execution_count": 33,
   "metadata": {},
   "outputs": [
    {
     "name": "stderr",
     "output_type": "stream",
     "text": [
      "100%|██████████| 35/35 [01:18<00:00,  2.24s/it]\n"
     ]
    }
   ],
   "source": [
    "# remove Ed articles where the abstract contains more / fewer tokens than cutoffs\n",
    "for month, articles in tqdm(humEd.items()):\n",
    "    humEd[month] = [article for article in articles if upper_cutoff > \\\n",
    "                     len(tokenize(article[\"description\"][0])) \\\n",
    "                        > lower_cutoff]"
   ]
  },
  {
   "cell_type": "code",
   "execution_count": 34,
   "metadata": {},
   "outputs": [
    {
     "data": {
      "text/html": [
       "<div>\n",
       "<style scoped>\n",
       "    .dataframe tbody tr th:only-of-type {\n",
       "        vertical-align: middle;\n",
       "    }\n",
       "\n",
       "    .dataframe tbody tr th {\n",
       "        vertical-align: top;\n",
       "    }\n",
       "\n",
       "    .dataframe thead th {\n",
       "        text-align: right;\n",
       "    }\n",
       "</style>\n",
       "<table border=\"1\" class=\"dataframe\">\n",
       "  <thead>\n",
       "    <tr style=\"text-align: right;\">\n",
       "      <th></th>\n",
       "      <th>month</th>\n",
       "      <th>count</th>\n",
       "    </tr>\n",
       "  </thead>\n",
       "  <tbody>\n",
       "    <tr>\n",
       "      <th>26</th>\n",
       "      <td>2020-01-01</td>\n",
       "      <td>5259</td>\n",
       "    </tr>\n",
       "    <tr>\n",
       "      <th>32</th>\n",
       "      <td>2020-02-01</td>\n",
       "      <td>5254</td>\n",
       "    </tr>\n",
       "    <tr>\n",
       "      <th>30</th>\n",
       "      <td>2020-03-01</td>\n",
       "      <td>6068</td>\n",
       "    </tr>\n",
       "    <tr>\n",
       "      <th>27</th>\n",
       "      <td>2020-04-01</td>\n",
       "      <td>5662</td>\n",
       "    </tr>\n",
       "    <tr>\n",
       "      <th>34</th>\n",
       "      <td>2020-05-01</td>\n",
       "      <td>5683</td>\n",
       "    </tr>\n",
       "    <tr>\n",
       "      <th>24</th>\n",
       "      <td>2020-06-01</td>\n",
       "      <td>8802</td>\n",
       "    </tr>\n",
       "    <tr>\n",
       "      <th>28</th>\n",
       "      <td>2020-07-01</td>\n",
       "      <td>6372</td>\n",
       "    </tr>\n",
       "    <tr>\n",
       "      <th>29</th>\n",
       "      <td>2020-08-01</td>\n",
       "      <td>5201</td>\n",
       "    </tr>\n",
       "    <tr>\n",
       "      <th>25</th>\n",
       "      <td>2020-09-01</td>\n",
       "      <td>6358</td>\n",
       "    </tr>\n",
       "    <tr>\n",
       "      <th>33</th>\n",
       "      <td>2020-10-01</td>\n",
       "      <td>6221</td>\n",
       "    </tr>\n",
       "    <tr>\n",
       "      <th>31</th>\n",
       "      <td>2020-11-01</td>\n",
       "      <td>6835</td>\n",
       "    </tr>\n",
       "    <tr>\n",
       "      <th>23</th>\n",
       "      <td>2020-12-01</td>\n",
       "      <td>13248</td>\n",
       "    </tr>\n",
       "    <tr>\n",
       "      <th>22</th>\n",
       "      <td>2021-01-01</td>\n",
       "      <td>6924</td>\n",
       "    </tr>\n",
       "    <tr>\n",
       "      <th>12</th>\n",
       "      <td>2021-02-01</td>\n",
       "      <td>5985</td>\n",
       "    </tr>\n",
       "    <tr>\n",
       "      <th>20</th>\n",
       "      <td>2021-03-01</td>\n",
       "      <td>7547</td>\n",
       "    </tr>\n",
       "    <tr>\n",
       "      <th>16</th>\n",
       "      <td>2021-04-01</td>\n",
       "      <td>8288</td>\n",
       "    </tr>\n",
       "    <tr>\n",
       "      <th>19</th>\n",
       "      <td>2021-05-01</td>\n",
       "      <td>8120</td>\n",
       "    </tr>\n",
       "    <tr>\n",
       "      <th>17</th>\n",
       "      <td>2021-06-01</td>\n",
       "      <td>11854</td>\n",
       "    </tr>\n",
       "    <tr>\n",
       "      <th>11</th>\n",
       "      <td>2021-07-01</td>\n",
       "      <td>8478</td>\n",
       "    </tr>\n",
       "    <tr>\n",
       "      <th>15</th>\n",
       "      <td>2021-08-01</td>\n",
       "      <td>7600</td>\n",
       "    </tr>\n",
       "    <tr>\n",
       "      <th>14</th>\n",
       "      <td>2021-09-01</td>\n",
       "      <td>8034</td>\n",
       "    </tr>\n",
       "    <tr>\n",
       "      <th>21</th>\n",
       "      <td>2021-10-01</td>\n",
       "      <td>7763</td>\n",
       "    </tr>\n",
       "    <tr>\n",
       "      <th>13</th>\n",
       "      <td>2021-11-01</td>\n",
       "      <td>8317</td>\n",
       "    </tr>\n",
       "    <tr>\n",
       "      <th>18</th>\n",
       "      <td>2021-12-01</td>\n",
       "      <td>15826</td>\n",
       "    </tr>\n",
       "    <tr>\n",
       "      <th>10</th>\n",
       "      <td>2022-01-01</td>\n",
       "      <td>7717</td>\n",
       "    </tr>\n",
       "    <tr>\n",
       "      <th>2</th>\n",
       "      <td>2022-02-01</td>\n",
       "      <td>7013</td>\n",
       "    </tr>\n",
       "    <tr>\n",
       "      <th>8</th>\n",
       "      <td>2022-03-01</td>\n",
       "      <td>8809</td>\n",
       "    </tr>\n",
       "    <tr>\n",
       "      <th>0</th>\n",
       "      <td>2022-04-01</td>\n",
       "      <td>8666</td>\n",
       "    </tr>\n",
       "    <tr>\n",
       "      <th>4</th>\n",
       "      <td>2022-05-01</td>\n",
       "      <td>7571</td>\n",
       "    </tr>\n",
       "    <tr>\n",
       "      <th>7</th>\n",
       "      <td>2022-06-01</td>\n",
       "      <td>13846</td>\n",
       "    </tr>\n",
       "    <tr>\n",
       "      <th>5</th>\n",
       "      <td>2022-07-01</td>\n",
       "      <td>8328</td>\n",
       "    </tr>\n",
       "    <tr>\n",
       "      <th>6</th>\n",
       "      <td>2022-08-01</td>\n",
       "      <td>8165</td>\n",
       "    </tr>\n",
       "    <tr>\n",
       "      <th>1</th>\n",
       "      <td>2022-09-01</td>\n",
       "      <td>8428</td>\n",
       "    </tr>\n",
       "    <tr>\n",
       "      <th>3</th>\n",
       "      <td>2022-10-01</td>\n",
       "      <td>8682</td>\n",
       "    </tr>\n",
       "    <tr>\n",
       "      <th>9</th>\n",
       "      <td>2022-11-01</td>\n",
       "      <td>10678</td>\n",
       "    </tr>\n",
       "  </tbody>\n",
       "</table>\n",
       "</div>"
      ],
      "text/plain": [
       "        month  count\n",
       "26 2020-01-01   5259\n",
       "32 2020-02-01   5254\n",
       "30 2020-03-01   6068\n",
       "27 2020-04-01   5662\n",
       "34 2020-05-01   5683\n",
       "24 2020-06-01   8802\n",
       "28 2020-07-01   6372\n",
       "29 2020-08-01   5201\n",
       "25 2020-09-01   6358\n",
       "33 2020-10-01   6221\n",
       "31 2020-11-01   6835\n",
       "23 2020-12-01  13248\n",
       "22 2021-01-01   6924\n",
       "12 2021-02-01   5985\n",
       "20 2021-03-01   7547\n",
       "16 2021-04-01   8288\n",
       "19 2021-05-01   8120\n",
       "17 2021-06-01  11854\n",
       "11 2021-07-01   8478\n",
       "15 2021-08-01   7600\n",
       "14 2021-09-01   8034\n",
       "21 2021-10-01   7763\n",
       "13 2021-11-01   8317\n",
       "18 2021-12-01  15826\n",
       "10 2022-01-01   7717\n",
       "2  2022-02-01   7013\n",
       "8  2022-03-01   8809\n",
       "0  2022-04-01   8666\n",
       "4  2022-05-01   7571\n",
       "7  2022-06-01  13846\n",
       "5  2022-07-01   8328\n",
       "6  2022-08-01   8165\n",
       "1  2022-09-01   8428\n",
       "3  2022-10-01   8682\n",
       "9  2022-11-01  10678"
      ]
     },
     "execution_count": 34,
     "metadata": {},
     "output_type": "execute_result"
    }
   ],
   "source": [
    "edCounts = counts_by_month(humEd)\n",
    "edCounts"
   ]
  },
  {
   "cell_type": "code",
   "execution_count": 35,
   "metadata": {},
   "outputs": [
    {
     "data": {
      "text/plain": [
       "283602"
      ]
     },
     "execution_count": 35,
     "metadata": {},
     "output_type": "execute_result"
    }
   ],
   "source": [
    "edCounts[\"count\"].sum()"
   ]
  },
  {
   "cell_type": "code",
   "execution_count": 36,
   "metadata": {},
   "outputs": [
    {
     "name": "stderr",
     "output_type": "stream",
     "text": [
      "100%|██████████| 35/35 [01:16<00:00,  2.18s/it]\n"
     ]
    },
    {
     "data": {
      "image/png": "[encoded data removed]",
      "text/plain": [
       "<Figure size 640x480 with 1 Axes>"
      ]
     },
     "metadata": {},
     "output_type": "display_data"
    }
   ],
   "source": [
    "plot_toks(humEd)"
   ]
  },
  {
   "cell_type": "markdown",
   "metadata": {},
   "source": [
    "### pre-ChatGPT: filter by s2_fos classifier confidence score (> 0.9)\n",
    "... meaning the classifier, pre-trained on GPT-4-labeled data by AI2 / Semantic Scholar, predicts Education over 20 field of study categories with >90% confidence"
   ]
  },
  {
   "cell_type": "code",
   "execution_count": 37,
   "metadata": {},
   "outputs": [
    {
     "name": "stderr",
     "output_type": "stream",
     "text": [
      "100%|██████████| 35/35 [00:02<00:00, 13.51it/s]\n"
     ]
    }
   ],
   "source": [
    "for month, articles in tqdm(humEd.items()):\n",
    "    humEd[month] = [article for article in articles if \\\n",
    "                    article.get(\"predicted_fos\", []) and \\\n",
    "                    article[\"predicted_fos\"][0][0] == \"Education\" and \\\n",
    "                    article[\"predicted_fos\"][0][1] > 0.9]"
   ]
  },
  {
   "cell_type": "code",
   "execution_count": 38,
   "metadata": {},
   "outputs": [
    {
     "data": {
      "text/html": [
       "<div>\n",
       "<style scoped>\n",
       "    .dataframe tbody tr th:only-of-type {\n",
       "        vertical-align: middle;\n",
       "    }\n",
       "\n",
       "    .dataframe tbody tr th {\n",
       "        vertical-align: top;\n",
       "    }\n",
       "\n",
       "    .dataframe thead th {\n",
       "        text-align: right;\n",
       "    }\n",
       "</style>\n",
       "<table border=\"1\" class=\"dataframe\">\n",
       "  <thead>\n",
       "    <tr style=\"text-align: right;\">\n",
       "      <th></th>\n",
       "      <th>month</th>\n",
       "      <th>count</th>\n",
       "    </tr>\n",
       "  </thead>\n",
       "  <tbody>\n",
       "    <tr>\n",
       "      <th>26</th>\n",
       "      <td>2020-01-01</td>\n",
       "      <td>1178</td>\n",
       "    </tr>\n",
       "    <tr>\n",
       "      <th>32</th>\n",
       "      <td>2020-02-01</td>\n",
       "      <td>1212</td>\n",
       "    </tr>\n",
       "    <tr>\n",
       "      <th>30</th>\n",
       "      <td>2020-03-01</td>\n",
       "      <td>1405</td>\n",
       "    </tr>\n",
       "    <tr>\n",
       "      <th>27</th>\n",
       "      <td>2020-04-01</td>\n",
       "      <td>1209</td>\n",
       "    </tr>\n",
       "    <tr>\n",
       "      <th>34</th>\n",
       "      <td>2020-05-01</td>\n",
       "      <td>1517</td>\n",
       "    </tr>\n",
       "    <tr>\n",
       "      <th>24</th>\n",
       "      <td>2020-06-01</td>\n",
       "      <td>1992</td>\n",
       "    </tr>\n",
       "    <tr>\n",
       "      <th>28</th>\n",
       "      <td>2020-07-01</td>\n",
       "      <td>1479</td>\n",
       "    </tr>\n",
       "    <tr>\n",
       "      <th>29</th>\n",
       "      <td>2020-08-01</td>\n",
       "      <td>1206</td>\n",
       "    </tr>\n",
       "    <tr>\n",
       "      <th>25</th>\n",
       "      <td>2020-09-01</td>\n",
       "      <td>1548</td>\n",
       "    </tr>\n",
       "    <tr>\n",
       "      <th>33</th>\n",
       "      <td>2020-10-01</td>\n",
       "      <td>1503</td>\n",
       "    </tr>\n",
       "    <tr>\n",
       "      <th>31</th>\n",
       "      <td>2020-11-01</td>\n",
       "      <td>1611</td>\n",
       "    </tr>\n",
       "    <tr>\n",
       "      <th>23</th>\n",
       "      <td>2020-12-01</td>\n",
       "      <td>3258</td>\n",
       "    </tr>\n",
       "    <tr>\n",
       "      <th>22</th>\n",
       "      <td>2021-01-01</td>\n",
       "      <td>1705</td>\n",
       "    </tr>\n",
       "    <tr>\n",
       "      <th>12</th>\n",
       "      <td>2021-02-01</td>\n",
       "      <td>1547</td>\n",
       "    </tr>\n",
       "    <tr>\n",
       "      <th>20</th>\n",
       "      <td>2021-03-01</td>\n",
       "      <td>2061</td>\n",
       "    </tr>\n",
       "    <tr>\n",
       "      <th>16</th>\n",
       "      <td>2021-04-01</td>\n",
       "      <td>2102</td>\n",
       "    </tr>\n",
       "    <tr>\n",
       "      <th>19</th>\n",
       "      <td>2021-05-01</td>\n",
       "      <td>2324</td>\n",
       "    </tr>\n",
       "    <tr>\n",
       "      <th>17</th>\n",
       "      <td>2021-06-01</td>\n",
       "      <td>2912</td>\n",
       "    </tr>\n",
       "    <tr>\n",
       "      <th>11</th>\n",
       "      <td>2021-07-01</td>\n",
       "      <td>2122</td>\n",
       "    </tr>\n",
       "    <tr>\n",
       "      <th>15</th>\n",
       "      <td>2021-08-01</td>\n",
       "      <td>2032</td>\n",
       "    </tr>\n",
       "    <tr>\n",
       "      <th>14</th>\n",
       "      <td>2021-09-01</td>\n",
       "      <td>2135</td>\n",
       "    </tr>\n",
       "    <tr>\n",
       "      <th>21</th>\n",
       "      <td>2021-10-01</td>\n",
       "      <td>1964</td>\n",
       "    </tr>\n",
       "    <tr>\n",
       "      <th>13</th>\n",
       "      <td>2021-11-01</td>\n",
       "      <td>2296</td>\n",
       "    </tr>\n",
       "    <tr>\n",
       "      <th>18</th>\n",
       "      <td>2021-12-01</td>\n",
       "      <td>3810</td>\n",
       "    </tr>\n",
       "    <tr>\n",
       "      <th>10</th>\n",
       "      <td>2022-01-01</td>\n",
       "      <td>2017</td>\n",
       "    </tr>\n",
       "    <tr>\n",
       "      <th>2</th>\n",
       "      <td>2022-02-01</td>\n",
       "      <td>2039</td>\n",
       "    </tr>\n",
       "    <tr>\n",
       "      <th>8</th>\n",
       "      <td>2022-03-01</td>\n",
       "      <td>2273</td>\n",
       "    </tr>\n",
       "    <tr>\n",
       "      <th>0</th>\n",
       "      <td>2022-04-01</td>\n",
       "      <td>2359</td>\n",
       "    </tr>\n",
       "    <tr>\n",
       "      <th>4</th>\n",
       "      <td>2022-05-01</td>\n",
       "      <td>2182</td>\n",
       "    </tr>\n",
       "    <tr>\n",
       "      <th>7</th>\n",
       "      <td>2022-06-01</td>\n",
       "      <td>3632</td>\n",
       "    </tr>\n",
       "    <tr>\n",
       "      <th>5</th>\n",
       "      <td>2022-07-01</td>\n",
       "      <td>2098</td>\n",
       "    </tr>\n",
       "    <tr>\n",
       "      <th>6</th>\n",
       "      <td>2022-08-01</td>\n",
       "      <td>2043</td>\n",
       "    </tr>\n",
       "    <tr>\n",
       "      <th>1</th>\n",
       "      <td>2022-09-01</td>\n",
       "      <td>2233</td>\n",
       "    </tr>\n",
       "    <tr>\n",
       "      <th>3</th>\n",
       "      <td>2022-10-01</td>\n",
       "      <td>2353</td>\n",
       "    </tr>\n",
       "    <tr>\n",
       "      <th>9</th>\n",
       "      <td>2022-11-01</td>\n",
       "      <td>2865</td>\n",
       "    </tr>\n",
       "  </tbody>\n",
       "</table>\n",
       "</div>"
      ],
      "text/plain": [
       "        month  count\n",
       "26 2020-01-01   1178\n",
       "32 2020-02-01   1212\n",
       "30 2020-03-01   1405\n",
       "27 2020-04-01   1209\n",
       "34 2020-05-01   1517\n",
       "24 2020-06-01   1992\n",
       "28 2020-07-01   1479\n",
       "29 2020-08-01   1206\n",
       "25 2020-09-01   1548\n",
       "33 2020-10-01   1503\n",
       "31 2020-11-01   1611\n",
       "23 2020-12-01   3258\n",
       "22 2021-01-01   1705\n",
       "12 2021-02-01   1547\n",
       "20 2021-03-01   2061\n",
       "16 2021-04-01   2102\n",
       "19 2021-05-01   2324\n",
       "17 2021-06-01   2912\n",
       "11 2021-07-01   2122\n",
       "15 2021-08-01   2032\n",
       "14 2021-09-01   2135\n",
       "21 2021-10-01   1964\n",
       "13 2021-11-01   2296\n",
       "18 2021-12-01   3810\n",
       "10 2022-01-01   2017\n",
       "2  2022-02-01   2039\n",
       "8  2022-03-01   2273\n",
       "0  2022-04-01   2359\n",
       "4  2022-05-01   2182\n",
       "7  2022-06-01   3632\n",
       "5  2022-07-01   2098\n",
       "6  2022-08-01   2043\n",
       "1  2022-09-01   2233\n",
       "3  2022-10-01   2353\n",
       "9  2022-11-01   2865"
      ]
     },
     "execution_count": 38,
     "metadata": {},
     "output_type": "execute_result"
    }
   ],
   "source": [
    "counts_by_month(humEd)"
   ]
  },
  {
   "cell_type": "code",
   "execution_count": 39,
   "metadata": {},
   "outputs": [
    {
     "data": {
      "text/plain": [
       "72222"
      ]
     },
     "execution_count": 39,
     "metadata": {},
     "output_type": "execute_result"
    }
   ],
   "source": [
    "counts_by_month(humEd)[\"count\"].sum()"
   ]
  },
  {
   "cell_type": "code",
   "execution_count": 40,
   "metadata": {},
   "outputs": [
    {
     "name": "stderr",
     "output_type": "stream",
     "text": [
      "100%|██████████| 35/35 [00:18<00:00,  1.87it/s]\n"
     ]
    },
    {
     "data": {
      "image/png": "[encoded data removed]",
      "text/plain": [
       "<Figure size 640x480 with 1 Axes>"
      ]
     },
     "metadata": {},
     "output_type": "display_data"
    }
   ],
   "source": [
    "plot_toks(humEd)"
   ]
  },
  {
   "cell_type": "code",
   "execution_count": 41,
   "metadata": {},
   "outputs": [
    {
     "name": "stdout",
     "output_type": "stream",
     "text": [
      "dict_keys(['4_22', '9_22', '2_22', '10_22', '5_22', '7_22', '8_22', '6_22', '3_22', '11_22', '1_22', '7_21', '2_21', '11_21', '9_21', '8_21', '4_21', '6_21', '12_21', '5_21', '3_21', '10_21', '1_21', '12_20', '6_20', '9_20', '1_20', '4_20', '7_20', '8_20', '3_20', '11_20', '2_20', '10_20', '5_20'])\n"
     ]
    }
   ],
   "source": [
    "print(humEd.keys())"
   ]
  },
  {
   "cell_type": "markdown",
   "metadata": {},
   "source": [
    "### save!"
   ]
  },
  {
   "cell_type": "code",
   "execution_count": 42,
   "metadata": {},
   "outputs": [],
   "source": [
    "with open(\"data/json/humEd.json\", \"w\") as outfile:\n",
    "    json.dump(humEd, outfile)"
   ]
  },
  {
   "cell_type": "markdown",
   "metadata": {},
   "source": [
    "### Human corpus: train split"
   ]
  },
  {
   "cell_type": "markdown",
   "metadata": {},
   "source": [
    "#### 2021 monolingual English abstracts"
   ]
  },
  {
   "cell_type": "code",
   "execution_count": 7,
   "metadata": {},
   "outputs": [],
   "source": [
    "with open(\"data/json/humEd.json\", \"r\") as infile:\n",
    "    humEd = json.load(infile)"
   ]
  },
  {
   "cell_type": "code",
   "execution_count": 8,
   "metadata": {},
   "outputs": [
    {
     "name": "stdout",
     "output_type": "stream",
     "text": [
      "train: 27010\n"
     ]
    }
   ],
   "source": [
    "train = [] # 2021\n",
    "for month, articles in humEd.items():\n",
    "    if month.endswith(\"21\"):\n",
    "        for article in articles:\n",
    "            train.append(unescape(article[\"description\"][0]))\n",
    "print(f\"train: {len(train)}\") # 2021"
   ]
  },
  {
   "cell_type": "markdown",
   "metadata": {},
   "source": [
    "sent_tokenize the human training corpus"
   ]
  },
  {
   "cell_type": "code",
   "execution_count": 9,
   "metadata": {},
   "outputs": [
    {
     "name": "stderr",
     "output_type": "stream",
     "text": [
      "100%|██████████| 27010/27010 [12:28<00:00, 36.08it/s]"
     ]
    },
    {
     "name": "stdout",
     "output_type": "stream",
     "text": [
      "abstracts: 27010\n",
      "sentences: 215536\n",
      "[['this', 'research', 'departs', 'from', 'the', 'lack', 'of', 'teacher', 'ability', 'in', 'making', 'learning', 'planning', 'administration', 'app', 'that', 'matches', 'the', 'instrument', 'of', 'acridiation', 'in'], ['it', 'was', 'discovered', 'when', 'carrying', 'out', 'coaching', 'tasks', 'to', 'teachers', 'in', 'target', 'schools'], ['there', 'are', 'still', 'many', 'teachers', 'who', 'do', 'not', 'understand', 'what', 'it', 'takes', 'to', 'create', 'an', 'app'], ['therefore', 'this', 'study', 'aims', 'to', 'improve', 'the', 'ability', 'of', 'teachers', 'in', 'making', 'app', 'according', 'to', 'the', 'instrument', 'of', 'akriditasi', 'and', 'improved', 'teacher', 'ability', 'to', 'make', 'app', 'according', 'to', 'acrydition', 'instrument'], ['the', 'research', 'method', 'used', 'is', 'school', 'action', 'research', 'pts'], ['the', 'stages', 'of', 'the', 'method', 'are', 'planning', 'implementation', 'reflection', 'and', 'observations'], ['after', 'the', 'implementation', 'of', 'supervision', 'on', 'the', 'analysis', 'of', 'high', 'school', 'accreditation', 'instruments', 'ma', 'to', 'the', 'teachers', 'of', 'target', 'schools', 'in', 'sambas', 'district', 'through', 'the', 'supervision', 'of', 'individuals', 'and', 'groups'], ['results', 'obtained', 'there', 'was', 'an', 'increase', 'in', 'teacher', 'ability', 'in', 'making', 'app', 'in', 'the', 'even', 'semester', 'for', 'the', 'annual', 'program', 'from', 'to', 'increased', 'by', 'semester', 'programs', 'from', 'to', 'increased', 'syllabus', 'from', 'to', 'increased', 'rpp', 'from', 'to', 'increased', 'and', 'kkm', 'from', 'to', 'increased', 'and', 'the', 'average', 'value', 'of', 'teacher', 'ability', 'in', 'making', 'app', 'from', 'to', 'with', 'an', 'increase', 'of']]\n"
     ]
    },
    {
     "name": "stderr",
     "output_type": "stream",
     "text": [
      "\n"
     ]
    }
   ],
   "source": [
    "train_corpus = [sent_tokenize(abstract) for abstract in tqdm(train)]\n",
    "print(f\"abstracts: {len(train_corpus)}\") # 2021\n",
    "print(f\"sentences: {sum(len(abstract) for abstract in train_corpus)}\")\n",
    "print(train_corpus[0])"
   ]
  },
  {
   "cell_type": "code",
   "execution_count": 10,
   "metadata": {},
   "outputs": [
    {
     "name": "stdout",
     "output_type": "stream",
     "text": [
      "Mean length of human-written abstracts, in sentences: 7.979859311366161\n",
      "Median length of human-written abstracts, in sentences: 8\n"
     ]
    },
    {
     "data": {
      "text/plain": [
       "<Axes: ylabel='Count'>"
      ]
     },
     "execution_count": 10,
     "metadata": {},
     "output_type": "execute_result"
    },
    {
     "data": {
      "image/png": "[encoded data removed]",
      "text/plain": [
       "<Figure size 640x480 with 1 Axes>"
      ]
     },
     "metadata": {},
     "output_type": "display_data"
    }
   ],
   "source": [
    "abstract_lens = [len(abstract) for abstract in train_corpus]\n",
    "print(f\"Mean length of human-written abstracts, in sentences: {np.mean(abstract_lens)}\")\n",
    "print(f\"Median length of human-written abstracts, in sentences: {int(np.median(abstract_lens))}\")\n",
    "sns.histplot(abstract_lens, kde=True) # in sentences"
   ]
  },
  {
   "cell_type": "code",
   "execution_count": 11,
   "metadata": {},
   "outputs": [
    {
     "name": "stdout",
     "output_type": "stream",
     "text": [
      "['the', 'study', 'recommended', 'that', 'in', 'order', 'to', 'implement', 'sports', 'and', 'games', 'in', 'public', 'secondary', 'schools', 'government', 'should', 'promote', 'good', 'policies', 'which', 'favor', 'sports', 'and', 'games', 'in', 'secondary', 'schools', 'and', 'establishing', 'sports', 'and', 'games', 'academy', 'for', 'children', 'may', 'help', 'others', 'to', 'grow', 'up', 'with', 'their', 'carrier']\n"
     ]
    }
   ],
   "source": [
    "# unpack the train corpus into a list of sentences\n",
    "train_sents = [sent for abstract in train_corpus for sent in abstract if len(sent) > 1]\n",
    "print(train_sents[-1])"
   ]
  },
  {
   "cell_type": "code",
   "execution_count": 12,
   "metadata": {},
   "outputs": [
    {
     "name": "stdout",
     "output_type": "stream",
     "text": [
      "Mean length of human-written sentences, in tokens: 23.017481426275705\n",
      "Median length of human-written sentences, in tokens: 21\n"
     ]
    },
    {
     "data": {
      "text/plain": [
       "<Axes: ylabel='Count'>"
      ]
     },
     "execution_count": 12,
     "metadata": {},
     "output_type": "execute_result"
    },
    {
     "data": {
      "image/png": "[encoded data removed]",
      "text/plain": [
       "<Figure size 640x480 with 1 Axes>"
      ]
     },
     "metadata": {},
     "output_type": "display_data"
    }
   ],
   "source": [
    "sent_lens = [len(sent) for sent in train_sents]\n",
    "print(f\"Mean length of human-written sentences, in tokens: {np.mean(sent_lens)}\")\n",
    "print(f\"Median length of human-written sentences, in tokens: {int(np.median(sent_lens))}\")\n",
    "sns.histplot(sent_lens, kde=True) # in tokens"
   ]
  },
  {
   "cell_type": "code",
   "execution_count": 13,
   "metadata": {},
   "outputs": [
    {
     "name": "stdout",
     "output_type": "stream",
     "text": [
      "Sentences above 69 tokens removed.\n",
      "Remaining sentences: 212521\n"
     ]
    },
    {
     "data": {
      "text/plain": [
       "<Axes: ylabel='Count'>"
      ]
     },
     "execution_count": 13,
     "metadata": {},
     "output_type": "execute_result"
    },
    {
     "data": {
      "image/png": "[encoded data removed]",
      "text/plain": [
       "<Figure size 640x480 with 1 Axes>"
      ]
     },
     "metadata": {},
     "output_type": "display_data"
    }
   ],
   "source": [
    "# clip the top 1% of sentence lengths\n",
    "upper_cutoff = int(np.percentile(sent_lens, 99))\n",
    "# filter out sentences above the cutoff\n",
    "train_sents = [sent for sent in train_sents if len(sent) < upper_cutoff]\n",
    "print(f\"Sentences above {upper_cutoff} tokens removed.\")\n",
    "print(f\"Remaining sentences: {len(train_sents)}\")\n",
    "sent_lens = [len(sent) for sent in train_sents]\n",
    "sns.histplot(sent_lens, kde=True) # in tokens"
   ]
  },
  {
   "cell_type": "code",
   "execution_count": 14,
   "metadata": {},
   "outputs": [
    {
     "data": {
      "text/html": [
       "<div>\n",
       "<style scoped>\n",
       "    .dataframe tbody tr th:only-of-type {\n",
       "        vertical-align: middle;\n",
       "    }\n",
       "\n",
       "    .dataframe tbody tr th {\n",
       "        vertical-align: top;\n",
       "    }\n",
       "\n",
       "    .dataframe thead th {\n",
       "        text-align: right;\n",
       "    }\n",
       "</style>\n",
       "<table border=\"1\" class=\"dataframe\">\n",
       "  <thead>\n",
       "    <tr style=\"text-align: right;\">\n",
       "      <th></th>\n",
       "      <th>human_sentence</th>\n",
       "    </tr>\n",
       "  </thead>\n",
       "  <tbody>\n",
       "    <tr>\n",
       "      <th>0</th>\n",
       "      <td>[this, research, departs, from, the, lack, of,...</td>\n",
       "    </tr>\n",
       "    <tr>\n",
       "      <th>1</th>\n",
       "      <td>[it, was, discovered, when, carrying, out, coa...</td>\n",
       "    </tr>\n",
       "    <tr>\n",
       "      <th>2</th>\n",
       "      <td>[there, are, still, many, teachers, who, do, n...</td>\n",
       "    </tr>\n",
       "    <tr>\n",
       "      <th>3</th>\n",
       "      <td>[therefore, this, study, aims, to, improve, th...</td>\n",
       "    </tr>\n",
       "    <tr>\n",
       "      <th>4</th>\n",
       "      <td>[the, research, method, used, is, school, acti...</td>\n",
       "    </tr>\n",
       "  </tbody>\n",
       "</table>\n",
       "</div>"
      ],
      "text/plain": [
       "                                      human_sentence\n",
       "0  [this, research, departs, from, the, lack, of,...\n",
       "1  [it, was, discovered, when, carrying, out, coa...\n",
       "2  [there, are, still, many, teachers, who, do, n...\n",
       "3  [therefore, this, study, aims, to, improve, th...\n",
       "4  [the, research, method, used, is, school, acti..."
      ]
     },
     "execution_count": 14,
     "metadata": {},
     "output_type": "execute_result"
    }
   ],
   "source": [
    "humEd_train = pd.DataFrame({\"human_sentence\": train_sents})\n",
    "humEd_train.head()"
   ]
  },
  {
   "cell_type": "code",
   "execution_count": 15,
   "metadata": {},
   "outputs": [],
   "source": [
    "humEd_train.to_parquet(\"data/training_data/ojs_ed/human_data_21.parquet\")"
   ]
  },
  {
   "cell_type": "markdown",
   "metadata": {},
   "source": [
    "#### 2021 translated abstracts"
   ]
  },
  {
   "cell_type": "code",
   "execution_count": 16,
   "metadata": {},
   "outputs": [],
   "source": [
    "with open(\"data/json/engEd.json\", \"r\") as infile:\n",
    "    engEd = json.load(infile)"
   ]
  },
  {
   "cell_type": "code",
   "execution_count": 17,
   "metadata": {},
   "outputs": [
    {
     "name": "stdout",
     "output_type": "stream",
     "text": [
      "abstracts translated into English: 21381\n"
     ]
    }
   ],
   "source": [
    "train = [] # 2021\n",
    "for month, articles in engEd.items():\n",
    "    if month.endswith(\"21\"):\n",
    "        for article in articles:\n",
    "            train.append(unescape(article[\"description\"][0]))\n",
    "print(f\"abstracts translated into English: {len(train)}\") # 2021"
   ]
  },
  {
   "cell_type": "markdown",
   "metadata": {},
   "source": [
    "sent tokenize the translated abstracts"
   ]
  },
  {
   "cell_type": "code",
   "execution_count": 18,
   "metadata": {},
   "outputs": [
    {
     "name": "stderr",
     "output_type": "stream",
     "text": [
      "100%|██████████| 21381/21381 [09:54<00:00, 35.94it/s]"
     ]
    },
    {
     "name": "stdout",
     "output_type": "stream",
     "text": [
      "abstracts: 21381\n",
      "sentences: 145311\n",
      "[['the', 'result', 'of', 'research', 'on', 'dytectiveu', 'application', 'and', 'its', 'contribution', 'to', 'the', 'reading', 'writing', 'process', 'in', 'children', 'with', 'dyslexia', 'is', 'offered'], ['an', 'explanatory', 'descriptive', 'research', 'was', 'developed', 'with', 'the', 'use', 'of', 'quantitative', 'and', 'qualitative', 'methods', 'to', 'explore', 'the', 'reading', 'writing', 'process', 'mediated', 'by', 'technologies', 'of', 'the', 'education'], ['it', 'was', 'found', 'that', 'the', 'dytectiveu', 'application', 'offers', 'multiple', 'actions', 'to', 'learn', 'to', 'read', 'and', 'write', 'during', 'the', 'learning', 'of', 'children', 'with', 'dyslexia'], ['it', 'concludes', 'that', 'the', 'dytectiveu', 'application', 'reveals', 'potentialities', 'to', 'develop', 'the', 'literacy', 'process', 'in', 'children', 'with', 'dyslexia', 'as', 'well', 'as', 'the', 'reasons', 'that', 'lead', 'to', 'its', 'use', 'in', 'the', 'teaching', 'learning', 'process', 'of', 'basic', 'education']]\n"
     ]
    },
    {
     "name": "stderr",
     "output_type": "stream",
     "text": [
      "\n"
     ]
    }
   ],
   "source": [
    "train_corpus = [sent_tokenize(abstract) for abstract in tqdm(train)]\n",
    "print(f\"abstracts: {len(train_corpus)}\") # 2021\n",
    "print(f\"sentences: {sum(len(abstract) for abstract in train_corpus)}\")\n",
    "print(train_corpus[0])"
   ]
  },
  {
   "cell_type": "code",
   "execution_count": 19,
   "metadata": {},
   "outputs": [
    {
     "name": "stdout",
     "output_type": "stream",
     "text": [
      "Mean length of human-written abstracts, in sentences: 6.796267714325803\n",
      "Median length of human-written abstracts, in sentences: 6\n"
     ]
    },
    {
     "data": {
      "text/plain": [
       "<Axes: ylabel='Count'>"
      ]
     },
     "execution_count": 19,
     "metadata": {},
     "output_type": "execute_result"
    },
    {
     "data": {
      "image/png": "[encoded data removed]",
      "text/plain": [
       "<Figure size 640x480 with 1 Axes>"
      ]
     },
     "metadata": {},
     "output_type": "display_data"
    }
   ],
   "source": [
    "abstract_lens = [len(abstract) for abstract in train_corpus]\n",
    "print(f\"Mean length of human-written abstracts, in sentences: {np.mean(abstract_lens)}\")\n",
    "print(f\"Median length of human-written abstracts, in sentences: {int(np.median(abstract_lens))}\")\n",
    "sns.histplot(abstract_lens, kde=True) # in sentences"
   ]
  },
  {
   "cell_type": "code",
   "execution_count": 20,
   "metadata": {},
   "outputs": [
    {
     "name": "stdout",
     "output_type": "stream",
     "text": [
      "['keywords', 'virtual', 'learning', 'environments', 'role', 'of', 'the', 'teacher', 'role', 'of', 'the', 'student', 'technological', 'tools']\n"
     ]
    }
   ],
   "source": [
    "# unpack the train corpus into a list of sentences\n",
    "train_sents = [sent for abstract in train_corpus for sent in abstract if len(sent) > 1]\n",
    "print(train_sents[-1])"
   ]
  },
  {
   "cell_type": "code",
   "execution_count": 21,
   "metadata": {},
   "outputs": [
    {
     "name": "stdout",
     "output_type": "stream",
     "text": [
      "Mean length of human-written sentences, in tokens: 28.004141822679955\n",
      "Median length of human-written sentences, in tokens: 25\n"
     ]
    },
    {
     "data": {
      "text/plain": [
       "<Axes: ylabel='Count'>"
      ]
     },
     "execution_count": 21,
     "metadata": {},
     "output_type": "execute_result"
    },
    {
     "data": {
      "image/png": "[encoded data removed]",
      "text/plain": [
       "<Figure size 640x480 with 1 Axes>"
      ]
     },
     "metadata": {},
     "output_type": "display_data"
    }
   ],
   "source": [
    "sent_lens = [len(sent) for sent in train_sents]\n",
    "print(f\"Mean length of human-written sentences, in tokens: {np.mean(sent_lens)}\")\n",
    "print(f\"Median length of human-written sentences, in tokens: {int(np.median(sent_lens))}\")\n",
    "sns.histplot(sent_lens, kde=True) # in tokens"
   ]
  },
  {
   "cell_type": "code",
   "execution_count": 22,
   "metadata": {},
   "outputs": [
    {
     "name": "stdout",
     "output_type": "stream",
     "text": [
      "Sentences above 91 tokens removed.\n",
      "Remaining sentences: 142424\n"
     ]
    },
    {
     "data": {
      "text/plain": [
       "<Axes: ylabel='Count'>"
      ]
     },
     "execution_count": 22,
     "metadata": {},
     "output_type": "execute_result"
    },
    {
     "data": {
      "image/png": "[encoded data removed]",
      "text/plain": [
       "<Figure size 640x480 with 1 Axes>"
      ]
     },
     "metadata": {},
     "output_type": "display_data"
    }
   ],
   "source": [
    "# clip the top 1% of sentence lengths\n",
    "upper_cutoff = int(np.percentile(sent_lens, 99))\n",
    "# filter out sentences above the cutoff\n",
    "train_sents = [sent for sent in train_sents if len(sent) < upper_cutoff]\n",
    "print(f\"Sentences above {upper_cutoff} tokens removed.\")\n",
    "print(f\"Remaining sentences: {len(train_sents)}\")\n",
    "sent_lens = [len(sent) for sent in train_sents]\n",
    "sns.histplot(sent_lens, kde=True) # in tokens"
   ]
  },
  {
   "cell_type": "code",
   "execution_count": 23,
   "metadata": {},
   "outputs": [
    {
     "data": {
      "text/html": [
       "<div>\n",
       "<style scoped>\n",
       "    .dataframe tbody tr th:only-of-type {\n",
       "        vertical-align: middle;\n",
       "    }\n",
       "\n",
       "    .dataframe tbody tr th {\n",
       "        vertical-align: top;\n",
       "    }\n",
       "\n",
       "    .dataframe thead th {\n",
       "        text-align: right;\n",
       "    }\n",
       "</style>\n",
       "<table border=\"1\" class=\"dataframe\">\n",
       "  <thead>\n",
       "    <tr style=\"text-align: right;\">\n",
       "      <th></th>\n",
       "      <th>human_sentence</th>\n",
       "    </tr>\n",
       "  </thead>\n",
       "  <tbody>\n",
       "    <tr>\n",
       "      <th>0</th>\n",
       "      <td>[the, result, of, research, on, dytectiveu, ap...</td>\n",
       "    </tr>\n",
       "    <tr>\n",
       "      <th>1</th>\n",
       "      <td>[an, explanatory, descriptive, research, was, ...</td>\n",
       "    </tr>\n",
       "    <tr>\n",
       "      <th>2</th>\n",
       "      <td>[it, was, found, that, the, dytectiveu, applic...</td>\n",
       "    </tr>\n",
       "    <tr>\n",
       "      <th>3</th>\n",
       "      <td>[it, concludes, that, the, dytectiveu, applica...</td>\n",
       "    </tr>\n",
       "    <tr>\n",
       "      <th>4</th>\n",
       "      <td>[the, article, gives, a, public, mention, of, ...</td>\n",
       "    </tr>\n",
       "  </tbody>\n",
       "</table>\n",
       "</div>"
      ],
      "text/plain": [
       "                                      human_sentence\n",
       "0  [the, result, of, research, on, dytectiveu, ap...\n",
       "1  [an, explanatory, descriptive, research, was, ...\n",
       "2  [it, was, found, that, the, dytectiveu, applic...\n",
       "3  [it, concludes, that, the, dytectiveu, applica...\n",
       "4  [the, article, gives, a, public, mention, of, ..."
      ]
     },
     "execution_count": 23,
     "metadata": {},
     "output_type": "execute_result"
    }
   ],
   "source": [
    "translatEd_train = pd.DataFrame({\"human_sentence\": train_sents})\n",
    "translatEd_train.head()"
   ]
  },
  {
   "cell_type": "code",
   "execution_count": 24,
   "metadata": {},
   "outputs": [],
   "source": [
    "translatEd_train.to_parquet(\"data/training_data/ojs_ed/human_data_translated_21.parquet\")"
   ]
  },
  {
   "cell_type": "markdown",
   "metadata": {},
   "source": [
    "#### 2020 monolingual English abstracts"
   ]
  },
  {
   "cell_type": "code",
   "execution_count": 25,
   "metadata": {},
   "outputs": [],
   "source": [
    "with open(\"data/json/humEd.json\", \"r\") as infile:\n",
    "    humEd = json.load(infile)"
   ]
  },
  {
   "cell_type": "code",
   "execution_count": 26,
   "metadata": {},
   "outputs": [
    {
     "name": "stdout",
     "output_type": "stream",
     "text": [
      "train: 19118\n"
     ]
    }
   ],
   "source": [
    "train = [] # 2020\n",
    "for month, articles in humEd.items():\n",
    "    if month.endswith(\"20\"):\n",
    "        for article in articles:\n",
    "            train.append(unescape(article[\"description\"][0]))\n",
    "print(f\"train: {len(train)}\") # 2020"
   ]
  },
  {
   "cell_type": "markdown",
   "metadata": {},
   "source": [
    "sent_tokenize the human training corpus"
   ]
  },
  {
   "cell_type": "code",
   "execution_count": 27,
   "metadata": {},
   "outputs": [
    {
     "name": "stderr",
     "output_type": "stream",
     "text": [
      "100%|██████████| 19118/19118 [08:25<00:00, 37.83it/s]"
     ]
    },
    {
     "name": "stdout",
     "output_type": "stream",
     "text": [
      "abstracts: 19118\n",
      "sentences: 155113\n",
      "[['being', 'accepted', 'as', 'out', 'of', 'the', 'four', 'essential', 'language', 'skills', 'in', 'the', 'language', 'learning', 'process', 'writing', 'seems', 'to', 'be', 'difficult', 'for', 'numerous', 'efl', 'learners'], ['this', 'research', 'is', 'an', 'endeavor', 'to', 'explore', 'if', 'learners', 'can', 'grow', 'out', 'of', 'the', 'writing', 'difficulties', 'with', 'topic', 'based', 'writing', 'activity'], ['third', 'year', 'students', 'at', 'the', 'faculty', 'of', 'foreign', 'languages', 'of', 'phan', 'thiet', 'university', 'in', 'phan', 'thiet', 'city', 'binh', 'thuan', 'province', 'participated', 'in', 'the', 'study'], ['these', 'students', 'were', 'in', 'the', 'two', 'writing', 'classes', 'one', 'class', 'was', 'treated', 'as', 'the', 'experimental', 'group', 'eg', 'and', 'the', 'other', 'as', 'the', 'control', 'group', 'cg'], ['research', 'findings', 'exposed', 'the', 'benefits', 'of', 'topic', 'based', 'writing', 'activity', 'in', 'nurturing', 'learners', 'writing', 'motivation', 'and', 'enhancing', 'their', 'writing', 'skill'], ['furthermore', 'this', 'activity', 'gave', 'students', 'good', 'chances', 'to', 'widen', 'their', 'knowledge', 'on', 'the', 'topic', 'enrich', 'their', 'emotion', 'on', 'disadvantaged', 'people', 'and', 'build', 'a', 'friendly', 'learning', 'environment', 'outside', 'the', 'classroom'], ['the', 'necessity', 'and', 'usefulness', 'of', 'the', 'application', 'of', 'topic', 'based', 'writing', 'activity', 'was', 'predominantly', 'recognized', 'among', 'students']]\n"
     ]
    },
    {
     "name": "stderr",
     "output_type": "stream",
     "text": [
      "\n"
     ]
    }
   ],
   "source": [
    "train_corpus = [sent_tokenize(abstract) for abstract in tqdm(train)]\n",
    "print(f\"abstracts: {len(train_corpus)}\") # 2021\n",
    "print(f\"sentences: {sum(len(abstract) for abstract in train_corpus)}\")\n",
    "print(train_corpus[0])"
   ]
  },
  {
   "cell_type": "code",
   "execution_count": 28,
   "metadata": {},
   "outputs": [
    {
     "name": "stdout",
     "output_type": "stream",
     "text": [
      "Mean length of human-written abstracts, in sentences: 8.113453290093107\n",
      "Median length of human-written abstracts, in sentences: 8\n"
     ]
    },
    {
     "data": {
      "text/plain": [
       "<Axes: ylabel='Count'>"
      ]
     },
     "execution_count": 28,
     "metadata": {},
     "output_type": "execute_result"
    },
    {
     "data": {
      "image/png": "[encoded data removed]",
      "text/plain": [
       "<Figure size 640x480 with 1 Axes>"
      ]
     },
     "metadata": {},
     "output_type": "display_data"
    }
   ],
   "source": [
    "abstract_lens = [len(abstract) for abstract in train_corpus]\n",
    "print(f\"Mean length of human-written abstracts, in sentences: {np.mean(abstract_lens)}\")\n",
    "print(f\"Median length of human-written abstracts, in sentences: {int(np.median(abstract_lens))}\")\n",
    "sns.histplot(abstract_lens, kde=True) # in sentences"
   ]
  },
  {
   "cell_type": "code",
   "execution_count": 29,
   "metadata": {},
   "outputs": [
    {
     "name": "stdout",
     "output_type": "stream",
     "text": [
      "['the', 'study', 'suggested', 'educational', 'curriculum', 'needs', 'to', 'be', 'reviewed', 'to', 'meet', 'the', 'demand', 'of', 'the', 'people', 'commence', 'an', 'intensive', 'mentoring', 'programs', 'by', 'formulating', 'link', 'with', 'other', 'industry', 'investors', 'alumni', 'professional', 'and', 'business', 'professions', 'so', 'that', 'university', 'learners', 'can', 'acquire', 'knowledge', 'and', 'skills', 'for', 'industrial', 'development']\n"
     ]
    }
   ],
   "source": [
    "# unpack the train corpus into a list of sentences\n",
    "train_sents = [sent for abstract in train_corpus for sent in abstract if len(sent) > 1]\n",
    "print(train_sents[-1])"
   ]
  },
  {
   "cell_type": "code",
   "execution_count": 30,
   "metadata": {},
   "outputs": [
    {
     "name": "stdout",
     "output_type": "stream",
     "text": [
      "Mean length of human-written sentences, in tokens: 23.094832665376074\n",
      "Median length of human-written sentences, in tokens: 21\n"
     ]
    },
    {
     "data": {
      "text/plain": [
       "<Axes: ylabel='Count'>"
      ]
     },
     "execution_count": 30,
     "metadata": {},
     "output_type": "execute_result"
    },
    {
     "data": {
      "image/png": "[encoded data removed]",
      "text/plain": [
       "<Figure size 640x480 with 1 Axes>"
      ]
     },
     "metadata": {},
     "output_type": "display_data"
    }
   ],
   "source": [
    "sent_lens = [len(sent) for sent in train_sents]\n",
    "print(f\"Mean length of human-written sentences, in tokens: {np.mean(sent_lens)}\")\n",
    "print(f\"Median length of human-written sentences, in tokens: {int(np.median(sent_lens))}\")\n",
    "sns.histplot(sent_lens, kde=True) # in tokens"
   ]
  },
  {
   "cell_type": "code",
   "execution_count": 31,
   "metadata": {},
   "outputs": [
    {
     "name": "stdout",
     "output_type": "stream",
     "text": [
      "Sentences above 69 tokens removed.\n",
      "Remaining sentences: 152838\n"
     ]
    },
    {
     "data": {
      "text/plain": [
       "<Axes: ylabel='Count'>"
      ]
     },
     "execution_count": 31,
     "metadata": {},
     "output_type": "execute_result"
    },
    {
     "data": {
      "image/png": "[encoded data removed]",
      "text/plain": [
       "<Figure size 640x480 with 1 Axes>"
      ]
     },
     "metadata": {},
     "output_type": "display_data"
    }
   ],
   "source": [
    "# clip the top 1% of sentence lengths\n",
    "upper_cutoff = int(np.percentile(sent_lens, 99))\n",
    "# filter out sentences above the cutoff\n",
    "train_sents = [sent for sent in train_sents if len(sent) < upper_cutoff]\n",
    "print(f\"Sentences above {upper_cutoff} tokens removed.\")\n",
    "print(f\"Remaining sentences: {len(train_sents)}\")\n",
    "sent_lens = [len(sent) for sent in train_sents]\n",
    "sns.histplot(sent_lens, kde=True) # in tokens"
   ]
  },
  {
   "cell_type": "code",
   "execution_count": 32,
   "metadata": {},
   "outputs": [
    {
     "data": {
      "text/html": [
       "<div>\n",
       "<style scoped>\n",
       "    .dataframe tbody tr th:only-of-type {\n",
       "        vertical-align: middle;\n",
       "    }\n",
       "\n",
       "    .dataframe tbody tr th {\n",
       "        vertical-align: top;\n",
       "    }\n",
       "\n",
       "    .dataframe thead th {\n",
       "        text-align: right;\n",
       "    }\n",
       "</style>\n",
       "<table border=\"1\" class=\"dataframe\">\n",
       "  <thead>\n",
       "    <tr style=\"text-align: right;\">\n",
       "      <th></th>\n",
       "      <th>human_sentence</th>\n",
       "    </tr>\n",
       "  </thead>\n",
       "  <tbody>\n",
       "    <tr>\n",
       "      <th>0</th>\n",
       "      <td>[being, accepted, as, out, of, the, four, esse...</td>\n",
       "    </tr>\n",
       "    <tr>\n",
       "      <th>1</th>\n",
       "      <td>[this, research, is, an, endeavor, to, explore...</td>\n",
       "    </tr>\n",
       "    <tr>\n",
       "      <th>2</th>\n",
       "      <td>[third, year, students, at, the, faculty, of, ...</td>\n",
       "    </tr>\n",
       "    <tr>\n",
       "      <th>3</th>\n",
       "      <td>[these, students, were, in, the, two, writing,...</td>\n",
       "    </tr>\n",
       "    <tr>\n",
       "      <th>4</th>\n",
       "      <td>[research, findings, exposed, the, benefits, o...</td>\n",
       "    </tr>\n",
       "  </tbody>\n",
       "</table>\n",
       "</div>"
      ],
      "text/plain": [
       "                                      human_sentence\n",
       "0  [being, accepted, as, out, of, the, four, esse...\n",
       "1  [this, research, is, an, endeavor, to, explore...\n",
       "2  [third, year, students, at, the, faculty, of, ...\n",
       "3  [these, students, were, in, the, two, writing,...\n",
       "4  [research, findings, exposed, the, benefits, o..."
      ]
     },
     "execution_count": 32,
     "metadata": {},
     "output_type": "execute_result"
    }
   ],
   "source": [
    "humEd_train = pd.DataFrame({\"human_sentence\": train_sents})\n",
    "humEd_train.head()"
   ]
  },
  {
   "cell_type": "code",
   "execution_count": 33,
   "metadata": {},
   "outputs": [],
   "source": [
    "humEd_train.to_parquet(\"data/training_data/ojs_ed/human_data_20.parquet\")"
   ]
  },
  {
   "cell_type": "markdown",
   "metadata": {},
   "source": [
    "#### 2020 translated abstracts"
   ]
  },
  {
   "cell_type": "code",
   "execution_count": 34,
   "metadata": {},
   "outputs": [],
   "source": [
    "with open(\"data/json/engEd.json\", \"r\") as infile:\n",
    "    engEd = json.load(infile)"
   ]
  },
  {
   "cell_type": "code",
   "execution_count": 35,
   "metadata": {},
   "outputs": [
    {
     "name": "stdout",
     "output_type": "stream",
     "text": [
      "abstracts translated into English: 16483\n"
     ]
    }
   ],
   "source": [
    "train = [] # 2020\n",
    "for month, articles in engEd.items():\n",
    "    if month.endswith(\"20\"):\n",
    "        for article in articles:\n",
    "            train.append(unescape(article[\"description\"][0]))\n",
    "print(f\"abstracts translated into English: {len(train)}\") # 2020"
   ]
  },
  {
   "cell_type": "markdown",
   "metadata": {},
   "source": [
    "sent tokenize the translated abstracts"
   ]
  },
  {
   "cell_type": "code",
   "execution_count": 36,
   "metadata": {},
   "outputs": [
    {
     "name": "stderr",
     "output_type": "stream",
     "text": [
      "100%|██████████| 16483/16483 [07:25<00:00, 36.96it/s]"
     ]
    },
    {
     "name": "stdout",
     "output_type": "stream",
     "text": [
      "abstracts: 16483\n",
      "sentences: 111921\n",
      "[['the', 'current', 'study', 'investigated', 'strategies', 'that', 'non', 'native', 'english', 'majors', 'used', 'in', 'learning', 'english'], ['in', 'particular', 'the', 'study', 'aimed', 'at', 'finding', 'the', 'metacognitive', 'learning', 'strategies', 'cognitive', 'learning', 'strategies', 'affective', 'learning', 'strategies', 'and', 'socio', 'interactive', 'learning', 'strategies', 'and', 'tactics', 'that', '4th', 'year', 'english', 'major', 'university', 'students', 'used', 'to', 'help', 'them', 'become', 'autonomous', 'learners'], ['a', 'sample', 'of', 'participants', 'was', 'chosen', 'randomly', 'to', 'participate', 'in', 'the', 'study', 'from', 'a', 'population', 'of', 'students'], ['semi', 'structured', 'interviews', 'were', 'used', 'to', 'collect', 'the', 'study', 'data'], ['the', 'thematic', 'analysis', 'qualitative', 'method', 'was', 'used', 'to', 'analyze', 'the', 'collected', 'data'], ['results', 'showed', 'that', 'the', 'participants', 'in', 'the', 'study', 'do', 'use', 'a', 'myriad', 'of', 'learning', 'strategies'], ['however', 'their', 'use', 'needs', 'major', 'improvement'], ['further', 'they', 'are', 'not', 'aware', 'of', 'several', 'effective', 'learning', 'strategies', 'that', 'they', 'could', 'tremendously', 'benefit', 'from'], ['the', 'authors', 'present', 'some', 'pedagogical', 'and', 'classroom', 'implications', 'that', 'could', 'assist', 'learners', 'in', 'improving', 'their', 'english', 'proficiency', 'and', 'become', 'autonomous', 'learners']]\n"
     ]
    },
    {
     "name": "stderr",
     "output_type": "stream",
     "text": [
      "\n"
     ]
    }
   ],
   "source": [
    "train_corpus = [sent_tokenize(abstract) for abstract in tqdm(train)]\n",
    "print(f\"abstracts: {len(train_corpus)}\") # 2021\n",
    "print(f\"sentences: {sum(len(abstract) for abstract in train_corpus)}\")\n",
    "print(train_corpus[0])"
   ]
  },
  {
   "cell_type": "code",
   "execution_count": 37,
   "metadata": {},
   "outputs": [
    {
     "name": "stdout",
     "output_type": "stream",
     "text": [
      "Mean length of human-written abstracts, in sentences: 6.790086756051689\n",
      "Median length of human-written abstracts, in sentences: 6\n"
     ]
    },
    {
     "data": {
      "text/plain": [
       "<Axes: ylabel='Count'>"
      ]
     },
     "execution_count": 37,
     "metadata": {},
     "output_type": "execute_result"
    },
    {
     "data": {
      "image/png": "[encoded data removed]",
      "text/plain": [
       "<Figure size 640x480 with 1 Axes>"
      ]
     },
     "metadata": {},
     "output_type": "display_data"
    }
   ],
   "source": [
    "abstract_lens = [len(abstract) for abstract in train_corpus]\n",
    "print(f\"Mean length of human-written abstracts, in sentences: {np.mean(abstract_lens)}\")\n",
    "print(f\"Median length of human-written abstracts, in sentences: {int(np.median(abstract_lens))}\")\n",
    "sns.histplot(abstract_lens, kde=True) # in sentences"
   ]
  },
  {
   "cell_type": "code",
   "execution_count": 38,
   "metadata": {},
   "outputs": [
    {
     "name": "stdout",
     "output_type": "stream",
     "text": [
      "['teachers', 'and', 'teenagers', 'have', 'found', 'radio', 'a', 'motivational', 'tool', 'and', 'a', 'way', 'of', 'communication', 'to', 'work', 'and', 'improve', 'the', 'use', 'of', 'the', 'smartphones', 'and', 'avoid', 'as', 'much', 'as', 'possible', 'the', 'risks', 'that', 'this', 'tool', 'implies', 'facing', 'prohibition', 'and', 'punishment']\n"
     ]
    }
   ],
   "source": [
    "# unpack the train corpus into a list of sentences\n",
    "train_sents = [sent for abstract in train_corpus for sent in abstract if len(sent) > 1]\n",
    "print(train_sents[-1])"
   ]
  },
  {
   "cell_type": "code",
   "execution_count": 39,
   "metadata": {},
   "outputs": [
    {
     "name": "stdout",
     "output_type": "stream",
     "text": [
      "Mean length of human-written sentences, in tokens: 27.82155500905332\n",
      "Median length of human-written sentences, in tokens: 24\n"
     ]
    },
    {
     "data": {
      "text/plain": [
       "<Axes: ylabel='Count'>"
      ]
     },
     "execution_count": 39,
     "metadata": {},
     "output_type": "execute_result"
    },
    {
     "data": {
      "image/png": "[encoded data removed]",
      "text/plain": [
       "<Figure size 640x480 with 1 Axes>"
      ]
     },
     "metadata": {},
     "output_type": "display_data"
    }
   ],
   "source": [
    "sent_lens = [len(sent) for sent in train_sents]\n",
    "print(f\"Mean length of human-written sentences, in tokens: {np.mean(sent_lens)}\")\n",
    "print(f\"Median length of human-written sentences, in tokens: {int(np.median(sent_lens))}\")\n",
    "sns.histplot(sent_lens, kde=True) # in tokens"
   ]
  },
  {
   "cell_type": "code",
   "execution_count": 41,
   "metadata": {},
   "outputs": [
    {
     "name": "stdout",
     "output_type": "stream",
     "text": [
      "Sentences above 89 tokens removed.\n",
      "Remaining sentences: 109892\n"
     ]
    },
    {
     "data": {
      "text/plain": [
       "<Axes: ylabel='Count'>"
      ]
     },
     "execution_count": 41,
     "metadata": {},
     "output_type": "execute_result"
    },
    {
     "data": {
      "image/png": "[encoded data removed]",
      "text/plain": [
       "<Figure size 640x480 with 1 Axes>"
      ]
     },
     "metadata": {},
     "output_type": "display_data"
    }
   ],
   "source": [
    "# clip the top 1% of sentence lengths\n",
    "upper_cutoff = int(np.percentile(sent_lens, 99))\n",
    "# filter out sentences above the cutoff\n",
    "train_sents = [sent for sent in train_sents if len(sent) < upper_cutoff]\n",
    "print(f\"Sentences above {upper_cutoff} tokens removed.\")\n",
    "print(f\"Remaining sentences: {len(train_sents)}\")\n",
    "sent_lens = [len(sent) for sent in train_sents]\n",
    "sns.histplot(sent_lens, kde=True) # in tokens"
   ]
  },
  {
   "cell_type": "code",
   "execution_count": 42,
   "metadata": {},
   "outputs": [
    {
     "data": {
      "text/html": [
       "<div>\n",
       "<style scoped>\n",
       "    .dataframe tbody tr th:only-of-type {\n",
       "        vertical-align: middle;\n",
       "    }\n",
       "\n",
       "    .dataframe tbody tr th {\n",
       "        vertical-align: top;\n",
       "    }\n",
       "\n",
       "    .dataframe thead th {\n",
       "        text-align: right;\n",
       "    }\n",
       "</style>\n",
       "<table border=\"1\" class=\"dataframe\">\n",
       "  <thead>\n",
       "    <tr style=\"text-align: right;\">\n",
       "      <th></th>\n",
       "      <th>human_sentence</th>\n",
       "    </tr>\n",
       "  </thead>\n",
       "  <tbody>\n",
       "    <tr>\n",
       "      <th>0</th>\n",
       "      <td>[the, current, study, investigated, strategies...</td>\n",
       "    </tr>\n",
       "    <tr>\n",
       "      <th>1</th>\n",
       "      <td>[in, particular, the, study, aimed, at, findin...</td>\n",
       "    </tr>\n",
       "    <tr>\n",
       "      <th>2</th>\n",
       "      <td>[a, sample, of, participants, was, chosen, ran...</td>\n",
       "    </tr>\n",
       "    <tr>\n",
       "      <th>3</th>\n",
       "      <td>[semi, structured, interviews, were, used, to,...</td>\n",
       "    </tr>\n",
       "    <tr>\n",
       "      <th>4</th>\n",
       "      <td>[the, thematic, analysis, qualitative, method,...</td>\n",
       "    </tr>\n",
       "  </tbody>\n",
       "</table>\n",
       "</div>"
      ],
      "text/plain": [
       "                                      human_sentence\n",
       "0  [the, current, study, investigated, strategies...\n",
       "1  [in, particular, the, study, aimed, at, findin...\n",
       "2  [a, sample, of, participants, was, chosen, ran...\n",
       "3  [semi, structured, interviews, were, used, to,...\n",
       "4  [the, thematic, analysis, qualitative, method,..."
      ]
     },
     "execution_count": 42,
     "metadata": {},
     "output_type": "execute_result"
    }
   ],
   "source": [
    "humEd_train = pd.DataFrame({\"human_sentence\": train_sents})\n",
    "humEd_train.to_parquet(\"data/training_data/ojs_ed/human_data_translated_20.parquet\")\n",
    "humEd_train.head()"
   ]
  },
  {
   "cell_type": "markdown",
   "metadata": {},
   "source": [
    "#### 2020 + 2021 + translated abstracts (preprocessing prior to year splits above)^^\n",
    "preprocessing, saving translated English abstracts to engEd.json and non-English abstracts to multilingualEd.json"
   ]
  },
  {
   "cell_type": "code",
   "execution_count": 25,
   "metadata": {},
   "outputs": [
    {
     "name": "stdout",
     "output_type": "stream",
     "text": [
      "72222\n"
     ]
    }
   ],
   "source": [
    "with open(\"data/json/humEd.json\", \"r\") as infile:\n",
    "    humEd = json.load(infile)\n",
    "print(sum(len(articles) for articles in humEd.values()))\n",
    "for month, articles in humEd.items():\n",
    "    for article in articles:\n",
    "        article[\"description\"] = [unescape(article[\"description\"][0])]"
   ]
  },
  {
   "cell_type": "code",
   "execution_count": 26,
   "metadata": {},
   "outputs": [
    {
     "name": "stdout",
     "output_type": "stream",
     "text": [
      "202063\n"
     ]
    }
   ],
   "source": [
    "with open(\"data/json/translatEd.json\", \"r\") as infile:\n",
    "    translatEd = json.load(infile)\n",
    "print(sum(len(articles) for articles in translatEd.values()))"
   ]
  },
  {
   "cell_type": "markdown",
   "metadata": {},
   "source": [
    "Filter translated Education (English) abstract label confidence score > 0.9"
   ]
  },
  {
   "cell_type": "code",
   "execution_count": 27,
   "metadata": {},
   "outputs": [
    {
     "name": "stderr",
     "output_type": "stream",
     "text": [
      "100%|██████████| 35/35 [00:00<00:00, 78.97it/s]\n"
     ]
    }
   ],
   "source": [
    "for month, articles in tqdm(translatEd.items()):\n",
    "    translatEd[month] = [article for article in articles if \\\n",
    "                    article.get(\"predicted_fos\", []) and \\\n",
    "                    article[\"predicted_fos\"][0][0] == \"Education\" and \\\n",
    "                    article[\"predicted_fos\"][0][1] > 0.9]"
   ]
  },
  {
   "cell_type": "code",
   "execution_count": 28,
   "metadata": {},
   "outputs": [
    {
     "data": {
      "text/html": [
       "<div>\n",
       "<style scoped>\n",
       "    .dataframe tbody tr th:only-of-type {\n",
       "        vertical-align: middle;\n",
       "    }\n",
       "\n",
       "    .dataframe tbody tr th {\n",
       "        vertical-align: top;\n",
       "    }\n",
       "\n",
       "    .dataframe thead th {\n",
       "        text-align: right;\n",
       "    }\n",
       "</style>\n",
       "<table border=\"1\" class=\"dataframe\">\n",
       "  <thead>\n",
       "    <tr style=\"text-align: right;\">\n",
       "      <th></th>\n",
       "      <th>month</th>\n",
       "      <th>count</th>\n",
       "    </tr>\n",
       "  </thead>\n",
       "  <tbody>\n",
       "    <tr>\n",
       "      <th>26</th>\n",
       "      <td>2020-01-01</td>\n",
       "      <td>1121</td>\n",
       "    </tr>\n",
       "    <tr>\n",
       "      <th>32</th>\n",
       "      <td>2020-02-01</td>\n",
       "      <td>920</td>\n",
       "    </tr>\n",
       "    <tr>\n",
       "      <th>30</th>\n",
       "      <td>2020-03-01</td>\n",
       "      <td>1003</td>\n",
       "    </tr>\n",
       "    <tr>\n",
       "      <th>27</th>\n",
       "      <td>2020-04-01</td>\n",
       "      <td>906</td>\n",
       "    </tr>\n",
       "    <tr>\n",
       "      <th>34</th>\n",
       "      <td>2020-05-01</td>\n",
       "      <td>1005</td>\n",
       "    </tr>\n",
       "    <tr>\n",
       "      <th>24</th>\n",
       "      <td>2020-06-01</td>\n",
       "      <td>2046</td>\n",
       "    </tr>\n",
       "    <tr>\n",
       "      <th>28</th>\n",
       "      <td>2020-07-01</td>\n",
       "      <td>1331</td>\n",
       "    </tr>\n",
       "    <tr>\n",
       "      <th>29</th>\n",
       "      <td>2020-08-01</td>\n",
       "      <td>1162</td>\n",
       "    </tr>\n",
       "    <tr>\n",
       "      <th>25</th>\n",
       "      <td>2020-09-01</td>\n",
       "      <td>1315</td>\n",
       "    </tr>\n",
       "    <tr>\n",
       "      <th>33</th>\n",
       "      <td>2020-10-01</td>\n",
       "      <td>1179</td>\n",
       "    </tr>\n",
       "    <tr>\n",
       "      <th>31</th>\n",
       "      <td>2020-11-01</td>\n",
       "      <td>1022</td>\n",
       "    </tr>\n",
       "    <tr>\n",
       "      <th>23</th>\n",
       "      <td>2020-12-01</td>\n",
       "      <td>3645</td>\n",
       "    </tr>\n",
       "    <tr>\n",
       "      <th>22</th>\n",
       "      <td>2021-01-01</td>\n",
       "      <td>1260</td>\n",
       "    </tr>\n",
       "    <tr>\n",
       "      <th>12</th>\n",
       "      <td>2021-02-01</td>\n",
       "      <td>975</td>\n",
       "    </tr>\n",
       "    <tr>\n",
       "      <th>20</th>\n",
       "      <td>2021-03-01</td>\n",
       "      <td>1498</td>\n",
       "    </tr>\n",
       "    <tr>\n",
       "      <th>16</th>\n",
       "      <td>2021-04-01</td>\n",
       "      <td>1911</td>\n",
       "    </tr>\n",
       "    <tr>\n",
       "      <th>19</th>\n",
       "      <td>2021-05-01</td>\n",
       "      <td>1393</td>\n",
       "    </tr>\n",
       "    <tr>\n",
       "      <th>17</th>\n",
       "      <td>2021-06-01</td>\n",
       "      <td>2447</td>\n",
       "    </tr>\n",
       "    <tr>\n",
       "      <th>11</th>\n",
       "      <td>2021-07-01</td>\n",
       "      <td>2185</td>\n",
       "    </tr>\n",
       "    <tr>\n",
       "      <th>15</th>\n",
       "      <td>2021-08-01</td>\n",
       "      <td>1845</td>\n",
       "    </tr>\n",
       "    <tr>\n",
       "      <th>14</th>\n",
       "      <td>2021-09-01</td>\n",
       "      <td>1641</td>\n",
       "    </tr>\n",
       "    <tr>\n",
       "      <th>21</th>\n",
       "      <td>2021-10-01</td>\n",
       "      <td>1469</td>\n",
       "    </tr>\n",
       "    <tr>\n",
       "      <th>13</th>\n",
       "      <td>2021-11-01</td>\n",
       "      <td>1600</td>\n",
       "    </tr>\n",
       "    <tr>\n",
       "      <th>18</th>\n",
       "      <td>2021-12-01</td>\n",
       "      <td>4083</td>\n",
       "    </tr>\n",
       "    <tr>\n",
       "      <th>10</th>\n",
       "      <td>2022-01-01</td>\n",
       "      <td>1760</td>\n",
       "    </tr>\n",
       "    <tr>\n",
       "      <th>2</th>\n",
       "      <td>2022-02-01</td>\n",
       "      <td>1058</td>\n",
       "    </tr>\n",
       "    <tr>\n",
       "      <th>8</th>\n",
       "      <td>2022-03-01</td>\n",
       "      <td>1603</td>\n",
       "    </tr>\n",
       "    <tr>\n",
       "      <th>0</th>\n",
       "      <td>2022-04-01</td>\n",
       "      <td>1587</td>\n",
       "    </tr>\n",
       "    <tr>\n",
       "      <th>4</th>\n",
       "      <td>2022-05-01</td>\n",
       "      <td>1492</td>\n",
       "    </tr>\n",
       "    <tr>\n",
       "      <th>7</th>\n",
       "      <td>2022-06-01</td>\n",
       "      <td>2770</td>\n",
       "    </tr>\n",
       "    <tr>\n",
       "      <th>5</th>\n",
       "      <td>2022-07-01</td>\n",
       "      <td>1638</td>\n",
       "    </tr>\n",
       "    <tr>\n",
       "      <th>6</th>\n",
       "      <td>2022-08-01</td>\n",
       "      <td>1496</td>\n",
       "    </tr>\n",
       "    <tr>\n",
       "      <th>1</th>\n",
       "      <td>2022-09-01</td>\n",
       "      <td>1615</td>\n",
       "    </tr>\n",
       "    <tr>\n",
       "      <th>3</th>\n",
       "      <td>2022-10-01</td>\n",
       "      <td>1393</td>\n",
       "    </tr>\n",
       "    <tr>\n",
       "      <th>9</th>\n",
       "      <td>2022-11-01</td>\n",
       "      <td>1475</td>\n",
       "    </tr>\n",
       "  </tbody>\n",
       "</table>\n",
       "</div>"
      ],
      "text/plain": [
       "        month  count\n",
       "26 2020-01-01   1121\n",
       "32 2020-02-01    920\n",
       "30 2020-03-01   1003\n",
       "27 2020-04-01    906\n",
       "34 2020-05-01   1005\n",
       "24 2020-06-01   2046\n",
       "28 2020-07-01   1331\n",
       "29 2020-08-01   1162\n",
       "25 2020-09-01   1315\n",
       "33 2020-10-01   1179\n",
       "31 2020-11-01   1022\n",
       "23 2020-12-01   3645\n",
       "22 2021-01-01   1260\n",
       "12 2021-02-01    975\n",
       "20 2021-03-01   1498\n",
       "16 2021-04-01   1911\n",
       "19 2021-05-01   1393\n",
       "17 2021-06-01   2447\n",
       "11 2021-07-01   2185\n",
       "15 2021-08-01   1845\n",
       "14 2021-09-01   1641\n",
       "21 2021-10-01   1469\n",
       "13 2021-11-01   1600\n",
       "18 2021-12-01   4083\n",
       "10 2022-01-01   1760\n",
       "2  2022-02-01   1058\n",
       "8  2022-03-01   1603\n",
       "0  2022-04-01   1587\n",
       "4  2022-05-01   1492\n",
       "7  2022-06-01   2770\n",
       "5  2022-07-01   1638\n",
       "6  2022-08-01   1496\n",
       "1  2022-09-01   1615\n",
       "3  2022-10-01   1393\n",
       "9  2022-11-01   1475"
      ]
     },
     "execution_count": 28,
     "metadata": {},
     "output_type": "execute_result"
    }
   ],
   "source": [
    "edCounts = counts_by_month(translatEd)\n",
    "edCounts"
   ]
  },
  {
   "cell_type": "code",
   "execution_count": 29,
   "metadata": {},
   "outputs": [
    {
     "data": {
      "text/plain": [
       "56849"
      ]
     },
     "execution_count": 29,
     "metadata": {},
     "output_type": "execute_result"
    }
   ],
   "source": [
    "edCounts[\"count\"].sum()"
   ]
  },
  {
   "cell_type": "markdown",
   "metadata": {},
   "source": [
    "Split the translatEd dict into English and non-English"
   ]
  },
  {
   "cell_type": "code",
   "execution_count": 30,
   "metadata": {},
   "outputs": [
    {
     "name": "stderr",
     "output_type": "stream",
     "text": [
      "100%|██████████| 35/35 [00:11<00:00,  3.12it/s]"
     ]
    },
    {
     "name": "stdout",
     "output_type": "stream",
     "text": [
      "Number of English abstracts: 58224\n",
      "Number of non-English abstracts: 70721\n"
     ]
    },
    {
     "name": "stderr",
     "output_type": "stream",
     "text": [
      "\n"
     ]
    },
    {
     "data": {
      "text/plain": [
       "__label__es     21490\n",
       "__label__pt     15708\n",
       "__label__th      9646\n",
       "__label__uk      5529\n",
       "__label__ru      4000\n",
       "__label__ar      3262\n",
       "__label__id      2636\n",
       "__label__fr      1175\n",
       "__label__pl       811\n",
       "__label__uz       686\n",
       "__label__tg       665\n",
       "__label__kk       575\n",
       "__label__it       550\n",
       "__label__de       499\n",
       "__label__vi       470\n",
       "__label__hu       439\n",
       "__label__tr       356\n",
       "__label__zh       267\n",
       "__label__ca       248\n",
       "__label__lt       215\n",
       "__label__el       197\n",
       "__label__sl       187\n",
       "__label__ro       137\n",
       "__label__sr       124\n",
       "__label__is        99\n",
       "__label__cs        97\n",
       "__label__fi        95\n",
       "__label__hr        90\n",
       "__label__no        64\n",
       "__label__da        55\n",
       "__label__ka        51\n",
       "__label__bg        40\n",
       "__label__sh        39\n",
       "__label__sv        38\n",
       "__label__hy        34\n",
       "__label__ja        28\n",
       "__label__az        28\n",
       "__label__eu        23\n",
       "__label__ba        17\n",
       "__label__fa        15\n",
       "__label__gl        11\n",
       "__label__ky         6\n",
       "__label__sk         5\n",
       "__label__ms         4\n",
       "__label__ckb        3\n",
       "__label__be         2\n",
       "__label__la         2\n",
       "__label__nn         1\n",
       "__label__krc        1\n",
       "__label__he         1\n",
       "Name: count, dtype: int64"
      ]
     },
     "execution_count": 30,
     "metadata": {},
     "output_type": "execute_result"
    }
   ],
   "source": [
    "# Split the translatEd dict into English an non-English articles\n",
    "engEd = defaultdict(list)\n",
    "multilingualEd = defaultdict(list)\n",
    "non_en_languages = []\n",
    "for month, articles in tqdm(translatEd.items()):\n",
    "    for article in articles:\n",
    "        for abstract in article.get(\"description\", []):\n",
    "            abstact = unescape(abstract)\n",
    "            abstract = abstract.replace(\"\\n\", \" \")\n",
    "            language = fasttext_model.predict(abstract)[0][0]\n",
    "            if language == \"__label__en\":\n",
    "                article_copy = article.copy()\n",
    "                # change the description to be a list of len 1, containing the English abstract\n",
    "                article_copy[\"description\"] = [abstract]\n",
    "                engEd[month].append(article_copy)\n",
    "            else:\n",
    "                article_copy = article.copy()\n",
    "                # change the description to be a list of len 1, containing the non-English abstract\n",
    "                article_copy[\"description\"] = [abstract]\n",
    "                article_copy[\"language\"] = [str.replace(language, \"__label__\", \"\")]\n",
    "                multilingualEd[month].append(article_copy)\n",
    "                non_en_languages.append(language)\n",
    "print(f\"Number of English abstracts: {sum(len(articles) for articles in engEd.values())}\")\n",
    "print(f\"Number of non-English abstracts: {sum(len(articles) for articles in multilingualEd.values())}\")\n",
    "# print a distribution over the non-English languages\n",
    "lang_dist = pd.Series(non_en_languages).value_counts()\n",
    "lang_dist"
   ]
  },
  {
   "cell_type": "markdown",
   "metadata": {},
   "source": [
    "Filter extremely long or short abstracts, in terms of tokens"
   ]
  },
  {
   "cell_type": "code",
   "execution_count": 31,
   "metadata": {},
   "outputs": [
    {
     "name": "stderr",
     "output_type": "stream",
     "text": [
      "100%|██████████| 35/35 [00:18<00:00,  1.92it/s]\n"
     ]
    },
    {
     "data": {
      "image/png": "[encoded data removed]",
      "text/plain": [
       "<Figure size 640x480 with 1 Axes>"
      ]
     },
     "metadata": {},
     "output_type": "display_data"
    }
   ],
   "source": [
    "plot_toks(engEd)"
   ]
  },
  {
   "cell_type": "code",
   "execution_count": 32,
   "metadata": {},
   "outputs": [
    {
     "name": "stderr",
     "output_type": "stream",
     "text": [
      "100%|██████████| 35/35 [00:14<00:00,  2.38it/s]"
     ]
    },
    {
     "name": "stdout",
     "output_type": "stream",
     "text": [
      "543\n",
      "61\n"
     ]
    },
    {
     "name": "stderr",
     "output_type": "stream",
     "text": [
      "\n"
     ]
    }
   ],
   "source": [
    "en_translated_toks = [len(tokenize(article[\"description\"][0])) for articles in tqdm(engEd.values()) for article in articles]\n",
    "upper_cutoff = int(np.percentile(en_translated_toks, 99))\n",
    "lower_cutoff = int(np.percentile(en_translated_toks, 4))\n",
    "print(upper_cutoff)\n",
    "print(lower_cutoff)"
   ]
  },
  {
   "cell_type": "code",
   "execution_count": 33,
   "metadata": {},
   "outputs": [
    {
     "name": "stderr",
     "output_type": "stream",
     "text": [
      "100%|██████████| 35/35 [00:14<00:00,  2.36it/s]"
     ]
    },
    {
     "name": "stdout",
     "output_type": "stream",
     "text": [
      "55249\n"
     ]
    },
    {
     "name": "stderr",
     "output_type": "stream",
     "text": [
      "\n"
     ]
    }
   ],
   "source": [
    "# remove Ed articles where the abstract contains more / fewer tokens than cutoffs\n",
    "for month, articles in tqdm(engEd.items()):\n",
    "    engEd[month] = [article for article in articles if upper_cutoff > \\\n",
    "                     len(tokenize(article[\"description\"][0])) \\\n",
    "                        > lower_cutoff]\n",
    "print(sum(len(articles) for articles in engEd.values()))"
   ]
  },
  {
   "cell_type": "code",
   "execution_count": 34,
   "metadata": {},
   "outputs": [
    {
     "data": {
      "text/html": [
       "<div>\n",
       "<style scoped>\n",
       "    .dataframe tbody tr th:only-of-type {\n",
       "        vertical-align: middle;\n",
       "    }\n",
       "\n",
       "    .dataframe tbody tr th {\n",
       "        vertical-align: top;\n",
       "    }\n",
       "\n",
       "    .dataframe thead th {\n",
       "        text-align: right;\n",
       "    }\n",
       "</style>\n",
       "<table border=\"1\" class=\"dataframe\">\n",
       "  <thead>\n",
       "    <tr style=\"text-align: right;\">\n",
       "      <th></th>\n",
       "      <th>month</th>\n",
       "      <th>count</th>\n",
       "    </tr>\n",
       "  </thead>\n",
       "  <tbody>\n",
       "    <tr>\n",
       "      <th>26</th>\n",
       "      <td>2020-01-01</td>\n",
       "      <td>1105</td>\n",
       "    </tr>\n",
       "    <tr>\n",
       "      <th>32</th>\n",
       "      <td>2020-02-01</td>\n",
       "      <td>832</td>\n",
       "    </tr>\n",
       "    <tr>\n",
       "      <th>30</th>\n",
       "      <td>2020-03-01</td>\n",
       "      <td>970</td>\n",
       "    </tr>\n",
       "    <tr>\n",
       "      <th>27</th>\n",
       "      <td>2020-04-01</td>\n",
       "      <td>894</td>\n",
       "    </tr>\n",
       "    <tr>\n",
       "      <th>34</th>\n",
       "      <td>2020-05-01</td>\n",
       "      <td>1010</td>\n",
       "    </tr>\n",
       "    <tr>\n",
       "      <th>24</th>\n",
       "      <td>2020-06-01</td>\n",
       "      <td>2011</td>\n",
       "    </tr>\n",
       "    <tr>\n",
       "      <th>28</th>\n",
       "      <td>2020-07-01</td>\n",
       "      <td>1369</td>\n",
       "    </tr>\n",
       "    <tr>\n",
       "      <th>29</th>\n",
       "      <td>2020-08-01</td>\n",
       "      <td>1161</td>\n",
       "    </tr>\n",
       "    <tr>\n",
       "      <th>25</th>\n",
       "      <td>2020-09-01</td>\n",
       "      <td>1304</td>\n",
       "    </tr>\n",
       "    <tr>\n",
       "      <th>33</th>\n",
       "      <td>2020-10-01</td>\n",
       "      <td>1170</td>\n",
       "    </tr>\n",
       "    <tr>\n",
       "      <th>31</th>\n",
       "      <td>2020-11-01</td>\n",
       "      <td>1013</td>\n",
       "    </tr>\n",
       "    <tr>\n",
       "      <th>23</th>\n",
       "      <td>2020-12-01</td>\n",
       "      <td>3644</td>\n",
       "    </tr>\n",
       "    <tr>\n",
       "      <th>22</th>\n",
       "      <td>2021-01-01</td>\n",
       "      <td>1228</td>\n",
       "    </tr>\n",
       "    <tr>\n",
       "      <th>12</th>\n",
       "      <td>2021-02-01</td>\n",
       "      <td>925</td>\n",
       "    </tr>\n",
       "    <tr>\n",
       "      <th>20</th>\n",
       "      <td>2021-03-01</td>\n",
       "      <td>1459</td>\n",
       "    </tr>\n",
       "    <tr>\n",
       "      <th>16</th>\n",
       "      <td>2021-04-01</td>\n",
       "      <td>1852</td>\n",
       "    </tr>\n",
       "    <tr>\n",
       "      <th>19</th>\n",
       "      <td>2021-05-01</td>\n",
       "      <td>1350</td>\n",
       "    </tr>\n",
       "    <tr>\n",
       "      <th>17</th>\n",
       "      <td>2021-06-01</td>\n",
       "      <td>2302</td>\n",
       "    </tr>\n",
       "    <tr>\n",
       "      <th>11</th>\n",
       "      <td>2021-07-01</td>\n",
       "      <td>1933</td>\n",
       "    </tr>\n",
       "    <tr>\n",
       "      <th>15</th>\n",
       "      <td>2021-08-01</td>\n",
       "      <td>1832</td>\n",
       "    </tr>\n",
       "    <tr>\n",
       "      <th>14</th>\n",
       "      <td>2021-09-01</td>\n",
       "      <td>1578</td>\n",
       "    </tr>\n",
       "    <tr>\n",
       "      <th>21</th>\n",
       "      <td>2021-10-01</td>\n",
       "      <td>1446</td>\n",
       "    </tr>\n",
       "    <tr>\n",
       "      <th>13</th>\n",
       "      <td>2021-11-01</td>\n",
       "      <td>1590</td>\n",
       "    </tr>\n",
       "    <tr>\n",
       "      <th>18</th>\n",
       "      <td>2021-12-01</td>\n",
       "      <td>3886</td>\n",
       "    </tr>\n",
       "    <tr>\n",
       "      <th>10</th>\n",
       "      <td>2022-01-01</td>\n",
       "      <td>1656</td>\n",
       "    </tr>\n",
       "    <tr>\n",
       "      <th>2</th>\n",
       "      <td>2022-02-01</td>\n",
       "      <td>1044</td>\n",
       "    </tr>\n",
       "    <tr>\n",
       "      <th>8</th>\n",
       "      <td>2022-03-01</td>\n",
       "      <td>1558</td>\n",
       "    </tr>\n",
       "    <tr>\n",
       "      <th>0</th>\n",
       "      <td>2022-04-01</td>\n",
       "      <td>1541</td>\n",
       "    </tr>\n",
       "    <tr>\n",
       "      <th>4</th>\n",
       "      <td>2022-05-01</td>\n",
       "      <td>1441</td>\n",
       "    </tr>\n",
       "    <tr>\n",
       "      <th>7</th>\n",
       "      <td>2022-06-01</td>\n",
       "      <td>2698</td>\n",
       "    </tr>\n",
       "    <tr>\n",
       "      <th>5</th>\n",
       "      <td>2022-07-01</td>\n",
       "      <td>1588</td>\n",
       "    </tr>\n",
       "    <tr>\n",
       "      <th>6</th>\n",
       "      <td>2022-08-01</td>\n",
       "      <td>1487</td>\n",
       "    </tr>\n",
       "    <tr>\n",
       "      <th>1</th>\n",
       "      <td>2022-09-01</td>\n",
       "      <td>1564</td>\n",
       "    </tr>\n",
       "    <tr>\n",
       "      <th>3</th>\n",
       "      <td>2022-10-01</td>\n",
       "      <td>1351</td>\n",
       "    </tr>\n",
       "    <tr>\n",
       "      <th>9</th>\n",
       "      <td>2022-11-01</td>\n",
       "      <td>1457</td>\n",
       "    </tr>\n",
       "  </tbody>\n",
       "</table>\n",
       "</div>"
      ],
      "text/plain": [
       "        month  count\n",
       "26 2020-01-01   1105\n",
       "32 2020-02-01    832\n",
       "30 2020-03-01    970\n",
       "27 2020-04-01    894\n",
       "34 2020-05-01   1010\n",
       "24 2020-06-01   2011\n",
       "28 2020-07-01   1369\n",
       "29 2020-08-01   1161\n",
       "25 2020-09-01   1304\n",
       "33 2020-10-01   1170\n",
       "31 2020-11-01   1013\n",
       "23 2020-12-01   3644\n",
       "22 2021-01-01   1228\n",
       "12 2021-02-01    925\n",
       "20 2021-03-01   1459\n",
       "16 2021-04-01   1852\n",
       "19 2021-05-01   1350\n",
       "17 2021-06-01   2302\n",
       "11 2021-07-01   1933\n",
       "15 2021-08-01   1832\n",
       "14 2021-09-01   1578\n",
       "21 2021-10-01   1446\n",
       "13 2021-11-01   1590\n",
       "18 2021-12-01   3886\n",
       "10 2022-01-01   1656\n",
       "2  2022-02-01   1044\n",
       "8  2022-03-01   1558\n",
       "0  2022-04-01   1541\n",
       "4  2022-05-01   1441\n",
       "7  2022-06-01   2698\n",
       "5  2022-07-01   1588\n",
       "6  2022-08-01   1487\n",
       "1  2022-09-01   1564\n",
       "3  2022-10-01   1351\n",
       "9  2022-11-01   1457"
      ]
     },
     "execution_count": 34,
     "metadata": {},
     "output_type": "execute_result"
    }
   ],
   "source": [
    "en_edCounts = counts_by_month(engEd)\n",
    "en_edCounts"
   ]
  },
  {
   "cell_type": "code",
   "execution_count": 35,
   "metadata": {},
   "outputs": [
    {
     "name": "stderr",
     "output_type": "stream",
     "text": [
      "100%|██████████| 35/35 [00:13<00:00,  2.51it/s]\n"
     ]
    },
    {
     "data": {
      "image/png": "[encoded data removed]",
      "text/plain": [
       "<Figure size 640x480 with 1 Axes>"
      ]
     },
     "metadata": {},
     "output_type": "display_data"
    }
   ],
   "source": [
    "plot_toks(engEd)"
   ]
  },
  {
   "cell_type": "code",
   "execution_count": 36,
   "metadata": {},
   "outputs": [],
   "source": [
    "with open(\"data/json/engEd.json\", \"w\") as outfile:\n",
    "    json.dump(engEd, outfile)"
   ]
  },
  {
   "cell_type": "markdown",
   "metadata": {},
   "source": [
    "We need to use NLTK to tokenize the non-English abstracts, because spacy is trained on English"
   ]
  },
  {
   "cell_type": "code",
   "execution_count": 37,
   "metadata": {},
   "outputs": [
    {
     "name": "stderr",
     "output_type": "stream",
     "text": [
      "100%|██████████| 35/35 [00:28<00:00,  1.23it/s]\n"
     ]
    },
    {
     "name": "stdout",
     "output_type": "stream",
     "text": [
      "468\n",
      "37\n"
     ]
    },
    {
     "data": {
      "text/plain": [
       "<Axes: ylabel='Count'>"
      ]
     },
     "execution_count": 37,
     "metadata": {},
     "output_type": "execute_result"
    },
    {
     "data": {
      "image/png": "[encoded data removed]",
      "text/plain": [
       "<Figure size 640x480 with 1 Axes>"
      ]
     },
     "metadata": {},
     "output_type": "display_data"
    }
   ],
   "source": [
    "# use nltk to tokenize the non-English abstracts\n",
    "from nltk.tokenize import word_tokenize\n",
    "#nltk.download(\"punkt\")\n",
    "non_en_toks = [len(word_tokenize(article[\"description\"][0])) for articles in tqdm(multilingualEd.values()) for article in articles]\n",
    "upper_cutoff = int(np.percentile(non_en_toks, 99))\n",
    "lower_cutoff = int(np.percentile(non_en_toks, 4))\n",
    "print(upper_cutoff)\n",
    "print(lower_cutoff)\n",
    "sns.histplot(non_en_toks, kde=True)"
   ]
  },
  {
   "cell_type": "code",
   "execution_count": 38,
   "metadata": {},
   "outputs": [
    {
     "name": "stderr",
     "output_type": "stream",
     "text": [
      "100%|██████████| 35/35 [00:28<00:00,  1.22it/s]\n"
     ]
    },
    {
     "name": "stdout",
     "output_type": "stream",
     "text": [
      "67161\n"
     ]
    },
    {
     "data": {
      "text/plain": [
       "<Axes: ylabel='Count'>"
      ]
     },
     "execution_count": 38,
     "metadata": {},
     "output_type": "execute_result"
    },
    {
     "data": {
      "image/png": "[encoded data removed]",
      "text/plain": [
       "<Figure size 640x480 with 1 Axes>"
      ]
     },
     "metadata": {},
     "output_type": "display_data"
    }
   ],
   "source": [
    "# remove non-English articles where the abstract contains more / fewer tokens than cutoffs\n",
    "for month, articles in tqdm(multilingualEd.items()):\n",
    "    multilingualEd[month] = [article for article in articles if upper_cutoff > \\\n",
    "                     len(word_tokenize(article[\"description\"][0])) \\\n",
    "                        > lower_cutoff]\n",
    "print(sum(len(articles) for articles in multilingualEd.values()))\n",
    "sns.histplot([len(word_tokenize(article[\"description\"][0])) for articles in multilingualEd.values() for article in articles], kde=True)"
   ]
  },
  {
   "cell_type": "code",
   "execution_count": 39,
   "metadata": {},
   "outputs": [
    {
     "data": {
      "text/html": [
       "<div>\n",
       "<style scoped>\n",
       "    .dataframe tbody tr th:only-of-type {\n",
       "        vertical-align: middle;\n",
       "    }\n",
       "\n",
       "    .dataframe tbody tr th {\n",
       "        vertical-align: top;\n",
       "    }\n",
       "\n",
       "    .dataframe thead th {\n",
       "        text-align: right;\n",
       "    }\n",
       "</style>\n",
       "<table border=\"1\" class=\"dataframe\">\n",
       "  <thead>\n",
       "    <tr style=\"text-align: right;\">\n",
       "      <th></th>\n",
       "      <th>month</th>\n",
       "      <th>count</th>\n",
       "    </tr>\n",
       "  </thead>\n",
       "  <tbody>\n",
       "    <tr>\n",
       "      <th>26</th>\n",
       "      <td>2020-01-01</td>\n",
       "      <td>1299</td>\n",
       "    </tr>\n",
       "    <tr>\n",
       "      <th>32</th>\n",
       "      <td>2020-02-01</td>\n",
       "      <td>1126</td>\n",
       "    </tr>\n",
       "    <tr>\n",
       "      <th>30</th>\n",
       "      <td>2020-03-01</td>\n",
       "      <td>1198</td>\n",
       "    </tr>\n",
       "    <tr>\n",
       "      <th>27</th>\n",
       "      <td>2020-04-01</td>\n",
       "      <td>1059</td>\n",
       "    </tr>\n",
       "    <tr>\n",
       "      <th>34</th>\n",
       "      <td>2020-05-01</td>\n",
       "      <td>1167</td>\n",
       "    </tr>\n",
       "    <tr>\n",
       "      <th>24</th>\n",
       "      <td>2020-06-01</td>\n",
       "      <td>2255</td>\n",
       "    </tr>\n",
       "    <tr>\n",
       "      <th>28</th>\n",
       "      <td>2020-07-01</td>\n",
       "      <td>1577</td>\n",
       "    </tr>\n",
       "    <tr>\n",
       "      <th>29</th>\n",
       "      <td>2020-08-01</td>\n",
       "      <td>1372</td>\n",
       "    </tr>\n",
       "    <tr>\n",
       "      <th>25</th>\n",
       "      <td>2020-09-01</td>\n",
       "      <td>1515</td>\n",
       "    </tr>\n",
       "    <tr>\n",
       "      <th>33</th>\n",
       "      <td>2020-10-01</td>\n",
       "      <td>1505</td>\n",
       "    </tr>\n",
       "    <tr>\n",
       "      <th>31</th>\n",
       "      <td>2020-11-01</td>\n",
       "      <td>1244</td>\n",
       "    </tr>\n",
       "    <tr>\n",
       "      <th>23</th>\n",
       "      <td>2020-12-01</td>\n",
       "      <td>4179</td>\n",
       "    </tr>\n",
       "    <tr>\n",
       "      <th>22</th>\n",
       "      <td>2021-01-01</td>\n",
       "      <td>1423</td>\n",
       "    </tr>\n",
       "    <tr>\n",
       "      <th>12</th>\n",
       "      <td>2021-02-01</td>\n",
       "      <td>1143</td>\n",
       "    </tr>\n",
       "    <tr>\n",
       "      <th>20</th>\n",
       "      <td>2021-03-01</td>\n",
       "      <td>1804</td>\n",
       "    </tr>\n",
       "    <tr>\n",
       "      <th>16</th>\n",
       "      <td>2021-04-01</td>\n",
       "      <td>2367</td>\n",
       "    </tr>\n",
       "    <tr>\n",
       "      <th>19</th>\n",
       "      <td>2021-05-01</td>\n",
       "      <td>1839</td>\n",
       "    </tr>\n",
       "    <tr>\n",
       "      <th>17</th>\n",
       "      <td>2021-06-01</td>\n",
       "      <td>2890</td>\n",
       "    </tr>\n",
       "    <tr>\n",
       "      <th>11</th>\n",
       "      <td>2021-07-01</td>\n",
       "      <td>2653</td>\n",
       "    </tr>\n",
       "    <tr>\n",
       "      <th>15</th>\n",
       "      <td>2021-08-01</td>\n",
       "      <td>2190</td>\n",
       "    </tr>\n",
       "    <tr>\n",
       "      <th>14</th>\n",
       "      <td>2021-09-01</td>\n",
       "      <td>1921</td>\n",
       "    </tr>\n",
       "    <tr>\n",
       "      <th>21</th>\n",
       "      <td>2021-10-01</td>\n",
       "      <td>1787</td>\n",
       "    </tr>\n",
       "    <tr>\n",
       "      <th>13</th>\n",
       "      <td>2021-11-01</td>\n",
       "      <td>1942</td>\n",
       "    </tr>\n",
       "    <tr>\n",
       "      <th>18</th>\n",
       "      <td>2021-12-01</td>\n",
       "      <td>4885</td>\n",
       "    </tr>\n",
       "    <tr>\n",
       "      <th>10</th>\n",
       "      <td>2022-01-01</td>\n",
       "      <td>2193</td>\n",
       "    </tr>\n",
       "    <tr>\n",
       "      <th>2</th>\n",
       "      <td>2022-02-01</td>\n",
       "      <td>1254</td>\n",
       "    </tr>\n",
       "    <tr>\n",
       "      <th>8</th>\n",
       "      <td>2022-03-01</td>\n",
       "      <td>1876</td>\n",
       "    </tr>\n",
       "    <tr>\n",
       "      <th>0</th>\n",
       "      <td>2022-04-01</td>\n",
       "      <td>1826</td>\n",
       "    </tr>\n",
       "    <tr>\n",
       "      <th>4</th>\n",
       "      <td>2022-05-01</td>\n",
       "      <td>1736</td>\n",
       "    </tr>\n",
       "    <tr>\n",
       "      <th>7</th>\n",
       "      <td>2022-06-01</td>\n",
       "      <td>2963</td>\n",
       "    </tr>\n",
       "    <tr>\n",
       "      <th>5</th>\n",
       "      <td>2022-07-01</td>\n",
       "      <td>1990</td>\n",
       "    </tr>\n",
       "    <tr>\n",
       "      <th>6</th>\n",
       "      <td>2022-08-01</td>\n",
       "      <td>1758</td>\n",
       "    </tr>\n",
       "    <tr>\n",
       "      <th>1</th>\n",
       "      <td>2022-09-01</td>\n",
       "      <td>1895</td>\n",
       "    </tr>\n",
       "    <tr>\n",
       "      <th>3</th>\n",
       "      <td>2022-10-01</td>\n",
       "      <td>1621</td>\n",
       "    </tr>\n",
       "    <tr>\n",
       "      <th>9</th>\n",
       "      <td>2022-11-01</td>\n",
       "      <td>1709</td>\n",
       "    </tr>\n",
       "  </tbody>\n",
       "</table>\n",
       "</div>"
      ],
      "text/plain": [
       "        month  count\n",
       "26 2020-01-01   1299\n",
       "32 2020-02-01   1126\n",
       "30 2020-03-01   1198\n",
       "27 2020-04-01   1059\n",
       "34 2020-05-01   1167\n",
       "24 2020-06-01   2255\n",
       "28 2020-07-01   1577\n",
       "29 2020-08-01   1372\n",
       "25 2020-09-01   1515\n",
       "33 2020-10-01   1505\n",
       "31 2020-11-01   1244\n",
       "23 2020-12-01   4179\n",
       "22 2021-01-01   1423\n",
       "12 2021-02-01   1143\n",
       "20 2021-03-01   1804\n",
       "16 2021-04-01   2367\n",
       "19 2021-05-01   1839\n",
       "17 2021-06-01   2890\n",
       "11 2021-07-01   2653\n",
       "15 2021-08-01   2190\n",
       "14 2021-09-01   1921\n",
       "21 2021-10-01   1787\n",
       "13 2021-11-01   1942\n",
       "18 2021-12-01   4885\n",
       "10 2022-01-01   2193\n",
       "2  2022-02-01   1254\n",
       "8  2022-03-01   1876\n",
       "0  2022-04-01   1826\n",
       "4  2022-05-01   1736\n",
       "7  2022-06-01   2963\n",
       "5  2022-07-01   1990\n",
       "6  2022-08-01   1758\n",
       "1  2022-09-01   1895\n",
       "3  2022-10-01   1621\n",
       "9  2022-11-01   1709"
      ]
     },
     "execution_count": 39,
     "metadata": {},
     "output_type": "execute_result"
    }
   ],
   "source": [
    "multilingual_edCounts = counts_by_month(multilingualEd)\n",
    "multilingual_edCounts"
   ]
  },
  {
   "cell_type": "code",
   "execution_count": 40,
   "metadata": {},
   "outputs": [],
   "source": [
    "with open(\"data/json/multilingualEd.json\", \"w\") as outfile:\n",
    "    json.dump(multilingualEd, outfile)"
   ]
  },
  {
   "cell_type": "markdown",
   "metadata": {},
   "source": [
    "### ChatGPT corpus: train split"
   ]
  },
  {
   "cell_type": "markdown",
   "metadata": {},
   "source": [
    "#### 2021 bullet point rewritten abstracts"
   ]
  },
  {
   "cell_type": "code",
   "execution_count": 7,
   "metadata": {},
   "outputs": [
    {
     "name": "stdout",
     "output_type": "stream",
     "text": [
      "Number of AI abstracts: 26894\n",
      "The goal of this article is to delve into the role of learning strategy reflexed in educational processes and its impact on students' ability and self-study abilities. Additionally, it aims to examine the benefits and challenges of technology and knowledge abundance in educating students.\n",
      "\n",
      "To achieve these objectives, the study begins by recognizing the importance of learning strategy reflexed in educational processes. It acknowledges that the way students approach their learning can greatly influence their ability to grasp and retain information. By understanding and implementing effective learning strategies, educators can enhance students' learning outcomes and promote their self-study abilities.\n",
      "\n",
      "Furthermore, the article explores the benefits and challenges associated with the integration of technology and the abundance of knowledge in education. Technology has revolutionized the way information is accessed and disseminated, providing students with a wealth of resources at their fingertips. However, this abundance of knowledge also presents challenges, such as the need for critical evaluation and discernment of information. The article delves into these benefits and challenges, shedding light on the implications for educators and students alike.\n",
      "\n",
      "The study employs a semi-experimental procedure to compare the effectiveness of different teaching approaches. Experimental and control classes are established, with the experimental group utilizing the Reflex Learning Method. This method emphasizes the use of learning strategies that promote active engagement and reflection. The control group, on the other hand, follows a traditional teaching approach.\n",
      "\n",
      "To analyze the impact of technology and information richness on students' ability and self-study abilities, the study employs multiple regression analysis. This statistical analysis allows for a comprehensive examination of the differences between the experimental and control classes. By comparing the outcomes of the two groups, the study aims to provide insights into the effectiveness of the Reflex Learning Method and its potential benefits for students' learning outcomes.\n",
      "\n",
      "Additionally, the article explores the role of educators in students' lives and the resulting student investment. Educators play a crucial role in guiding and supporting students' learning journeys. Their influence can shape students' motivation, engagement, and overall investment in their education. By understanding\n"
     ]
    }
   ],
   "source": [
    "ai_abstracts = []\n",
    "for file in os.listdir(\"prompts/templateVars/train/\"):\n",
    "    with open(f\"prompts/templateVars/train/{file}\", \"r\") as infile:\n",
    "        if file.endswith(\".json\") and file.startswith(\"2021\") and \"translated\" not in file:\n",
    "            article = json.load(infile)\n",
    "        else:\n",
    "            continue\n",
    "    ai_abstracts.append(article[\"ai_abstract\"])\n",
    "print(f\"Number of AI abstracts: {len(ai_abstracts)}\")\n",
    "print(ai_abstracts[0])"
   ]
  },
  {
   "cell_type": "code",
   "execution_count": 8,
   "metadata": {},
   "outputs": [
    {
     "name": "stderr",
     "output_type": "stream",
     "text": [
      "100%|██████████| 26894/26894 [21:43<00:00, 20.64it/s]\n"
     ]
    },
    {
     "name": "stdout",
     "output_type": "stream",
     "text": [
      "Number of AI-rewritten abstracts: 26894\n",
      "Mean length of abstracts, in sentences: 16.778463597828512\n",
      "Median length of abstracts, in sentences: 17.0\n"
     ]
    },
    {
     "data": {
      "text/plain": [
       "<Axes: ylabel='Count'>"
      ]
     },
     "execution_count": 8,
     "metadata": {},
     "output_type": "execute_result"
    },
    {
     "data": {
      "image/png": "[encoded data removed]",
      "text/plain": [
       "<Figure size 640x480 with 1 Axes>"
      ]
     },
     "metadata": {},
     "output_type": "display_data"
    }
   ],
   "source": [
    "ai_corpus = [sent_tokenize(abstract) for abstract in tqdm(ai_abstracts)]\n",
    "print(f\"Number of AI-rewritten abstracts: {len(ai_corpus)}\")\n",
    "abstract_lens = [len(abstract) for abstract in ai_corpus]\n",
    "print(f\"Mean length of abstracts, in sentences: {np.mean(abstract_lens)}\")\n",
    "print(f\"Median length of abstracts, in sentences: {np.median(abstract_lens)}\")\n",
    "sns.histplot(abstract_lens, kde=True) # in sentences"
   ]
  },
  {
   "cell_type": "code",
   "execution_count": 9,
   "metadata": {},
   "outputs": [
    {
     "data": {
      "text/plain": [
       "<Axes: ylabel='Count'>"
      ]
     },
     "execution_count": 9,
     "metadata": {},
     "output_type": "execute_result"
    },
    {
     "data": {
      "image/png": "[encoded data removed]",
      "text/plain": [
       "<Figure size 640x480 with 1 Axes>"
      ]
     },
     "metadata": {},
     "output_type": "display_data"
    }
   ],
   "source": [
    "ai_sents = [sent for abstract in ai_corpus for sent in abstract if len(sent) > 0]\n",
    "sent_lens = [len(sent) for sent in ai_sents]\n",
    "sns.histplot(sent_lens, kde=True) # in tokens"
   ]
  },
  {
   "cell_type": "code",
   "execution_count": 10,
   "metadata": {},
   "outputs": [
    {
     "name": "stdout",
     "output_type": "stream",
     "text": [
      "451240\n"
     ]
    },
    {
     "data": {
      "text/html": [
       "<div>\n",
       "<style scoped>\n",
       "    .dataframe tbody tr th:only-of-type {\n",
       "        vertical-align: middle;\n",
       "    }\n",
       "\n",
       "    .dataframe tbody tr th {\n",
       "        vertical-align: top;\n",
       "    }\n",
       "\n",
       "    .dataframe thead th {\n",
       "        text-align: right;\n",
       "    }\n",
       "</style>\n",
       "<table border=\"1\" class=\"dataframe\">\n",
       "  <thead>\n",
       "    <tr style=\"text-align: right;\">\n",
       "      <th></th>\n",
       "      <th>ai_sentence</th>\n",
       "    </tr>\n",
       "  </thead>\n",
       "  <tbody>\n",
       "    <tr>\n",
       "      <th>0</th>\n",
       "      <td>[the, goal, of, this, article, is, to, delve, ...</td>\n",
       "    </tr>\n",
       "    <tr>\n",
       "      <th>1</th>\n",
       "      <td>[additionally, it, aims, to, examine, the, ben...</td>\n",
       "    </tr>\n",
       "    <tr>\n",
       "      <th>2</th>\n",
       "      <td>[to, achieve, these, objectives, the, study, b...</td>\n",
       "    </tr>\n",
       "    <tr>\n",
       "      <th>3</th>\n",
       "      <td>[it, acknowledges, that, the, way, students, a...</td>\n",
       "    </tr>\n",
       "    <tr>\n",
       "      <th>4</th>\n",
       "      <td>[by, understanding, and, implementing, effecti...</td>\n",
       "    </tr>\n",
       "  </tbody>\n",
       "</table>\n",
       "</div>"
      ],
      "text/plain": [
       "                                         ai_sentence\n",
       "0  [the, goal, of, this, article, is, to, delve, ...\n",
       "1  [additionally, it, aims, to, examine, the, ben...\n",
       "2  [to, achieve, these, objectives, the, study, b...\n",
       "3  [it, acknowledges, that, the, way, students, a...\n",
       "4  [by, understanding, and, implementing, effecti..."
      ]
     },
     "execution_count": 10,
     "metadata": {},
     "output_type": "execute_result"
    }
   ],
   "source": [
    "aiEd_train = pd.DataFrame({\"ai_sentence\": ai_sents})\n",
    "print(aiEd_train.shape[0])\n",
    "aiEd_train.head()"
   ]
  },
  {
   "cell_type": "code",
   "execution_count": 11,
   "metadata": {},
   "outputs": [],
   "source": [
    "aiEd_train.to_parquet(\"data/training_data/ojs_ed/ai_data_21.parquet\")"
   ]
  },
  {
   "cell_type": "markdown",
   "metadata": {},
   "source": [
    "#### 2021 translated abstracts"
   ]
  },
  {
   "cell_type": "code",
   "execution_count": 12,
   "metadata": {},
   "outputs": [
    {
     "name": "stdout",
     "output_type": "stream",
     "text": [
      "Number of AI abstracts: 26815\n",
      "This article addresses Physical Education during the period of social distancing and school inclusion. It is a descriptive qualitative exploratory study, with the intention of understanding how distance learning in Physical Education is considered for students who are considered inclusive. A survey was conducted with 43 teachers through the distribution of a questionnaire. Changes and adaptations in the curriculum and classes were identified, as well as difficulties in accessing technologies and reduced contact between teachers and students. It is understood that maintaining the bond/learning, teacher training, and recognition of this work are important demands in this process. It is emphasized that differences should be present in school contexts, promoting human development.\n"
     ]
    }
   ],
   "source": [
    "ai_abstracts = []\n",
    "for file in os.listdir(\"prompts/templateVars/train/\"):\n",
    "    with open(f\"prompts/templateVars/train/{file}\", \"r\") as infile:\n",
    "        if file.endswith(\".json\") and file.startswith(\"2021\") and \"translated\" in file:\n",
    "            article = json.load(infile)\n",
    "        else:\n",
    "            continue\n",
    "    ai_abstracts.append(article[\"ai_abstract\"])\n",
    "print(f\"Number of AI abstracts: {len(ai_abstracts)}\")\n",
    "print(ai_abstracts[0])"
   ]
  },
  {
   "cell_type": "code",
   "execution_count": 13,
   "metadata": {},
   "outputs": [
    {
     "name": "stderr",
     "output_type": "stream",
     "text": [
      "100%|██████████| 26815/26815 [14:39<00:00, 30.49it/s]\n"
     ]
    },
    {
     "name": "stdout",
     "output_type": "stream",
     "text": [
      "Number of AI-rewritten abstracts: 26815\n",
      "Mean length of abstracts, in sentences: 9.175237740070855\n",
      "Median length of abstracts, in sentences: 8.0\n"
     ]
    },
    {
     "data": {
      "text/plain": [
       "<Axes: ylabel='Count'>"
      ]
     },
     "execution_count": 13,
     "metadata": {},
     "output_type": "execute_result"
    },
    {
     "data": {
      "image/png": "[encoded data removed]",
      "text/plain": [
       "<Figure size 640x480 with 1 Axes>"
      ]
     },
     "metadata": {},
     "output_type": "display_data"
    }
   ],
   "source": [
    "ai_corpus = [sent_tokenize(abstract) for abstract in tqdm(ai_abstracts)]\n",
    "print(f\"Number of AI-rewritten abstracts: {len(ai_corpus)}\")\n",
    "abstract_lens = [len(abstract) for abstract in ai_corpus]\n",
    "print(f\"Mean length of abstracts, in sentences: {np.mean(abstract_lens)}\")\n",
    "print(f\"Median length of abstracts, in sentences: {np.median(abstract_lens)}\")\n",
    "sns.histplot(abstract_lens, kde=True) # in sentences"
   ]
  },
  {
   "cell_type": "code",
   "execution_count": 14,
   "metadata": {},
   "outputs": [
    {
     "data": {
      "text/plain": [
       "<Axes: ylabel='Count'>"
      ]
     },
     "execution_count": 14,
     "metadata": {},
     "output_type": "execute_result"
    },
    {
     "data": {
      "image/png": "[encoded data removed]",
      "text/plain": [
       "<Figure size 640x480 with 1 Axes>"
      ]
     },
     "metadata": {},
     "output_type": "display_data"
    }
   ],
   "source": [
    "ai_sents = [sent for abstract in ai_corpus for sent in abstract if len(sent) > 0]\n",
    "sent_lens = [len(sent) for sent in ai_sents]\n",
    "sns.histplot(sent_lens, kde=True) # in tokens"
   ]
  },
  {
   "cell_type": "code",
   "execution_count": 15,
   "metadata": {},
   "outputs": [
    {
     "name": "stdout",
     "output_type": "stream",
     "text": [
      "246034\n"
     ]
    },
    {
     "data": {
      "text/html": [
       "<div>\n",
       "<style scoped>\n",
       "    .dataframe tbody tr th:only-of-type {\n",
       "        vertical-align: middle;\n",
       "    }\n",
       "\n",
       "    .dataframe tbody tr th {\n",
       "        vertical-align: top;\n",
       "    }\n",
       "\n",
       "    .dataframe thead th {\n",
       "        text-align: right;\n",
       "    }\n",
       "</style>\n",
       "<table border=\"1\" class=\"dataframe\">\n",
       "  <thead>\n",
       "    <tr style=\"text-align: right;\">\n",
       "      <th></th>\n",
       "      <th>ai_sentence</th>\n",
       "    </tr>\n",
       "  </thead>\n",
       "  <tbody>\n",
       "    <tr>\n",
       "      <th>0</th>\n",
       "      <td>[this, article, addresses, physical, education...</td>\n",
       "    </tr>\n",
       "    <tr>\n",
       "      <th>1</th>\n",
       "      <td>[it, is, a, descriptive, qualitative, explorat...</td>\n",
       "    </tr>\n",
       "    <tr>\n",
       "      <th>2</th>\n",
       "      <td>[a, survey, was, conducted, with, teachers, th...</td>\n",
       "    </tr>\n",
       "    <tr>\n",
       "      <th>3</th>\n",
       "      <td>[changes, and, adaptations, in, the, curriculu...</td>\n",
       "    </tr>\n",
       "    <tr>\n",
       "      <th>4</th>\n",
       "      <td>[it, is, understood, that, maintaining, the, b...</td>\n",
       "    </tr>\n",
       "  </tbody>\n",
       "</table>\n",
       "</div>"
      ],
      "text/plain": [
       "                                         ai_sentence\n",
       "0  [this, article, addresses, physical, education...\n",
       "1  [it, is, a, descriptive, qualitative, explorat...\n",
       "2  [a, survey, was, conducted, with, teachers, th...\n",
       "3  [changes, and, adaptations, in, the, curriculu...\n",
       "4  [it, is, understood, that, maintaining, the, b..."
      ]
     },
     "execution_count": 15,
     "metadata": {},
     "output_type": "execute_result"
    }
   ],
   "source": [
    "aiEd_train = pd.DataFrame({\"ai_sentence\": ai_sents})\n",
    "print(aiEd_train.shape[0])\n",
    "aiEd_train.head()"
   ]
  },
  {
   "cell_type": "code",
   "execution_count": 16,
   "metadata": {},
   "outputs": [],
   "source": [
    "aiEd_train.to_parquet(\"data/training_data/ojs_ed/ai_data_translated_21.parquet\")"
   ]
  },
  {
   "cell_type": "markdown",
   "metadata": {},
   "source": [
    "#### 2020 bullet point rewritten abstracts"
   ]
  },
  {
   "cell_type": "code",
   "execution_count": 17,
   "metadata": {},
   "outputs": [
    {
     "name": "stdout",
     "output_type": "stream",
     "text": [
      "Number of AI abstracts: 19118\n",
      "The goal of this article is to explore the relationship between culture and education in Nigeria and propose principles for an effective culture-based education system. Culture and education are deeply interconnected, and it is crucial for education to address the cultural needs of a society. However, in Nigeria, the education system often falls short in effectively responding to social challenges and meeting the cultural needs of its diverse population.\n",
      "\n",
      "To examine the conditions of Nigerian education, this research employs analytical and prescriptive methods of philosophy. By critically analyzing the existing education system, the study aims to identify the gaps and shortcomings that hinder the integration of culture into education. The research also seeks to identify the elements of a culture-based education system that are aligned with the characteristics of Nigerian culture.\n",
      "\n",
      "Through a comprehensive analysis, this article identifies several key elements of culture-based education that are essential for the Nigerian context. These elements include the incorporation of local languages, traditions, and values into the curriculum, as well as the promotion of cultural diversity and inclusivity. By integrating these elements into the education system, it is believed that students will develop a stronger sense of identity, cultural pride, and a deeper understanding of their own heritage.\n",
      "\n",
      "Building upon the identified elements, this article outlines basic principles for an effective culture-based education system in Nigeria. These principles emphasize the need for culturally relevant pedagogy, teacher training programs that promote cultural sensitivity, and the involvement of local communities in shaping the education curriculum. By adhering to these principles, it is argued that the education system can better meet the cultural needs of Nigerian students and contribute to their overall development.\n",
      "\n",
      "The findings of this research indicate that certain aspects of the Nigerian education system do not align with Nigerian culture. This misalignment can lead to a disconnection between students and their cultural heritage, resulting in a lack of motivation and engagement in the learning process. To address this issue, the article provides relevant suggestions, such as the revision of curriculum frameworks to include more culturally relevant content and the implementation of cultural exchange programs to foster intercultural\n"
     ]
    }
   ],
   "source": [
    "ai_abstracts = []\n",
    "for file in os.listdir(\"prompts/templateVars/train/\"):\n",
    "    with open(f\"prompts/templateVars/train/{file}\", \"r\") as infile:\n",
    "        if file.endswith(\".json\") and file.startswith(\"2020\") and \"translated\" not in file:\n",
    "            article = json.load(infile)\n",
    "        else:\n",
    "            continue\n",
    "    ai_abstracts.append(article[\"ai_abstract\"])\n",
    "print(f\"Number of AI abstracts: {len(ai_abstracts)}\")\n",
    "print(ai_abstracts[0])"
   ]
  },
  {
   "cell_type": "code",
   "execution_count": 18,
   "metadata": {},
   "outputs": [
    {
     "name": "stderr",
     "output_type": "stream",
     "text": [
      "100%|██████████| 19118/19118 [15:29<00:00, 20.56it/s]\n"
     ]
    },
    {
     "name": "stdout",
     "output_type": "stream",
     "text": [
      "Number of AI-rewritten abstracts: 19118\n",
      "Mean length of abstracts, in sentences: 16.755936813474214\n",
      "Median length of abstracts, in sentences: 17.0\n"
     ]
    },
    {
     "data": {
      "text/plain": [
       "<Axes: ylabel='Count'>"
      ]
     },
     "execution_count": 18,
     "metadata": {},
     "output_type": "execute_result"
    },
    {
     "data": {
      "image/png": "[encoded data removed]",
      "text/plain": [
       "<Figure size 640x480 with 1 Axes>"
      ]
     },
     "metadata": {},
     "output_type": "display_data"
    }
   ],
   "source": [
    "ai_corpus = [sent_tokenize(abstract) for abstract in tqdm(ai_abstracts)]\n",
    "print(f\"Number of AI-rewritten abstracts: {len(ai_corpus)}\")\n",
    "abstract_lens = [len(abstract) for abstract in ai_corpus]\n",
    "print(f\"Mean length of abstracts, in sentences: {np.mean(abstract_lens)}\")\n",
    "print(f\"Median length of abstracts, in sentences: {np.median(abstract_lens)}\")\n",
    "sns.histplot(abstract_lens, kde=True) # in sentences"
   ]
  },
  {
   "cell_type": "code",
   "execution_count": 19,
   "metadata": {},
   "outputs": [
    {
     "data": {
      "text/plain": [
       "<Axes: ylabel='Count'>"
      ]
     },
     "execution_count": 19,
     "metadata": {},
     "output_type": "execute_result"
    },
    {
     "data": {
      "image/png": "[encoded data removed]",
      "text/plain": [
       "<Figure size 640x480 with 1 Axes>"
      ]
     },
     "metadata": {},
     "output_type": "display_data"
    }
   ],
   "source": [
    "ai_sents = [sent for abstract in ai_corpus for sent in abstract if len(sent) > 0]\n",
    "sent_lens = [len(sent) for sent in ai_sents]\n",
    "sns.histplot(sent_lens, kde=True) # in tokens"
   ]
  },
  {
   "cell_type": "code",
   "execution_count": 20,
   "metadata": {},
   "outputs": [
    {
     "name": "stdout",
     "output_type": "stream",
     "text": [
      "320340\n"
     ]
    },
    {
     "data": {
      "text/html": [
       "<div>\n",
       "<style scoped>\n",
       "    .dataframe tbody tr th:only-of-type {\n",
       "        vertical-align: middle;\n",
       "    }\n",
       "\n",
       "    .dataframe tbody tr th {\n",
       "        vertical-align: top;\n",
       "    }\n",
       "\n",
       "    .dataframe thead th {\n",
       "        text-align: right;\n",
       "    }\n",
       "</style>\n",
       "<table border=\"1\" class=\"dataframe\">\n",
       "  <thead>\n",
       "    <tr style=\"text-align: right;\">\n",
       "      <th></th>\n",
       "      <th>ai_sentence</th>\n",
       "    </tr>\n",
       "  </thead>\n",
       "  <tbody>\n",
       "    <tr>\n",
       "      <th>0</th>\n",
       "      <td>[the, goal, of, this, article, is, to, explore...</td>\n",
       "    </tr>\n",
       "    <tr>\n",
       "      <th>1</th>\n",
       "      <td>[culture, and, education, are, deeply, interco...</td>\n",
       "    </tr>\n",
       "    <tr>\n",
       "      <th>2</th>\n",
       "      <td>[however, in, nigeria, the, education, system,...</td>\n",
       "    </tr>\n",
       "    <tr>\n",
       "      <th>3</th>\n",
       "      <td>[to, examine, the, conditions, of, nigerian, e...</td>\n",
       "    </tr>\n",
       "    <tr>\n",
       "      <th>4</th>\n",
       "      <td>[by, critically, analyzing, the, existing, edu...</td>\n",
       "    </tr>\n",
       "  </tbody>\n",
       "</table>\n",
       "</div>"
      ],
      "text/plain": [
       "                                         ai_sentence\n",
       "0  [the, goal, of, this, article, is, to, explore...\n",
       "1  [culture, and, education, are, deeply, interco...\n",
       "2  [however, in, nigeria, the, education, system,...\n",
       "3  [to, examine, the, conditions, of, nigerian, e...\n",
       "4  [by, critically, analyzing, the, existing, edu..."
      ]
     },
     "execution_count": 20,
     "metadata": {},
     "output_type": "execute_result"
    }
   ],
   "source": [
    "aiEd_train = pd.DataFrame({\"ai_sentence\": ai_sents})\n",
    "print(aiEd_train.shape[0])\n",
    "aiEd_train.head()"
   ]
  },
  {
   "cell_type": "code",
   "execution_count": 21,
   "metadata": {},
   "outputs": [],
   "source": [
    "aiEd_train.to_parquet(\"data/training_data/ojs_ed/ai_data_20.parquet\")"
   ]
  },
  {
   "cell_type": "markdown",
   "metadata": {},
   "source": [
    "## Validation\n",
    "Jan-Nov 2022 data"
   ]
  },
  {
   "cell_type": "markdown",
   "metadata": {},
   "source": [
    "### Monolingual English validation data"
   ]
  },
  {
   "cell_type": "code",
   "execution_count": 7,
   "metadata": {},
   "outputs": [
    {
     "name": "stdout",
     "output_type": "stream",
     "text": [
      "Number of human-written abstracts: 26094\n"
     ]
    },
    {
     "data": {
      "text/html": [
       "<div>\n",
       "<style scoped>\n",
       "    .dataframe tbody tr th:only-of-type {\n",
       "        vertical-align: middle;\n",
       "    }\n",
       "\n",
       "    .dataframe tbody tr th {\n",
       "        vertical-align: top;\n",
       "    }\n",
       "\n",
       "    .dataframe thead th {\n",
       "        text-align: right;\n",
       "    }\n",
       "</style>\n",
       "<table border=\"1\" class=\"dataframe\">\n",
       "  <thead>\n",
       "    <tr style=\"text-align: right;\">\n",
       "      <th></th>\n",
       "      <th>month</th>\n",
       "      <th>count</th>\n",
       "    </tr>\n",
       "  </thead>\n",
       "  <tbody>\n",
       "    <tr>\n",
       "      <th>10</th>\n",
       "      <td>2022-01-01</td>\n",
       "      <td>2017</td>\n",
       "    </tr>\n",
       "    <tr>\n",
       "      <th>2</th>\n",
       "      <td>2022-02-01</td>\n",
       "      <td>2039</td>\n",
       "    </tr>\n",
       "    <tr>\n",
       "      <th>8</th>\n",
       "      <td>2022-03-01</td>\n",
       "      <td>2273</td>\n",
       "    </tr>\n",
       "    <tr>\n",
       "      <th>0</th>\n",
       "      <td>2022-04-01</td>\n",
       "      <td>2359</td>\n",
       "    </tr>\n",
       "    <tr>\n",
       "      <th>4</th>\n",
       "      <td>2022-05-01</td>\n",
       "      <td>2182</td>\n",
       "    </tr>\n",
       "    <tr>\n",
       "      <th>7</th>\n",
       "      <td>2022-06-01</td>\n",
       "      <td>3632</td>\n",
       "    </tr>\n",
       "    <tr>\n",
       "      <th>5</th>\n",
       "      <td>2022-07-01</td>\n",
       "      <td>2098</td>\n",
       "    </tr>\n",
       "    <tr>\n",
       "      <th>6</th>\n",
       "      <td>2022-08-01</td>\n",
       "      <td>2043</td>\n",
       "    </tr>\n",
       "    <tr>\n",
       "      <th>1</th>\n",
       "      <td>2022-09-01</td>\n",
       "      <td>2233</td>\n",
       "    </tr>\n",
       "    <tr>\n",
       "      <th>3</th>\n",
       "      <td>2022-10-01</td>\n",
       "      <td>2353</td>\n",
       "    </tr>\n",
       "    <tr>\n",
       "      <th>9</th>\n",
       "      <td>2022-11-01</td>\n",
       "      <td>2865</td>\n",
       "    </tr>\n",
       "  </tbody>\n",
       "</table>\n",
       "</div>"
      ],
      "text/plain": [
       "        month  count\n",
       "10 2022-01-01   2017\n",
       "2  2022-02-01   2039\n",
       "8  2022-03-01   2273\n",
       "0  2022-04-01   2359\n",
       "4  2022-05-01   2182\n",
       "7  2022-06-01   3632\n",
       "5  2022-07-01   2098\n",
       "6  2022-08-01   2043\n",
       "1  2022-09-01   2233\n",
       "3  2022-10-01   2353\n",
       "9  2022-11-01   2865"
      ]
     },
     "execution_count": 7,
     "metadata": {},
     "output_type": "execute_result"
    }
   ],
   "source": [
    "with open(\"data/json/humEd.json\", \"r\") as infile:\n",
    "    humEd = json.load(infile)\n",
    "val = {} # Jan - Nov 2022\n",
    "for month, articles in humEd.items():\n",
    "    if month.endswith(\"22\"):\n",
    "        val[month] = articles\n",
    "val_abstracts = [article[\"description\"][0] for articles in val.values() for article in articles]\n",
    "print(f\"Number of human-written abstracts: {len(val_abstracts)}\")\n",
    "counts_by_month(val)"
   ]
  },
  {
   "cell_type": "code",
   "execution_count": 8,
   "metadata": {},
   "outputs": [
    {
     "name": "stdout",
     "output_type": "stream",
     "text": [
      "Number of ChatGPT rewritten abstracts: 6568\n",
      "The main goal of this article is to provide an in-depth overview of the education system in Central Asia during the late 20th and early 21st centuries, with a specific focus on the countries that gained independence from the Soviet Union. Central Asia, comprising Kazakhstan, Kyrgyzstan, Tajikistan, Turkmenistan, and Uzbekistan, experienced significant changes in their education systems following the collapse of the USSR. \n",
      "\n",
      "The article begins by examining the historical context of the education systems in these countries, tracing their development from the Soviet era to the present day. It explores the key policies and practices that shaped the education landscape during this period, highlighting the influence of Soviet ideology and the centralization of educational decision-making. \n",
      "\n",
      "One of the main objectives of this article is to identify the shortcomings and challenges faced by the education systems in Central Asia after gaining independence. The authors critically analyze the impact of the transition from a centrally planned economy to a market-oriented system on education. They highlight issues such as inadequate funding, outdated curricula, and a lack of teacher training and professional development opportunities. \n",
      "\n",
      "Furthermore, the article delves into the specific reforms implemented by the governments of these countries in the early years of the 21st century. It examines the efforts made to address the shortcomings identified, including the introduction of new curricula, the promotion of student-centered learning approaches, and the enhancement of teacher training programs. The authors evaluate the effectiveness of these reforms and discuss the challenges encountered in their implementation. \n",
      "\n",
      "The article also explores the role of international organizations and donor agencies in supporting education reforms in Central Asia. It examines the partnerships and collaborations established between these organizations and the governments of the region, highlighting the initiatives aimed at improving access to quality education and enhancing educational outcomes. \n",
      "\n",
      "In conclusion, this article provides a comprehensive analysis of the education system in Central Asia during the late 20th and early 21st centuries. It sheds light on the shortcomings and challenges faced by the countries that gained independence from the USSR,\n"
     ]
    }
   ],
   "source": [
    "ai_abstracts = []\n",
    "for file in os.listdir(\"prompts/templateVars/val\"):\n",
    "    with open(f\"prompts/templateVars/val/{file}\", \"r\") as infile:\n",
    "        if file.endswith(\".json\") and file.startswith(\"2022\") and \"translated\" not in file:\n",
    "            article = json.load(infile)\n",
    "        else:\n",
    "            continue\n",
    "    ai_abstracts.append(article[\"ai_abstract\"])\n",
    "print(f\"Number of ChatGPT rewritten abstracts: {len(ai_abstracts)}\")\n",
    "print(ai_abstracts[0])"
   ]
  },
  {
   "cell_type": "code",
   "execution_count": 9,
   "metadata": {},
   "outputs": [
    {
     "name": "stderr",
     "output_type": "stream",
     "text": [
      "Sentence tokenizing human abstracts: 100%|██████████| 26094/26094 [11:08<00:00, 39.01it/s]\n",
      "Sentence tokenizing AI abstracts: 100%|██████████| 6568/6568 [05:15<00:00, 20.85it/s]\n"
     ]
    },
    {
     "name": "stdout",
     "output_type": "stream",
     "text": [
      "Human sentences: 196928\n",
      "AI sentences: 110045\n"
     ]
    }
   ],
   "source": [
    "val_corpus = [sent_tokenize(abstract) for abstract in tqdm(val_abstracts, desc=\"Sentence tokenizing human abstracts\")]\n",
    "ai_corpus = [sent_tokenize(abstract) for abstract in tqdm(ai_abstracts, desc=\"Sentence tokenizing AI abstracts\")]\n",
    "val_sents = [sent for abstract in val_corpus for sent in abstract if len(sent) > 1]\n",
    "ai_sents = [sent for abstract in ai_corpus for sent in abstract if len(sent) > 1]\n",
    "print(f\"Human sentences: {len(val_sents)}\")\n",
    "print(f\"AI sentences: {len(ai_sents)}\")"
   ]
  },
  {
   "cell_type": "code",
   "execution_count": 10,
   "metadata": {},
   "outputs": [
    {
     "name": "stdout",
     "output_type": "stream",
     "text": [
      "Generated validation set with alpha=0, containing 196928 sentences.\n",
      "Generated validation set with alpha=0.025, containing 196928 sentences.\n",
      "Generated validation set with alpha=0.05, containing 196928 sentences.\n",
      "Generated validation set with alpha=0.075, containing 196928 sentences.\n",
      "Generated validation set with alpha=0.1, containing 196928 sentences.\n",
      "Generated validation set with alpha=0.125, containing 196928 sentences.\n",
      "Generated validation set with alpha=0.15, containing 196928 sentences.\n",
      "Generated validation set with alpha=0.175, containing 196928 sentences.\n",
      "Generated validation set with alpha=0.2, containing 196928 sentences.\n",
      "Generated validation set with alpha=0.225, containing 196928 sentences.\n",
      "Generated validation set with alpha=0.25, containing 196928 sentences.\n"
     ]
    }
   ],
   "source": [
    "for alpha in [0, 0.025, 0.05, 0.075, 0.1, 0.125, 0.15, 0.175, 0.2, 0.225, 0.25]:\n",
    "    num_ai_sents = int(len(val_sents) * alpha)\n",
    "    sampled_ai_sents = random.sample(ai_sents, num_ai_sents)\n",
    "    sampled_human_sents = random.sample(val_sents, len(val_sents) - num_ai_sents)\n",
    "    val_set = pd.DataFrame({\"inference_sentence\": sampled_ai_sents + sampled_human_sents})\n",
    "    val_set.to_parquet(f\"data/validation_data/ojs_ed/ground_truth_alpha_{alpha}.parquet\")\n",
    "    print(f\"Generated validation set with alpha={alpha}, containing {len(val_set)} sentences.\")"
   ]
  },
  {
   "cell_type": "markdown",
   "metadata": {},
   "source": [
    "### Translated English validation data"
   ]
  },
  {
   "cell_type": "code",
   "execution_count": 7,
   "metadata": {},
   "outputs": [
    {
     "name": "stdout",
     "output_type": "stream",
     "text": [
      "Number of human (+google?) abstracts: 17385\n"
     ]
    },
    {
     "data": {
      "text/html": [
       "<div>\n",
       "<style scoped>\n",
       "    .dataframe tbody tr th:only-of-type {\n",
       "        vertical-align: middle;\n",
       "    }\n",
       "\n",
       "    .dataframe tbody tr th {\n",
       "        vertical-align: top;\n",
       "    }\n",
       "\n",
       "    .dataframe thead th {\n",
       "        text-align: right;\n",
       "    }\n",
       "</style>\n",
       "<table border=\"1\" class=\"dataframe\">\n",
       "  <thead>\n",
       "    <tr style=\"text-align: right;\">\n",
       "      <th></th>\n",
       "      <th>month</th>\n",
       "      <th>count</th>\n",
       "    </tr>\n",
       "  </thead>\n",
       "  <tbody>\n",
       "    <tr>\n",
       "      <th>10</th>\n",
       "      <td>2022-01-01</td>\n",
       "      <td>1656</td>\n",
       "    </tr>\n",
       "    <tr>\n",
       "      <th>2</th>\n",
       "      <td>2022-02-01</td>\n",
       "      <td>1044</td>\n",
       "    </tr>\n",
       "    <tr>\n",
       "      <th>8</th>\n",
       "      <td>2022-03-01</td>\n",
       "      <td>1558</td>\n",
       "    </tr>\n",
       "    <tr>\n",
       "      <th>0</th>\n",
       "      <td>2022-04-01</td>\n",
       "      <td>1541</td>\n",
       "    </tr>\n",
       "    <tr>\n",
       "      <th>4</th>\n",
       "      <td>2022-05-01</td>\n",
       "      <td>1441</td>\n",
       "    </tr>\n",
       "    <tr>\n",
       "      <th>7</th>\n",
       "      <td>2022-06-01</td>\n",
       "      <td>2698</td>\n",
       "    </tr>\n",
       "    <tr>\n",
       "      <th>5</th>\n",
       "      <td>2022-07-01</td>\n",
       "      <td>1588</td>\n",
       "    </tr>\n",
       "    <tr>\n",
       "      <th>6</th>\n",
       "      <td>2022-08-01</td>\n",
       "      <td>1487</td>\n",
       "    </tr>\n",
       "    <tr>\n",
       "      <th>1</th>\n",
       "      <td>2022-09-01</td>\n",
       "      <td>1564</td>\n",
       "    </tr>\n",
       "    <tr>\n",
       "      <th>3</th>\n",
       "      <td>2022-10-01</td>\n",
       "      <td>1351</td>\n",
       "    </tr>\n",
       "    <tr>\n",
       "      <th>9</th>\n",
       "      <td>2022-11-01</td>\n",
       "      <td>1457</td>\n",
       "    </tr>\n",
       "  </tbody>\n",
       "</table>\n",
       "</div>"
      ],
      "text/plain": [
       "        month  count\n",
       "10 2022-01-01   1656\n",
       "2  2022-02-01   1044\n",
       "8  2022-03-01   1558\n",
       "0  2022-04-01   1541\n",
       "4  2022-05-01   1441\n",
       "7  2022-06-01   2698\n",
       "5  2022-07-01   1588\n",
       "6  2022-08-01   1487\n",
       "1  2022-09-01   1564\n",
       "3  2022-10-01   1351\n",
       "9  2022-11-01   1457"
      ]
     },
     "execution_count": 7,
     "metadata": {},
     "output_type": "execute_result"
    }
   ],
   "source": [
    "with open(\"data/json/engEd.json\", \"r\") as infile:\n",
    "    engEd = json.load(infile)\n",
    "val = {} # Jan - Nov 2022\n",
    "for month, articles in engEd.items():\n",
    "    if month.endswith(\"22\"):\n",
    "        val[month] = articles\n",
    "val_abstracts = [unescape(article[\"description\"][0]) for articles in val.values() for article in articles]\n",
    "print(f\"Number of human (+google?) abstracts: {len(val_abstracts)}\")\n",
    "counts_by_month(val)"
   ]
  },
  {
   "cell_type": "code",
   "execution_count": 8,
   "metadata": {},
   "outputs": [
    {
     "name": "stdout",
     "output_type": "stream",
     "text": [
      "Number of ChatGPT rewritten abstracts: 5195\n",
      "The abstract provides information about the principles and regulations of pedagogy in vocational education, as well as the conditions for the implementation of the technical principle. It also highlights the principles of education and upbringing. The article focuses on the students' attitudes towards the educational process and the importance of pedagogical principles in shaping their knowledge and skills.\n",
      "\n",
      "The study explores the role of pedagogical principles in the educational process of students in vocational education. It emphasizes the significance of these principles in guiding the teaching and learning activities. The authors discuss the importance of adhering to pedagogical regulations and principles in order to create an effective learning environment.\n",
      "\n",
      "The article also delves into the regulations and principles of pedagogy in vocational education. It highlights the need for educators to be familiar with these regulations and principles in order to effectively implement them in their teaching practices. The authors emphasize the importance of understanding the conditions required for the technical principle to be applied successfully.\n",
      "\n",
      "Furthermore, the article provides insights into the principles of education and upbringing. It emphasizes the role of these principles in shaping students' knowledge, skills, and attitudes. The authors argue that by adhering to these principles, educators can create a positive and conducive learning environment that promotes students' holistic development.\n",
      "\n",
      "The study concludes by emphasizing the importance of pedagogical principles in vocational education. It highlights the need for educators to be knowledgeable about these principles and to apply them effectively in their teaching practices. The authors suggest that by doing so, educators can enhance the quality of education and contribute to the overall development of students.\n",
      "\n",
      "In summary, this article provides a comprehensive overview of the principles and regulations of pedagogy in vocational education. It emphasizes the importance of adhering to these principles in order to create an effective learning environment. The study highlights the role of pedagogical principles in shaping students' knowledge, skills, and attitudes, and emphasizes the need for educators to be familiar with these principles and apply them effectively in their teaching practices.\n"
     ]
    }
   ],
   "source": [
    "ai_abstracts = []\n",
    "for file in os.listdir(\"prompts/templateVars/val\"):\n",
    "    with open(f\"prompts/templateVars/val/{file}\", \"r\") as infile:\n",
    "        if file.endswith(\".json\") and file.startswith(\"2022\") and \"translated\" in file:\n",
    "            article = json.load(infile)\n",
    "        else:\n",
    "            continue\n",
    "    ai_abstracts.append(article[\"ai_abstract\"])\n",
    "print(f\"Number of ChatGPT rewritten abstracts: {len(ai_abstracts)}\")\n",
    "print(ai_abstracts[0])"
   ]
  },
  {
   "cell_type": "code",
   "execution_count": 9,
   "metadata": {},
   "outputs": [
    {
     "name": "stderr",
     "output_type": "stream",
     "text": [
      "Sentence tokenizing human abstracts: 100%|██████████| 17385/17385 [08:08<00:00, 35.56it/s]\n",
      "Sentence tokenizing AI abstracts: 100%|██████████| 5195/5195 [02:53<00:00, 30.00it/s]"
     ]
    },
    {
     "name": "stdout",
     "output_type": "stream",
     "text": [
      "Human sentences: 119340\n",
      "AI sentences: 46502\n"
     ]
    },
    {
     "name": "stderr",
     "output_type": "stream",
     "text": [
      "\n"
     ]
    }
   ],
   "source": [
    "val_corpus = [sent_tokenize(abstract) for abstract in tqdm(val_abstracts, desc=\"Sentence tokenizing human abstracts\")]\n",
    "ai_corpus = [sent_tokenize(abstract) for abstract in tqdm(ai_abstracts, desc=\"Sentence tokenizing AI abstracts\")]\n",
    "val_sents = [sent for abstract in val_corpus for sent in abstract if len(sent) > 1]\n",
    "ai_sents = [sent for abstract in ai_corpus for sent in abstract if len(sent) > 1]\n",
    "print(f\"Human sentences: {len(val_sents)}\")\n",
    "print(f\"AI sentences: {len(ai_sents)}\")"
   ]
  },
  {
   "cell_type": "code",
   "execution_count": 10,
   "metadata": {},
   "outputs": [
    {
     "name": "stdout",
     "output_type": "stream",
     "text": [
      "Generated validation set with alpha=0, containing 119340 sentences.\n",
      "Generated validation set with alpha=0.025, containing 119340 sentences.\n",
      "Generated validation set with alpha=0.05, containing 119340 sentences.\n",
      "Generated validation set with alpha=0.075, containing 119340 sentences.\n",
      "Generated validation set with alpha=0.1, containing 119340 sentences.\n",
      "Generated validation set with alpha=0.125, containing 119340 sentences.\n",
      "Generated validation set with alpha=0.15, containing 119340 sentences.\n",
      "Generated validation set with alpha=0.175, containing 119340 sentences.\n",
      "Generated validation set with alpha=0.2, containing 119340 sentences.\n",
      "Generated validation set with alpha=0.225, containing 119340 sentences.\n",
      "Generated validation set with alpha=0.25, containing 119340 sentences.\n"
     ]
    }
   ],
   "source": [
    "for alpha in [0, 0.025, 0.05, 0.075, 0.1, 0.125, 0.15, 0.175, 0.2, 0.225, 0.25]:\n",
    "    num_ai_sents = int(len(val_sents) * alpha)\n",
    "    sampled_ai_sents = random.sample(ai_sents, num_ai_sents)\n",
    "    sampled_human_sents = random.sample(val_sents, len(val_sents) - num_ai_sents)\n",
    "    val_set = pd.DataFrame({\"inference_sentence\": sampled_ai_sents + sampled_human_sents})\n",
    "    val_set.to_parquet(f\"data/validation_data/ojs_ed/translated/ground_truth_alpha_{alpha}.parquet\")\n",
    "    print(f\"Generated validation set with alpha={alpha}, containing {len(val_set)} sentences.\")"
   ]
  },
  {
   "cell_type": "markdown",
   "metadata": {},
   "source": [
    "## Test\n",
    "Jan 2023 - Mar 2024 data"
   ]
  }
 ],
 "metadata": {
  "kernelspec": {
   "display_name": "nlu",
   "language": "python",
   "name": "python3"
  },
  "language_info": {
   "codemirror_mode": {
    "name": "ipython",
    "version": 3
   },
   "file_extension": ".py",
   "mimetype": "text/x-python",
   "name": "python",
   "nbconvert_exporter": "python",
   "pygments_lexer": "ipython3",
   "version": "3.12.3"
  },
  "orig_nbformat": 4
 },
 "nbformat": 4,
 "nbformat_minor": 2
}
