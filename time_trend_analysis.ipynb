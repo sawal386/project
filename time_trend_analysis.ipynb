{
 "cells": [
  {
   "cell_type": "markdown",
   "id": "72d57f07-0550-4263-808c-a82ee820d2c7",
   "metadata": {},
   "source": [
    "Here, we perform a time-trend analysis i.e. compute how $\\alpha$ changes over time. "
   ]
  },
  {
   "cell_type": "code",
   "execution_count": 1,
   "id": "b685e4c1-cd11-423a-92d4-d6629791f28f",
   "metadata": {},
   "outputs": [],
   "source": [
    "from base import * \n",
    "import pandas as pd \n",
    "import os \n",
    "import pickle \n",
    "from pathlib import Path \n",
    "from src.estimation import estimate_text_distribution\n",
    "from src.MLE import MLE\n",
    "import warnings\n",
    "import matplotlib.pyplot as plt \n",
    "import numpy as np \n",
    "warnings.filterwarnings(\"ignore\")"
   ]
  },
  {
   "cell_type": "code",
   "execution_count": 2,
   "id": "8ed3e6c1-afc5-487f-a969-c09e92c76726",
   "metadata": {},
   "outputs": [],
   "source": [
    "subject = \"education\"\n",
    "base_loc = f\"inference_data/{subject}\"\n",
    "years = [2023, 2022, 2021]\n",
    "dest = Path(\"inference_data/parquet_files/{}\".format(subject))"
   ]
  },
  {
   "cell_type": "markdown",
   "id": "5e461ab0-b843-4eb3-ab82-4f4cbc587a4a",
   "metadata": {},
   "source": [
    "### First step is to generate the parquet files. \n",
    "### Skip this if you have already generated the files. \n",
    "\n",
    "Also, note that the parquet files are  generated from a saved pkl instance of ArticleCollection. The details on this can be found at main_generate.py and scripts/generate_data.sh. The latter is a bash script I used to generate the data. "
   ]
  },
  {
   "cell_type": "code",
   "execution_count": 3,
   "id": "0b6817a2-6d44-45a4-b254-5e242611cb2e",
   "metadata": {},
   "outputs": [
    {
     "name": "stdout",
     "output_type": "stream",
     "text": [
      "Exporting parquet\n"
     ]
    },
    {
     "name": "stderr",
     "output_type": "stream",
     "text": [
      "100%|███████████████████████████████████████████████████████████████████████████████████████████| 3090/3090 [01:24<00:00, 36.61it/s]\n"
     ]
    },
    {
     "name": "stdout",
     "output_type": "stream",
     "text": [
      "File Exported as: inference_data/parquet_files/education/2023/education_2023_11.parquet\n",
      "Exporting parquet\n"
     ]
    },
    {
     "name": "stderr",
     "output_type": "stream",
     "text": [
      "100%|███████████████████████████████████████████████████████████████████████████████████████████| 2677/2677 [01:15<00:00, 35.63it/s]\n"
     ]
    },
    {
     "name": "stdout",
     "output_type": "stream",
     "text": [
      "File Exported as: inference_data/parquet_files/education/2023/education_2023_1.parquet\n",
      "Exporting parquet\n"
     ]
    },
    {
     "name": "stderr",
     "output_type": "stream",
     "text": [
      "100%|███████████████████████████████████████████████████████████████████████████████████████████| 2878/2878 [01:17<00:00, 37.15it/s]\n"
     ]
    },
    {
     "name": "stdout",
     "output_type": "stream",
     "text": [
      "File Exported as: inference_data/parquet_files/education/2023/education_2023_10.parquet\n",
      "Exporting parquet\n"
     ]
    },
    {
     "name": "stderr",
     "output_type": "stream",
     "text": [
      "100%|███████████████████████████████████████████████████████████████████████████████████████████| 4704/4704 [02:01<00:00, 38.68it/s]\n"
     ]
    },
    {
     "name": "stdout",
     "output_type": "stream",
     "text": [
      "File Exported as: inference_data/parquet_files/education/2023/education_2023_12.parquet\n",
      "Exporting parquet\n"
     ]
    },
    {
     "name": "stderr",
     "output_type": "stream",
     "text": [
      "100%|███████████████████████████████████████████████████████████████████████████████████████████| 3504/3504 [01:29<00:00, 39.23it/s]\n"
     ]
    },
    {
     "name": "stdout",
     "output_type": "stream",
     "text": [
      "File Exported as: inference_data/parquet_files/education/2023/education_2023_3.parquet\n",
      "Exporting parquet\n"
     ]
    },
    {
     "name": "stderr",
     "output_type": "stream",
     "text": [
      "100%|███████████████████████████████████████████████████████████████████████████████████████████| 2532/2532 [01:04<00:00, 39.31it/s]\n"
     ]
    },
    {
     "name": "stdout",
     "output_type": "stream",
     "text": [
      "File Exported as: inference_data/parquet_files/education/2023/education_2023_2.parquet\n",
      "Exporting parquet\n"
     ]
    },
    {
     "name": "stderr",
     "output_type": "stream",
     "text": [
      "100%|███████████████████████████████████████████████████████████████████████████████████████████| 4869/4869 [02:09<00:00, 37.62it/s]\n"
     ]
    },
    {
     "name": "stdout",
     "output_type": "stream",
     "text": [
      "File Exported as: inference_data/parquet_files/education/2023/education_2023_6.parquet\n",
      "Exporting parquet\n"
     ]
    },
    {
     "name": "stderr",
     "output_type": "stream",
     "text": [
      "100%|███████████████████████████████████████████████████████████████████████████████████████████| 3365/3365 [01:34<00:00, 35.65it/s]\n"
     ]
    },
    {
     "name": "stdout",
     "output_type": "stream",
     "text": [
      "File Exported as: inference_data/parquet_files/education/2023/education_2023_7.parquet\n",
      "Exporting parquet\n"
     ]
    },
    {
     "name": "stderr",
     "output_type": "stream",
     "text": [
      "100%|███████████████████████████████████████████████████████████████████████████████████████████| 3737/3737 [01:29<00:00, 41.79it/s]\n"
     ]
    },
    {
     "name": "stdout",
     "output_type": "stream",
     "text": [
      "File Exported as: inference_data/parquet_files/education/2023/education_2023_5.parquet\n",
      "Exporting parquet\n"
     ]
    },
    {
     "name": "stderr",
     "output_type": "stream",
     "text": [
      "100%|███████████████████████████████████████████████████████████████████████████████████████████| 3573/3573 [01:28<00:00, 40.22it/s]\n"
     ]
    },
    {
     "name": "stdout",
     "output_type": "stream",
     "text": [
      "File Exported as: inference_data/parquet_files/education/2023/education_2023_4.parquet\n",
      "Exporting parquet\n"
     ]
    },
    {
     "name": "stderr",
     "output_type": "stream",
     "text": [
      "100%|███████████████████████████████████████████████████████████████████████████████████████████| 2752/2752 [01:16<00:00, 36.06it/s]\n"
     ]
    },
    {
     "name": "stdout",
     "output_type": "stream",
     "text": [
      "File Exported as: inference_data/parquet_files/education/2023/education_2023_9.parquet\n",
      "Exporting parquet\n"
     ]
    },
    {
     "name": "stderr",
     "output_type": "stream",
     "text": [
      "100%|███████████████████████████████████████████████████████████████████████████████████████████| 2926/2926 [02:45<00:00, 17.68it/s]\n"
     ]
    },
    {
     "name": "stdout",
     "output_type": "stream",
     "text": [
      "File Exported as: inference_data/parquet_files/education/2023/education_2023_8.parquet\n",
      "Exporting parquet\n"
     ]
    },
    {
     "name": "stderr",
     "output_type": "stream",
     "text": [
      "100%|███████████████████████████████████████████████████████████████████████████████████████████| 2403/2403 [03:22<00:00, 11.90it/s]\n"
     ]
    },
    {
     "name": "stdout",
     "output_type": "stream",
     "text": [
      "File Exported as: inference_data/parquet_files/education/2022/education_2022_3.parquet\n",
      "Exporting parquet\n"
     ]
    },
    {
     "name": "stderr",
     "output_type": "stream",
     "text": [
      "100%|███████████████████████████████████████████████████████████████████████████████████████████| 2198/2198 [03:06<00:00, 11.76it/s]\n"
     ]
    },
    {
     "name": "stdout",
     "output_type": "stream",
     "text": [
      "File Exported as: inference_data/parquet_files/education/2022/education_2022_2.parquet\n",
      "Exporting parquet\n"
     ]
    },
    {
     "name": "stderr",
     "output_type": "stream",
     "text": [
      "100%|███████████████████████████████████████████████████████████████████████████████████████████| 2098/2098 [03:07<00:00, 11.21it/s]\n"
     ]
    },
    {
     "name": "stdout",
     "output_type": "stream",
     "text": [
      "File Exported as: inference_data/parquet_files/education/2022/education_2022_1.parquet\n",
      "Exporting parquet\n"
     ]
    },
    {
     "name": "stderr",
     "output_type": "stream",
     "text": [
      "100%|███████████████████████████████████████████████████████████████████████████████████████████| 2292/2292 [03:15<00:00, 11.73it/s]\n"
     ]
    },
    {
     "name": "stdout",
     "output_type": "stream",
     "text": [
      "File Exported as: inference_data/parquet_files/education/2022/education_2022_5.parquet\n",
      "Exporting parquet\n"
     ]
    },
    {
     "name": "stderr",
     "output_type": "stream",
     "text": [
      "100%|███████████████████████████████████████████████████████████████████████████████████████████| 2489/2489 [03:37<00:00, 11.44it/s]\n"
     ]
    },
    {
     "name": "stdout",
     "output_type": "stream",
     "text": [
      "File Exported as: inference_data/parquet_files/education/2022/education_2022_4.parquet\n",
      "Exporting parquet\n"
     ]
    },
    {
     "name": "stderr",
     "output_type": "stream",
     "text": [
      "100%|███████████████████████████████████████████████████████████████████████████████████████████| 3870/3870 [05:40<00:00, 11.37it/s]\n"
     ]
    },
    {
     "name": "stdout",
     "output_type": "stream",
     "text": [
      "File Exported as: inference_data/parquet_files/education/2022/education_2022_6.parquet\n",
      "Exporting parquet\n"
     ]
    },
    {
     "name": "stderr",
     "output_type": "stream",
     "text": [
      "100%|███████████████████████████████████████████████████████████████████████████████████████████| 2181/2181 [03:15<00:00, 11.13it/s]\n"
     ]
    },
    {
     "name": "stdout",
     "output_type": "stream",
     "text": [
      "File Exported as: inference_data/parquet_files/education/2022/education_2022_7.parquet\n",
      "Exporting parquet\n"
     ]
    },
    {
     "name": "stderr",
     "output_type": "stream",
     "text": [
      "100%|███████████████████████████████████████████████████████████████████████████████████████████| 4669/4669 [06:51<00:00, 11.34it/s]\n"
     ]
    },
    {
     "name": "stdout",
     "output_type": "stream",
     "text": [
      "File Exported as: inference_data/parquet_files/education/2022/education_2022_12.parquet\n",
      "Exporting parquet\n"
     ]
    },
    {
     "name": "stderr",
     "output_type": "stream",
     "text": [
      "100%|███████████████████████████████████████████████████████████████████████████████████████████| 2348/2348 [03:34<00:00, 10.92it/s]\n"
     ]
    },
    {
     "name": "stdout",
     "output_type": "stream",
     "text": [
      "File Exported as: inference_data/parquet_files/education/2022/education_2022_9.parquet\n",
      "Exporting parquet\n"
     ]
    },
    {
     "name": "stderr",
     "output_type": "stream",
     "text": [
      "100%|███████████████████████████████████████████████████████████████████████████████████████████| 2481/2481 [03:34<00:00, 11.57it/s]\n"
     ]
    },
    {
     "name": "stdout",
     "output_type": "stream",
     "text": [
      "File Exported as: inference_data/parquet_files/education/2022/education_2022_10.parquet\n",
      "Exporting parquet\n"
     ]
    },
    {
     "name": "stderr",
     "output_type": "stream",
     "text": [
      "100%|███████████████████████████████████████████████████████████████████████████████████████████| 3044/3044 [04:20<00:00, 11.69it/s]\n"
     ]
    },
    {
     "name": "stdout",
     "output_type": "stream",
     "text": [
      "File Exported as: inference_data/parquet_files/education/2022/education_2022_11.parquet\n",
      "Exporting parquet\n"
     ]
    },
    {
     "name": "stderr",
     "output_type": "stream",
     "text": [
      "100%|███████████████████████████████████████████████████████████████████████████████████████████| 2130/2130 [03:16<00:00, 10.86it/s]\n"
     ]
    },
    {
     "name": "stdout",
     "output_type": "stream",
     "text": [
      "File Exported as: inference_data/parquet_files/education/2022/education_2022_8.parquet\n",
      "Exporting parquet\n"
     ]
    },
    {
     "name": "stderr",
     "output_type": "stream",
     "text": [
      "100%|███████████████████████████████████████████████████████████████████████████████████████████| 1641/1641 [02:27<00:00, 11.12it/s]\n"
     ]
    },
    {
     "name": "stdout",
     "output_type": "stream",
     "text": [
      "File Exported as: inference_data/parquet_files/education/2021/education_2021_2.parquet\n",
      "Exporting parquet\n"
     ]
    },
    {
     "name": "stderr",
     "output_type": "stream",
     "text": [
      "100%|███████████████████████████████████████████████████████████████████████████████████████████| 2152/2152 [03:13<00:00, 11.12it/s]\n"
     ]
    },
    {
     "name": "stdout",
     "output_type": "stream",
     "text": [
      "File Exported as: inference_data/parquet_files/education/2021/education_2021_3.parquet\n",
      "Exporting parquet\n"
     ]
    },
    {
     "name": "stderr",
     "output_type": "stream",
     "text": [
      "100%|███████████████████████████████████████████████████████████████████████████████████████████| 1778/1778 [02:45<00:00, 10.77it/s]\n"
     ]
    },
    {
     "name": "stdout",
     "output_type": "stream",
     "text": [
      "File Exported as: inference_data/parquet_files/education/2021/education_2021_1.parquet\n",
      "Exporting parquet\n"
     ]
    },
    {
     "name": "stderr",
     "output_type": "stream",
     "text": [
      "100%|███████████████████████████████████████████████████████████████████████████████████████████| 3959/3959 [04:18<00:00, 15.34it/s]\n"
     ]
    },
    {
     "name": "stdout",
     "output_type": "stream",
     "text": [
      "File Exported as: inference_data/parquet_files/education/2021/education_2021_12.parquet\n",
      "Exporting parquet\n"
     ]
    },
    {
     "name": "stderr",
     "output_type": "stream",
     "text": [
      "100%|███████████████████████████████████████████████████████████████████████████████████████████| 2256/2256 [01:03<00:00, 35.50it/s]\n"
     ]
    },
    {
     "name": "stdout",
     "output_type": "stream",
     "text": [
      "File Exported as: inference_data/parquet_files/education/2021/education_2021_4.parquet\n",
      "Exporting parquet\n"
     ]
    },
    {
     "name": "stderr",
     "output_type": "stream",
     "text": [
      "100%|███████████████████████████████████████████████████████████████████████████████████████████| 2421/2421 [01:07<00:00, 35.89it/s]\n"
     ]
    },
    {
     "name": "stdout",
     "output_type": "stream",
     "text": [
      "File Exported as: inference_data/parquet_files/education/2021/education_2021_5.parquet\n",
      "Exporting parquet\n"
     ]
    },
    {
     "name": "stderr",
     "output_type": "stream",
     "text": [
      "100%|███████████████████████████████████████████████████████████████████████████████████████████| 2382/2382 [01:08<00:00, 34.84it/s]\n"
     ]
    },
    {
     "name": "stdout",
     "output_type": "stream",
     "text": [
      "File Exported as: inference_data/parquet_files/education/2021/education_2021_11.parquet\n",
      "Exporting parquet\n"
     ]
    },
    {
     "name": "stderr",
     "output_type": "stream",
     "text": [
      "100%|███████████████████████████████████████████████████████████████████████████████████████████| 2162/2162 [01:04<00:00, 33.69it/s]\n"
     ]
    },
    {
     "name": "stdout",
     "output_type": "stream",
     "text": [
      "File Exported as: inference_data/parquet_files/education/2021/education_2021_7.parquet\n",
      "Exporting parquet\n"
     ]
    },
    {
     "name": "stderr",
     "output_type": "stream",
     "text": [
      "100%|███████████████████████████████████████████████████████████████████████████████████████████| 3045/3045 [01:29<00:00, 33.89it/s]\n"
     ]
    },
    {
     "name": "stdout",
     "output_type": "stream",
     "text": [
      "File Exported as: inference_data/parquet_files/education/2021/education_2021_6.parquet\n",
      "Exporting parquet\n"
     ]
    },
    {
     "name": "stderr",
     "output_type": "stream",
     "text": [
      "100%|███████████████████████████████████████████████████████████████████████████████████████████| 2019/2019 [01:02<00:00, 32.18it/s]\n"
     ]
    },
    {
     "name": "stdout",
     "output_type": "stream",
     "text": [
      "File Exported as: inference_data/parquet_files/education/2021/education_2021_10.parquet\n",
      "Exporting parquet\n"
     ]
    },
    {
     "name": "stderr",
     "output_type": "stream",
     "text": [
      "100%|███████████████████████████████████████████████████████████████████████████████████████████| 2074/2074 [01:05<00:00, 31.52it/s]\n"
     ]
    },
    {
     "name": "stdout",
     "output_type": "stream",
     "text": [
      "File Exported as: inference_data/parquet_files/education/2021/education_2021_8.parquet\n",
      "Exporting parquet\n"
     ]
    },
    {
     "name": "stderr",
     "output_type": "stream",
     "text": [
      "100%|███████████████████████████████████████████████████████████████████████████████████████████| 2182/2182 [01:07<00:00, 32.34it/s]\n"
     ]
    },
    {
     "name": "stdout",
     "output_type": "stream",
     "text": [
      "File Exported as: inference_data/parquet_files/education/2021/education_2021_9.parquet\n"
     ]
    }
   ],
   "source": [
    "for year in years:\n",
    "    dest_year = dest / str(year)\n",
    "    dest_year.mkdir(parents=True, exist_ok=True)\n",
    "    for file in os.listdir(f\"{base_loc}/{year}\"):\n",
    "        if \"whole\" not in file:\n",
    "            full_path = f\"{base_loc}/{year}/{file}\"\n",
    "            with open(full_path, \"rb\") as f:\n",
    "                data = pickle.load(f)\n",
    "                name = file.strip(\".pkl\")\n",
    "                data.export_parquet(dest_year, name)"
   ]
  },
  {
   "cell_type": "markdown",
   "id": "25cb6890-a13a-47e7-8333-2dc81086bd17",
   "metadata": {},
   "source": [
    "### Estimate $\\alpha$ for different time-periods (separated montly)"
   ]
  },
  {
   "cell_type": "code",
   "execution_count": 4,
   "id": "44bc0195-f636-4380-a7d2-f48fae98b0eb",
   "metadata": {},
   "outputs": [
    {
     "name": "stdout",
     "output_type": "stream",
     "text": [
      "File: education_2024_1.parquet\n",
      "     0.257,     0.007\n",
      "File: education_2024_10.parquet\n",
      "ERROR\n",
      "File: education_2024_11.parquet\n",
      "ERROR\n",
      "File: education_2024_12.parquet\n",
      "     0.438,     0.343\n",
      "File: education_2024_2.parquet\n",
      "     0.293,     0.008\n",
      "File: education_2024_3.parquet\n",
      "     0.283,     0.008\n",
      "File: education_2024_4.parquet\n",
      "     0.296,     0.011\n",
      "File: education_2024_5.parquet\n",
      "     0.350,     0.161\n",
      "File: education_2024_6.parquet\n",
      "     0.206,     0.064\n",
      "File: education_2024_7.parquet\n",
      "ERROR\n",
      "File: education_2024_8.parquet\n",
      "     0.506,     0.174\n",
      "File: education_2024_9.parquet\n",
      "     0.000,     0.000\n",
      "File: education_2023_1.parquet\n",
      "     0.054,     0.004\n",
      "File: education_2023_10.parquet\n",
      "     0.184,     0.006\n",
      "File: education_2023_11.parquet\n",
      "     0.206,     0.006\n",
      "File: education_2023_12.parquet\n",
      "     0.224,     0.005\n",
      "File: education_2023_2.parquet\n",
      "     0.070,     0.005\n",
      "File: education_2023_3.parquet\n",
      "     0.097,     0.005\n",
      "File: education_2023_4.parquet\n",
      "     0.108,     0.005\n",
      "File: education_2023_5.parquet\n",
      "     0.123,     0.005\n",
      "File: education_2023_6.parquet\n",
      "     0.134,     0.004\n",
      "File: education_2023_7.parquet\n",
      "     0.140,     0.005\n",
      "File: education_2023_8.parquet\n",
      "     0.141,     0.005\n",
      "File: education_2023_9.parquet\n",
      "     0.192,     0.006\n",
      "File: education_2022_1.parquet\n",
      "     0.052,     0.005\n",
      "File: education_2022_10.parquet\n",
      "     0.064,     0.005\n",
      "File: education_2022_11.parquet\n",
      "     0.064,     0.004\n",
      "File: education_2022_12.parquet\n",
      "     0.059,     0.003\n",
      "File: education_2022_2.parquet\n",
      "     0.062,     0.005\n",
      "File: education_2022_3.parquet\n",
      "     0.056,     0.005\n",
      "File: education_2022_4.parquet\n",
      "     0.050,     0.004\n",
      "File: education_2022_5.parquet\n",
      "     0.064,     0.005\n",
      "File: education_2022_6.parquet\n",
      "     0.056,     0.004\n",
      "File: education_2022_7.parquet\n",
      "     0.054,     0.005\n",
      "File: education_2022_8.parquet\n",
      "     0.050,     0.004\n",
      "File: education_2022_9.parquet\n",
      "     0.057,     0.004\n",
      "File: education_2021_1.parquet\n",
      "     0.047,     0.005\n",
      "File: education_2021_10.parquet\n",
      "     0.050,     0.005\n",
      "File: education_2021_11.parquet\n",
      "     0.048,     0.004\n",
      "File: education_2021_12.parquet\n",
      "     0.047,     0.003\n",
      "File: education_2021_2.parquet\n",
      "     0.040,     0.005\n",
      "File: education_2021_3.parquet\n",
      "     0.047,     0.004\n",
      "File: education_2021_4.parquet\n",
      "     0.053,     0.005\n",
      "File: education_2021_5.parquet\n",
      "     0.059,     0.005\n",
      "File: education_2021_6.parquet\n",
      "     0.048,     0.004\n",
      "File: education_2021_7.parquet\n",
      "     0.047,     0.004\n",
      "File: education_2021_8.parquet\n",
      "     0.048,     0.005\n",
      "File: education_2021_9.parquet\n",
      "     0.053,     0.004\n"
     ]
    }
   ],
   "source": [
    "parquet_base_loc = \"inference_data/parquet_files/{}\".format(subject)\n",
    "name = \"ojs_ed\"\n",
    "# we will save all results into a dictionary\n",
    "all_results = {}\n",
    "\n",
    "## change the location if need be. \n",
    "model= MLE(f\"distribution/{name}.parquet\")\n",
    "\n",
    "for year in [2024, 2023, 2022, 2021]:\n",
    "    if year not in all_results:\n",
    "        all_results[year] = {}\n",
    "    parquet_year_path = \"{}/{}\".format(parquet_base_loc, year) \n",
    "    for f in sorted(os.listdir(parquet_year_path)):\n",
    "        if \".parquet\" in f and \"whole\" not in f:\n",
    "            print(\"File: {}\".format(f))\n",
    "            month = int(f.strip(\".parquet\").split(\"_\")[-1])\n",
    "            full_path = \"{}/{}\".format(parquet_year_path, f)\n",
    "            estimated,ci = model.inference(full_path,\n",
    "                                     ground_truth=None, save=False)\n",
    "            if estimated is not None and ci is not None :\n",
    "                print(f\"{estimated:10.3f},{ci:10.3f}\")\n",
    "                all_results[year][month] = (estimated, ci)"
   ]
  },
  {
   "cell_type": "markdown",
   "id": "9c66662f-9594-49ad-a030-68fdf5389f87",
   "metadata": {},
   "source": [
    "### Uncomment the cell below, if you haven't saved the results. "
   ]
  },
  {
   "cell_type": "code",
   "execution_count": 6,
   "id": "aaaa4e95-bda3-4d89-9e8b-8fd63a693a4c",
   "metadata": {},
   "outputs": [
    {
     "name": "stdout",
     "output_type": "stream",
     "text": [
      "{2024: {1: (0.257, 0.007), 12: (0.438, 0.343), 2: (0.293, 0.008), 3: (0.283, 0.008), 4: (0.296, 0.011), 5: (0.35, 0.161), 6: (0.206, 0.064), 8: (0.506, 0.174), 9: (0.0, 0.0)}, 2023: {1: (0.054, 0.004), 10: (0.184, 0.006), 11: (0.206, 0.006), 12: (0.224, 0.005), 2: (0.07, 0.005), 3: (0.097, 0.005), 4: (0.108, 0.005), 5: (0.123, 0.005), 6: (0.134, 0.004), 7: (0.14, 0.005), 8: (0.141, 0.005), 9: (0.192, 0.006)}, 2022: {1: (0.052, 0.005), 10: (0.064, 0.005), 11: (0.064, 0.004), 12: (0.059, 0.003), 2: (0.062, 0.005), 3: (0.056, 0.005), 4: (0.05, 0.004), 5: (0.064, 0.005), 6: (0.056, 0.004), 7: (0.054, 0.005), 8: (0.05, 0.004), 9: (0.057, 0.004)}, 2021: {1: (0.047, 0.005), 10: (0.05, 0.005), 11: (0.048, 0.004), 12: (0.047, 0.003), 2: (0.04, 0.005), 3: (0.047, 0.004), 4: (0.053, 0.005), 5: (0.059, 0.005), 6: (0.048, 0.004), 7: (0.047, 0.004), 8: (0.048, 0.005), 9: (0.053, 0.004)}}\n"
     ]
    }
   ],
   "source": [
    "#output_folder = Path(\"output\")\n",
    "#output_folder.mkdir(parents=True, exist_ok=True) \n",
    "#with open(output_folder / \"time_trend_results.pkl\", \"wb\") as f:\n",
    "#    pickle.dump(all_results, f) "
   ]
  },
  {
   "cell_type": "code",
   "execution_count": 23,
   "id": "3594c744-0784-4f14-8a94-0bef6e72ab6d",
   "metadata": {},
   "outputs": [
    {
     "data": {
      "text/plain": [
       "[<matplotlib.axis.XTick at 0x7fcc1b95cac0>,\n",
       " <matplotlib.axis.XTick at 0x7fcc1b95ca90>,\n",
       " <matplotlib.axis.XTick at 0x7fcc1b95c580>,\n",
       " <matplotlib.axis.XTick at 0x7fcc1bada040>,\n",
       " <matplotlib.axis.XTick at 0x7fcbd8093c70>,\n",
       " <matplotlib.axis.XTick at 0x7fcbd8097490>,\n",
       " <matplotlib.axis.XTick at 0x7fcbd8097c70>,\n",
       " <matplotlib.axis.XTick at 0x7fcc2c250490>,\n",
       " <matplotlib.axis.XTick at 0x7fcbd8097610>,\n",
       " <matplotlib.axis.XTick at 0x7fcbd80935b0>,\n",
       " <matplotlib.axis.XTick at 0x7fcc2c250fd0>,\n",
       " <matplotlib.axis.XTick at 0x7fcc2c2597f0>,\n",
       " <matplotlib.axis.XTick at 0x7fcc2c259fd0>,\n",
       " <matplotlib.axis.XTick at 0x7fcc2c259910>]"
      ]
     },
     "execution_count": 23,
     "metadata": {},
     "output_type": "execute_result"
    },
    {
     "data": {
      "image/png": "[encoded data removed]",
      "text/plain": [
       "<Figure size 640x480 with 1 Axes>"
      ]
     },
     "metadata": {},
     "output_type": "display_data"
    }
   ],
   "source": [
    "output_folder = Path(\"output\")\n",
    "output_folder.mkdir(parents=True, exist_ok=True) \n",
    "with open(output_folder / \"time_trend_results.pkl\", \"rb\") as f:\n",
    "    all_results = pickle.load(f)\n",
    "\n",
    "alpha_li = []\n",
    "ci_li = []\n",
    "x_lab = []\n",
    "for key1 in sorted(all_results.keys()):\n",
    "    for key2 in sorted(all_results[key1]):\n",
    "        if key1 != 2024:\n",
    "            alpha_li.append(all_results[key1][key2][0])\n",
    "            ci_li.append(all_results[key1][key2][1])\n",
    "        else:\n",
    "            if key2 < 5:\n",
    "                alpha_li.append(all_results[key1][key2][0])\n",
    "                ci_li.append(all_results[key1][key2][1])\n",
    "        x_lab.append(\"{}-{}\".format(key1, key2))\n",
    "\n",
    "alpha = np.asarray(alpha_li)\n",
    "ci = np.asarray(ci_li)\n",
    "time = np.asarray(x_lab[0:len(alpha_li)])\n",
    "xticks = np.arange(0, len(ci), 3)\n",
    "tick_labs = [x_lab[i] for i in xticks]\n",
    "fig = plt.figure()\n",
    "axes = fig.add_subplot(1, 1, 1) \n",
    "axes.set_xlabel(\"time\")\n",
    "axes.set_ylabel(r\"$\\alpha$\") \n",
    "axes.set_title(\"Change in proportion of Chat-GPT modified text over time\")\n",
    "axes.plot(np.arange(1, len(time)+1), alpha, \"-o\")\n",
    "axes.fill_between(np.arange(1, len(time)+1), (alpha-ci), (alpha+ci), \n",
    "                color='red', alpha=.2)\n",
    "axes.set_xticks(xticks, tick_labs, rotation=90)"
   ]
  },
  {
   "cell_type": "code",
   "execution_count": null,
   "id": "14211d88-6664-47d4-97a1-bda2922a8960",
   "metadata": {},
   "outputs": [],
   "source": []
  }
 ],
 "metadata": {
  "kernelspec": {
   "display_name": "Python 3 (ipykernel)",
   "language": "python",
   "name": "python3"
  },
  "language_info": {
   "codemirror_mode": {
    "name": "ipython",
    "version": 3
   },
   "file_extension": ".py",
   "mimetype": "text/x-python",
   "name": "python",
   "nbconvert_exporter": "python",
   "pygments_lexer": "ipython3",
   "version": "3.8.19"
  }
 },
 "nbformat": 4,
 "nbformat_minor": 5
}
